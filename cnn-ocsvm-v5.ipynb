{
 "cells": [
  {
   "cell_type": "markdown",
   "metadata": {},
   "source": [
    "Dataset [link](https://can01.safelinks.protection.outlook.com/?url=https%3A%2F%2Fdrive.google.com%2Fdrive%2Ffolders%2F1-6sd6E3cL8uWdNeO4xiXxLbTSYXSTiVr%3Fusp%3Dsharing&data=04%7C01%7Carash.gholami%40queensu.ca%7C92b180b5b67d475fb70e08d87b7f4305%7Cd61ecb3b38b142d582c4efb2838b925c%7C1%7C0%7C637395133804367020%7CUnknown%7CTWFpbGZsb3d8eyJWIjoiMC4wLjAwMDAiLCJQIjoiV2luMzIiLCJBTiI6Ik1haWwiLCJXVCI6Mn0%3D%7C1000&sdata=1ieR3E8llMblC0QMBtx1%2FpHS71RQuCxzdNQLmH0HJVU%3D&reserved=0)\n",
    "\n",
    "Explanation: There are **49** users' data here. Naming is in the format of Username_ExperimentNumber. Please also note that it is unprocessed raw data, which includes a lot of noise etc. \n",
    "\n",
    "Experiment-1: **20** participants are involved in this task and the participants were asked to type **a story** from **a set** of short and simple stories from the American Literature https://americanliterature.com/100-great-short-stories for **four minutes**. The story was chosen randomly by the participants.\n",
    "\n",
    "Experiment-2: 20 participants are involved in this task and for this data set, all the participants were asked to type the **same text** https://en.wikipedia.org/wiki/The_Adventures_of_Tom_Sawyer for **four minutes**. For each participant, almost the same amount of data is collected as Experiment-1. This dataset is important to be able to measure the quality of the features. The collection of this dataset is quite realistic since in a real case the users could be also asked to type a given text during their CA sessions. \n",
    "\n",
    "Experiment-3: The participants are asked to type **10 different pangram sentences**. Pangrams sentences contain** all 26 letters** of the alphabet. This data set is used to test how the **letter distribution** of text affects the result.\n",
    "\n",
    "Experiment-4: **34** participants are involved in this task and the participants were instructed to imitate someone else's typing pattern by watching the prerecorded video of the other person. For these experiments, one of the participants was recorded on video while typing a short and simple sentence for **15 seconds** from a perspective that the hand motions, smartwatch, keyboard, and the screen could be seen. Although it was not required, the perspective allowed to infer what the victim was typing by watching. This dataset was primarily used to analyze the **attacking scenarios**. It is left to the participant to type the exact same text or imitate the hand movement of the victim.\n",
    "\n",
    "-----------------------\n",
    "\n",
    "I realized that you have mostly 4s and 10s as values on column A, but I also found 2s. What does column A represent? \n",
    "A represents the sensor type:\n",
    " \n",
    "**10 for the accelerometer\n",
    "4 for the gyroscope**\n",
    "2 for the magnetic field sensor\n",
    "\n",
    "You can find more info about sensors and constant values that are used to define the sensor type in these links:\n",
    "- https://developer.android.com/guide/topics/sensors/sensors_overview\n",
    "- https://developer.android.com/reference/android/hardware/Sensor#TYPE_LINEAR_ACCELERATION\n",
    "\n",
    "Normally, I only collected and used accelerometer and gyroscope sensor data. Magnetometer data should not be in the dataset. If there is, that means it is an **outlier**.\n",
    " \n",
    "Is column B the time stamp, is it recorded at 100HZ?\n",
    "\n",
    "In an android app, you can set the sampling rate \"SENSOR_DELAY_NORMAL, SENSOR_DELAY_UI, SENSOR_DELAY_GAME, or SENSOR_DELAY_FASTEST \" \n",
    "\n",
    "As far as I remember I used **\"SENSOR_DELAY_FASTEST\" for all sensors**, but in practice, I had a lot of issues regarding this. They **don't give a constant sampling rate**. Every time I used they were giving different sampling rates. They were giving different sampling rates for two sessions of the same user, for different users, or for different sensors. Therefore, I would recommend using the one in the practice, which you can calculate using the timestamp and the sample count. \n",
    "\n",
    "On the paper you said you have recorded both accelerometer and gyro data; but you seem to only have one of them at a time on columns C, D, and F. I am guessing 10 on column A represents accelerometer and 4 gyro, but I could be wrong. \n",
    "Also, some rows have more columns, and start with 11 on column A. What do those represent?\n",
    "Please see the explanation above. \n",
    " \n",
    "\n",
    "In short, I would really appreciate it if you could let me know information I need to know for working with the data.\n",
    "\n",
    "Also, as these sensors were giving me a lot of headaches because they are really not stable, I needed to perform a lot of preprocessing. I **cleaned the outliers** before further processing. I also applied some other filtering techniques such as **moving average** to obtain more smooth data. Moreover, I needed to **clean the part the users are not performing typing operation from the beginning and end**, which you can see if you plot the values, i.e., the **user stops meaning no value and then big deviations, where the user takes off the smartwatch**."
   ]
  },
  {
   "cell_type": "code",
   "execution_count": 1,
   "metadata": {
    "_cell_guid": "b1076dfc-b9ad-4769-8c92-a6c4dae69d19",
    "_uuid": "8f2839f25d086af736a60e9eeb907d3b93b6e0e5",
    "tags": []
   },
   "outputs": [],
   "source": [
    "# This Python 3 environment comes with many helpful analytics libraries installed\n",
    "# It is defined by the kaggle/python Docker image: https://github.com/kaggle/docker-python\n",
    "# For example, here's several helpful packages to load\n",
    "\n",
    "# Input data files are available in the read-only \"../input/\" directory\n",
    "# For example, running this (by clicking run or pressing Shift+Enter) will list all files under the input directory\n",
    "\n",
    "CORES = -1\n",
    "SEED = 567\n",
    "\n",
    "import os\n",
    "for dirname, _, filenames in os.walk('/kaggle/input'):\n",
    "    for filename in filenames:\n",
    "        print(os.path.join(dirname, filename))\n",
    "\n",
    "# You can write up to 20GB to the current directory (/kaggle/working/) that gets preserved as output when you create a version using \"Save & Run All\" \n",
    "# You can also write temporary files to /kaggle/temp/, but they won't be saved outside of the current session"
   ]
  },
  {
   "cell_type": "code",
   "execution_count": 2,
   "metadata": {
    "tags": []
   },
   "outputs": [
    {
     "name": "stdout",
     "output_type": "stream",
     "text": [
      "Requirement already satisfied: pip in /opt/conda/lib/python3.9/site-packages (23.1.2)\n",
      "Requirement already satisfied: pip in /opt/conda/lib/python3.9/site-packages (23.1.2)\n",
      "Requirement already satisfied: pip in /opt/conda/lib/python3.9/site-packages (23.1.2)\n",
      "Requirement already satisfied: pip in /opt/conda/lib/python3.9/site-packages (23.1.2)\n",
      "Requirement already satisfied: pip in /opt/conda/lib/python3.9/site-packages (23.1.2)\n",
      "\u001b[32mSEED: 567\u001b[0m\n",
      "--------------------\u001b[32mSEED and CONSTANTS imported\u001b[0m--------------------\n",
      "\u001b[32mSEED: 567\u001b[0m\n",
      "Python 3.9.10\n",
      "--------------------\u001b[32mUtility functions imported\u001b[0m--------------------\n",
      "Requirement already satisfied: pip in /opt/conda/lib/python3.9/site-packages (23.1.2)\n",
      "\u001b[32mSEED: 567\u001b[0m\n",
      "--------------------\u001b[32mSEED and CONSTANTS imported\u001b[0m--------------------\n",
      "\u001b[32mSEED: 567\u001b[0m\n",
      "Python 3.9.10\n",
      "--------------------\u001b[32mPreprocessing utility functions imported\u001b[0m--------------------\n",
      "Requirement already satisfied: pip in /opt/conda/lib/python3.9/site-packages (23.1.2)\n",
      "\u001b[32mSEED: 567\u001b[0m\n",
      "--------------------\u001b[32mSEED and CONSTANTS imported\u001b[0m--------------------\n",
      "\u001b[32mSEED: 567\u001b[0m\n",
      "Python 3.9.10\n",
      "--------------------\u001b[32mNeural Networks utility functions imported\u001b[0m--------------------\n",
      "Requirement already satisfied: pip in /opt/conda/lib/python3.9/site-packages (23.1.2)\n",
      "Requirement already satisfied: pip in /opt/conda/lib/python3.9/site-packages (23.1.2)\n",
      "Requirement already satisfied: pip in /opt/conda/lib/python3.9/site-packages (23.1.2)\n",
      "Requirement already satisfied: pip in /opt/conda/lib/python3.9/site-packages (23.1.2)\n",
      "\u001b[32mSEED: 567\u001b[0m\n",
      "--------------------\u001b[32mSEED and CONSTANTS imported\u001b[0m--------------------\n",
      "\u001b[32mSEED: 567\u001b[0m\n",
      "Python 3.9.10\n",
      "--------------------\u001b[32mUtility functions imported\u001b[0m--------------------\n",
      "Requirement already satisfied: pip in /opt/conda/lib/python3.9/site-packages (23.1.2)\n",
      "\u001b[32mSEED: 567\u001b[0m\n",
      "--------------------\u001b[32mSEED and CONSTANTS imported\u001b[0m--------------------\n",
      "\u001b[32mSEED: 567\u001b[0m\n",
      "Python 3.9.10\n",
      "--------------------\u001b[32mPreprocessing utility functions imported\u001b[0m--------------------\n",
      "Requirement already satisfied: pip in /opt/conda/lib/python3.9/site-packages (23.1.2)\n",
      "\u001b[32mSEED: 567\u001b[0m\n",
      "--------------------\u001b[32mSEED and CONSTANTS imported\u001b[0m--------------------\n",
      "\u001b[32mSEED: 567\u001b[0m\n",
      "Python 3.9.10\n",
      "--------------------\u001b[32mWACA utility functions imported\u001b[0m--------------------\n",
      "Requirement already satisfied: pip in /opt/conda/lib/python3.9/site-packages (23.1.2)\n",
      "\u001b[32mSEED: 567\u001b[0m\n",
      "--------------------\u001b[32mSEED and CONSTANTS imported\u001b[0m--------------------\n",
      "\u001b[32mSEED: 567\u001b[0m\n",
      "Python 3.9.10\n",
      "--------------------\u001b[32mClassification utility functions imported\u001b[0m--------------------\n",
      "Requirement already satisfied: pip in /opt/conda/lib/python3.9/site-packages (23.1.2)\n",
      "\u001b[32mSEED: 567\u001b[0m\n",
      "--------------------\u001b[32mSEED and CONSTANTS imported\u001b[0m--------------------\n",
      "Seed was set to: 567\n",
      "Setup Complete\n"
     ]
    }
   ],
   "source": [
    "# !pip install --upgrade pip\n",
    "# !pip install python-docx\n",
    "# !pip install antropy\n",
    "\n",
    "\n",
    "from joblib import Parallel, delayed\n",
    "\n",
    "import tensorflow as tf\n",
    "import numpy as np # linear algebra\n",
    "import pandas as pd # data processing, CSV file I/O (e.g. pd.read_csv)\n",
    "import dataclasses\n",
    "import math as math\n",
    "from sklearn.svm import OneClassSVM\n",
    "from sklearn.model_selection import cross_validate, RandomizedSearchCV\n",
    "import statsmodels.stats.api as sms\n",
    "from tqdm.auto import tqdm\n",
    "from dataclasses import asdict\n",
    "from sklearn import svm\n",
    "from tqdm import tqdm\n",
    "import warnings\n",
    "import random\n",
    "from sklearn.discriminant_analysis import LinearDiscriminantAnalysis as LDA\n",
    "from sklearn.decomposition import PCA\n",
    "from sklearn.metrics import roc_curve, accuracy_score, make_scorer, auc\n",
    "from scipy.optimize import brentq\n",
    "from scipy.interpolate import interp1d\n",
    "from sklearn.pipeline import Pipeline\n",
    "from sklearn.feature_selection import VarianceThreshold # Feature selector\n",
    "from sklearn.model_selection import KFold\n",
    "from sklearn import metrics\n",
    "from tensorflow.keras import backend as K\n",
    "from tensorflow.keras.models import Model\n",
    "from tensorflow.keras.layers import (\n",
    "    Dense,\n",
    "    Input,\n",
    "    Conv1D,\n",
    "    MaxPooling1D,\n",
    "    Flatten,\n",
    "    Lambda,\n",
    "    Conv2D,\n",
    "    MaxPooling2D,\n",
    "    Dropout,\n",
    "    BatchNormalization,\n",
    "    GlobalAveragePooling1D,\n",
    "    Activation\n",
    ")\n",
    "from tensorflow.keras.utils import plot_model\n",
    "from tensorflow.keras.optimizers import Adam, SGD, RMSprop, Adadelta, Adagrad, Adamax, Ftrl, Nadam\n",
    "from tensorflow.keras.models import load_model\n",
    "from tensorflow.keras.callbacks import Callback\n",
    "from tensorflow.keras.layers import concatenate as keras_concat\n",
    "from tensorflow.keras.constraints import MaxNorm\n",
    "from tensorflow.keras.callbacks import EarlyStopping\n",
    "\n",
    "\n",
    "\n",
    "\n",
    "import pandas as pd\n",
    "pd.plotting.register_matplotlib_converters()\n",
    "import matplotlib.pyplot as plt\n",
    "import seaborn as sns\n",
    "from scipy.stats import kurtosis\n",
    "from scipy.stats import skew\n",
    "from scipy.stats import iqr\n",
    "from scipy.stats import median_absolute_deviation\n",
    "from scipy.stats import mode\n",
    "from scipy.signal import find_peaks\n",
    "from scipy.signal import peak_widths\n",
    "# from scipy.special import entr\n",
    "from sklearn.preprocessing import StandardScaler, MinMaxScaler, Normalizer, MaxAbsScaler, RobustScaler, PowerTransformer\n",
    "get_new_scaler_dict = {\"StandardScaler\": StandardScaler, \"MinMaxScaler\": MinMaxScaler, \"Normalizer\": Normalizer, \n",
    "                       \"MaxAbsScaler\": MaxAbsScaler, \"RobustScaler\": RobustScaler, \"PowerTransformer\": PowerTransformer}\n",
    "from sklearn.preprocessing import normalize\n",
    "from sklearn.metrics import auc\n",
    "# import antropy as ant\n",
    "import time\n",
    "# import docx\n",
    "\n",
    "# Global utitlity functions are in separate notebook\n",
    "%run ./Classification_utility-functions.ipynb\n",
    "%run ./SEED-CONSTANTS.ipynb\n",
    "\n",
    "\n",
    "np.random.seed(SEED)\n",
    "tf.random.set_seed(SEED)\n",
    "print(f\"Seed was set to: {SEED}\")\n",
    "\n",
    "print(\"Setup Complete\")"
   ]
  },
  {
   "cell_type": "code",
   "execution_count": 3,
   "metadata": {
    "tags": []
   },
   "outputs": [],
   "source": [
    "@dataclasses.dataclass\n",
    "class ExperimentParameters:\n",
    "    \"\"\"Contains all relevant parameters to run an experiment.\"\"\"\n",
    "\n",
    "    name: str  # Name of Experiments Parameter set. Used as identifier for charts etc.\n",
    "\n",
    "    # Data / Splitting:\n",
    "    frequency: int\n",
    "    feature_cols: list  # Columns used as features\n",
    "    max_subjects: int\n",
    "    user_ids: list\n",
    "    num_sample_points_per_exp: int\n",
    "    exp_begin_cutoff_idx: int\n",
    "    exp_end_cutoff_idx: int\n",
    "        \n",
    "#     exclude_subjects: list  # Don't load data from those users\n",
    "    n_valid_train_subjects: int\n",
    "    n_valid_test_subjects: int\n",
    "    n_test_train_subjects: int\n",
    "    n_test_test_subjects: int\n",
    "    seconds_per_subject_train: float\n",
    "    seconds_per_subject_test: float\n",
    "    task_types: list  # Limit scenarios to [1, 3, 5] for sitting or [2, 4, 6] for walking, or don't limit (None)\n",
    "\n",
    "    # Reshaping\n",
    "    window_size: int  # After resampling\n",
    "    nn_step_width: int\n",
    "    ocsvm_step_width: int\n",
    "\n",
    "    # Normalization\n",
    "    scaler: str  # {\"std\", \"robust\", \"minmax\"}\n",
    "    scaler_scope: str  # {\"subject\", \"session\"}\n",
    "    scaler_global: bool  # scale training and testing sets at once (True), or fit scaler on training only (False)\n",
    "\n",
    "    # Siamese Network\n",
    "    max_pairs_per_session: int  # Max. number of pairs per session\n",
    "    margin: float  # Contrastive Loss Margin\n",
    "    model_variant: str  # {\"1d\", \"2d\"} Type of architecture\n",
    "    filters: list  # List of length 4, containing number of filters for conv layers\n",
    "    epochs_best: int  # Train epochs to for final model\n",
    "    epochs_max: int\n",
    "    batch_size: int\n",
    "    optimizer: str  # Optimizer to use for Siamese Network\n",
    "    optimizer_lr: float  # Learning Rate\n",
    "    optimizer_decay: float\n",
    "\n",
    "    # OCSVM\n",
    "    ocsvm_kernel: str # ocsvm kernel\n",
    "    ocsvm_nu: float  # Best value found in random search, used for final model\n",
    "    ocsvm_gamma: float  # Best value found in random search, used for final model\n",
    "\n",
    "    # Calculated values\n",
    "    def __post_init__(self):\n",
    "        # HDF key of table:\n",
    "        self.table_name = f\"sensors_{self.frequency}hz\"\n",
    "\n",
    "        # Number of samples per _session_ used for training:\n",
    "        self.samples_per_subject_train = math.ceil(\n",
    "            (self.seconds_per_subject_train * 100)\n",
    "            / (100 / self.frequency)\n",
    "            / self.window_size\n",
    "        )\n",
    "\n",
    "        # Number of samples per _session_ used for testing:\n",
    "        self.samples_per_subject_test = math.ceil(\n",
    "            (self.seconds_per_subject_test * 100)\n",
    "            / (100 / self.frequency)\n",
    "            / self.window_size\n",
    "        )\n",
    "\n",
    "\n",
    "# INSTANCES\n",
    "# ===========================================================\n",
    "\n",
    "# NAIVE_MINMAX (2D Filters)\n",
    "# -----------------------------------------------------------\n",
    "NAIVE_MINMAX_2D = ExperimentParameters(\n",
    "    name=\"NAIVE-MINMAX-2D\",\n",
    "#     # Data / Splitting\n",
    "    frequency=100,\n",
    "    feature_cols=[\n",
    "        \"acc_x\",\n",
    "        \"acc_y\",\n",
    "        \"acc_z\",\n",
    "        \"gyr_x\",\n",
    "        \"gyr_y\",\n",
    "        \"gyr_z\"\n",
    "    ],\n",
    "    max_subjects=29,\n",
    "    user_ids = [1, 2, 3, 4, 5, 6, 7, 8, 19, 21, 22, 26, 27, 28, 29, 35, 36, 37, 38, 39, 40, 41, 42, 43, 44, 45, 46, 48, 49],\n",
    "    num_sample_points_per_exp=21000,\n",
    "    exp_begin_cutoff_idx=500,\n",
    "    exp_end_cutoff_idx=-500,\n",
    "    n_valid_train_subjects=40,\n",
    "    n_valid_test_subjects=10,\n",
    "    n_test_train_subjects=10,\n",
    "    n_test_test_subjects=30,\n",
    "    seconds_per_subject_train=67.5,\n",
    "    seconds_per_subject_test=67.5,\n",
    "    task_types=None,\n",
    "    # Reshaping\n",
    "    window_size=100 * 1,  #1 sec\n",
    "    nn_step_width=125,\n",
    "    ocsvm_step_width=125,\n",
    "    # Normalization\n",
    "    scaler=\"minmax\",\n",
    "    scaler_scope=\"subject\",\n",
    "    scaler_global=True,\n",
    "    # Siamese Network\n",
    "    model_variant=\"2d\",\n",
    "    filters=[32, 64, 128, 32],\n",
    "#     filters=[32, 64, 128, 64],\n",
    "    epochs_best=35,\n",
    "    epochs_max=40,\n",
    "    batch_size=200,\n",
    "    optimizer=\"sgd\",\n",
    "    optimizer_lr=0.01,\n",
    "    optimizer_decay=0,\n",
    "    max_pairs_per_session=60,  # => 4min\n",
    "    margin=0.2,\n",
    "    # OCSVM\n",
    "    ocsvm_kernel=\"rbf\",\n",
    "    ocsvm_nu=0.092,\n",
    "    ocsvm_gamma=1.151,\n",
    ")  # <END NAIVE_APPROACH>\n",
    "\n",
    "# VALID_MINMAX (2D)\n",
    "# -----------------------------------------------------------\n",
    "VALID_MINMAX_2D = dataclasses.replace(\n",
    "    NAIVE_MINMAX_2D,\n",
    "    name=\"VALID-MINMAX-2D\",\n",
    "    task_types=None,\n",
    "    scaler_global=False,\n",
    "    epochs_max=40,\n",
    "    ocsvm_nu=0.110,\n",
    "    ocsvm_gamma=59.636,\n",
    ")\n",
    "\n",
    "# NAIVE_ROBUST (2D)\n",
    "# -----------------------------------------------------------\n",
    "NAIVE_ROBUST_2D = dataclasses.replace(\n",
    "    NAIVE_MINMAX_2D,\n",
    "    name=\"NAIVE-ROBUST-2D\",\n",
    "    scaler=\"robust\",\n",
    "    optimizer=\"sgd\",\n",
    "    optimizer_lr=0.05, # Decreased, to avoid \"all zeros\" prediction\n",
    "    optimizer_decay=0.002,\n",
    "    epochs_best=5,\n",
    "    ocsvm_nu=0.214,\n",
    "    ocsvm_gamma=2.354,\n",
    ")\n",
    "\n",
    "# VALID_ROBUST (2D)\n",
    "# -----------------------------------------------------------\n",
    "VALID_ROBUST_2D = dataclasses.replace(\n",
    "    NAIVE_MINMAX_2D,\n",
    "    name=\"VALID-ROBUST-2D\",\n",
    "    scaler=\"robust\",\n",
    "    scaler_global=False,\n",
    "    epochs_best=6,\n",
    "    epochs_max=20,\n",
    "    optimizer=\"sgd\",\n",
    "    optimizer_lr=0.05,  # Decrease LR, to avoid \"all zeros\" prediction\n",
    "    optimizer_decay=0.002,\n",
    "    ocsvm_nu=0.190,\n",
    "    ocsvm_gamma=0.069,\n",
    ")\n",
    "\n",
    "# VALID_ROBUST (1D)\n",
    "# -----------------------------------------------------------\n",
    "VALID_ROBUST_1D = dataclasses.replace(\n",
    "    NAIVE_MINMAX_2D,\n",
    "    name=\"VALID-ROBUST-1D\",\n",
    "    scaler=\"robust\",\n",
    "    scaler_global=False,\n",
    "    model_variant=\"1d\", \n",
    "    filters=[32, 64, 128, 64],    \n",
    "    epochs_best=9,\n",
    "    epochs_max=20,\n",
    "    ocsvm_nu=0.156,\n",
    "    ocsvm_gamma=33.932,\n",
    ")\n",
    "\n",
    "# FCN_ROBUST (1D)\n",
    "# -----------------------------------------------------------\n",
    "VALID_FCN_ROBUST_125 = dataclasses.replace(\n",
    "    NAIVE_MINMAX_2D,\n",
    "    name=\"VALID-FCN-ROBUST-FINAL\",\n",
    "    task_types=[1, 2],\n",
    "    feature_cols=[\"acc_x\", \"acc_y\", \"acc_z\", 'gyr_x', 'gyr_y', 'gyr_z'], \n",
    "    frequency=100,\n",
    "    window_size=125,\n",
    "\n",
    "    scaler=\"RobustScaler\",\n",
    "    scaler_global=False,\n",
    "    seconds_per_subject_train=60 * 10,\n",
    "    seconds_per_subject_test=60 * 10,\n",
    "    max_pairs_per_session=60 * 10,\n",
    "    model_variant=\"fcn\",\n",
    "    filters=[32, 64, 32],\n",
    "    optimizer=\"adam\",\n",
    "    optimizer_lr=0.00001,\n",
    "#     optimizer_lr=0.0001,\n",
    "#     optimizer_lr=0.001,\n",
    "#     optimizer_lr=0.01,\n",
    "    optimizer_decay=None,\n",
    "    batch_size=300,\n",
    "    margin=1,\n",
    "#     margin=.2,\n",
    "    epochs_best=40,\n",
    "    epochs_max=80,\n",
    "    ocsvm_nu=0.007,\n",
    "    ocsvm_gamma=0.002,\n",
    ")\n",
    "\n",
    "VALID_FCN_ROBUST_250 = dataclasses.replace(\n",
    "    NAIVE_MINMAX_2D,\n",
    "    name=\"VALID-FCN-ROBUST-FINAL\",\n",
    "    task_types=[1, 2],\n",
    "    feature_cols=[\"acc_x\", \"acc_y\", \"acc_z\", 'gyr_x', 'gyr_y', 'gyr_z'], \n",
    "    frequency=100,\n",
    "    window_size=250,\n",
    "\n",
    "    scaler=\"RobustScaler\",\n",
    "    scaler_global=False,\n",
    "    seconds_per_subject_train=60 * 10,\n",
    "    seconds_per_subject_test=60 * 10,\n",
    "    max_pairs_per_session=60 * 10,\n",
    "    model_variant=\"fcn\",\n",
    "    filters=[32, 64, 32],\n",
    "    optimizer=\"adam\",\n",
    "    optimizer_lr=0.00001,\n",
    "#     optimizer_lr=0.0001,\n",
    "#     optimizer_lr=0.001,\n",
    "#     optimizer_lr=0.01,\n",
    "    optimizer_decay=None,\n",
    "    batch_size=300,\n",
    "    margin=1,\n",
    "#     margin=.2,\n",
    "    epochs_best=40,\n",
    "    epochs_max=80,\n",
    "    ocsvm_nu=0.007,\n",
    "    ocsvm_gamma=0.002,\n",
    ")\n",
    "\n",
    "VALID_FCN_ROBUST_500 = dataclasses.replace(\n",
    "    NAIVE_MINMAX_2D,\n",
    "    name=\"VALID-FCN-ROBUST-FINAL\",\n",
    "    task_types=[1, 2],\n",
    "    feature_cols=[\"acc_x\", \"acc_y\", \"acc_z\", 'gyr_x', 'gyr_y', 'gyr_z'], \n",
    "    frequency=100,\n",
    "    window_size=500,\n",
    "\n",
    "    scaler=\"RobustScaler\",\n",
    "    scaler_global=False,\n",
    "    seconds_per_subject_train=60 * 10,\n",
    "    seconds_per_subject_test=60 * 10,\n",
    "    max_pairs_per_session=60 * 10,\n",
    "    model_variant=\"fcn\",\n",
    "    filters=[32, 64, 32],\n",
    "    optimizer=\"adam\",\n",
    "    optimizer_lr=0.00001,\n",
    "#     optimizer_lr=0.0001,\n",
    "#     optimizer_lr=0.001,\n",
    "#     optimizer_lr=0.01,\n",
    "    optimizer_decay=None,\n",
    "    batch_size=300,\n",
    "    margin=1,\n",
    "#     margin=.2,\n",
    "    epochs_best=40,\n",
    "    epochs_max=80,\n",
    "    ocsvm_nu=0.007,\n",
    "    ocsvm_gamma=0.002,\n",
    ")\n",
    "\n",
    "VALID_FCN_ROBUST_750 = dataclasses.replace(\n",
    "    NAIVE_MINMAX_2D,\n",
    "    name=\"VALID-FCN-ROBUST-FINAL\",\n",
    "    task_types=[1, 2],\n",
    "    feature_cols=[\"acc_x\", \"acc_y\", \"acc_z\", 'gyr_x', 'gyr_y', 'gyr_z'], \n",
    "    frequency=100,\n",
    "    window_size=750,\n",
    "\n",
    "    scaler=\"RobustScaler\",\n",
    "    scaler_global=False,\n",
    "    seconds_per_subject_train=60 * 10,\n",
    "    seconds_per_subject_test=60 * 10,\n",
    "    max_pairs_per_session=60 * 10,\n",
    "    model_variant=\"fcn\",\n",
    "    filters=[32, 64, 32],\n",
    "    optimizer=\"adam\",\n",
    "    optimizer_lr=0.00001,\n",
    "#     optimizer_lr=0.0001,\n",
    "#     optimizer_lr=0.001,\n",
    "#     optimizer_lr=0.01,\n",
    "    optimizer_decay=None,\n",
    "    batch_size=300,\n",
    "    margin=1,\n",
    "#     margin=.2,\n",
    "    epochs_best=40,\n",
    "    epochs_max=80,\n",
    "    ocsvm_nu=0.007,\n",
    "    ocsvm_gamma=0.002,\n",
    ")\n",
    "\n",
    "VALID_FCN_ROBUST_1000 = dataclasses.replace(\n",
    "    NAIVE_MINMAX_2D,\n",
    "    name=\"VALID-FCN-ROBUST-FINAL\",\n",
    "    task_types=[1, 2],\n",
    "    feature_cols=[\"acc_x\", \"acc_y\", \"acc_z\", 'gyr_x', 'gyr_y', 'gyr_z'], \n",
    "    frequency=100,\n",
    "    window_size=1000,\n",
    "\n",
    "    scaler=\"RobustScaler\",\n",
    "    scaler_global=False,\n",
    "    seconds_per_subject_train=60 * 10,\n",
    "    seconds_per_subject_test=60 * 10,\n",
    "    max_pairs_per_session=60 * 10,\n",
    "    model_variant=\"fcn\",\n",
    "    filters=[32, 64, 32],\n",
    "    optimizer=\"adam\",\n",
    "    optimizer_lr=0.00001,\n",
    "#     optimizer_lr=0.0001,\n",
    "#     optimizer_lr=0.001,\n",
    "#     optimizer_lr=0.01,\n",
    "    optimizer_decay=None,\n",
    "    batch_size=300,\n",
    "    margin=1,\n",
    "#     margin=.2,\n",
    "    epochs_best=40,\n",
    "    epochs_max=80,\n",
    "    ocsvm_nu=0.007,\n",
    "    ocsvm_gamma=0.002,\n",
    ")\n",
    "\n",
    "VALID_FCN_ROBUST_1250 = dataclasses.replace(\n",
    "    NAIVE_MINMAX_2D,\n",
    "    name=\"VALID-FCN-ROBUST-FINAL\",\n",
    "    task_types=[1, 2],\n",
    "    feature_cols=[\"acc_x\", \"acc_y\", \"acc_z\", 'gyr_x', 'gyr_y', 'gyr_z'], \n",
    "    frequency=100,\n",
    "    window_size=1250,\n",
    "\n",
    "    scaler=\"RobustScaler\",\n",
    "    scaler_global=False,\n",
    "    seconds_per_subject_train=60 * 10,\n",
    "    seconds_per_subject_test=60 * 10,\n",
    "    max_pairs_per_session=60 * 10,\n",
    "    model_variant=\"fcn\",\n",
    "    filters=[32, 64, 32],\n",
    "    optimizer=\"adam\",\n",
    "    optimizer_lr=0.00001,\n",
    "#     optimizer_lr=0.0001,\n",
    "#     optimizer_lr=0.001,\n",
    "#     optimizer_lr=0.01,\n",
    "    optimizer_decay=None,\n",
    "    batch_size=300,\n",
    "    margin=1,\n",
    "#     margin=.2,\n",
    "    epochs_best=40,\n",
    "    epochs_max=80,\n",
    "    ocsvm_nu=0.007,\n",
    "    ocsvm_gamma=0.002,\n",
    ")\n",
    "\n",
    "\n",
    "VALID_FCN_ROBUST_1500 = dataclasses.replace(\n",
    "    NAIVE_MINMAX_2D,\n",
    "    name=\"VALID-FCN-ROBUST-FINAL\",\n",
    "    task_types=[1, 2],\n",
    "    feature_cols=[\"acc_x\", \"acc_y\", \"acc_z\", 'gyr_x', 'gyr_y', 'gyr_z'], \n",
    "    frequency=100,\n",
    "    window_size=1500,\n",
    "\n",
    "    scaler=\"RobustScaler\",\n",
    "    scaler_global=False,\n",
    "    seconds_per_subject_train=60 * 10,\n",
    "    seconds_per_subject_test=60 * 10,\n",
    "    max_pairs_per_session=60 * 10,\n",
    "    model_variant=\"fcn\",\n",
    "    filters=[32, 64, 32],\n",
    "    optimizer=\"adam\",\n",
    "    optimizer_lr=0.00001,\n",
    "#     optimizer_lr=0.0001,\n",
    "#     optimizer_lr=0.001,\n",
    "#     optimizer_lr=0.01,\n",
    "    optimizer_decay=None,\n",
    "    batch_size=300,\n",
    "    margin=1,\n",
    "#     margin=.2,\n",
    "    epochs_best=40,\n",
    "    epochs_max=80,\n",
    "    ocsvm_nu=0.007,\n",
    "    ocsvm_gamma=0.002,\n",
    ")\n",
    "\n",
    "VALID_FCN_ROBUST_1750 = dataclasses.replace(\n",
    "    NAIVE_MINMAX_2D,\n",
    "    name=\"VALID-FCN-ROBUST-FINAL\",\n",
    "    task_types=[1, 2],\n",
    "    feature_cols=[\"acc_x\", \"acc_y\", \"acc_z\", 'gyr_x', 'gyr_y', 'gyr_z'], \n",
    "    frequency=100,\n",
    "    window_size=1750,\n",
    "\n",
    "    scaler=\"RobustScaler\",\n",
    "    scaler_global=False,\n",
    "    seconds_per_subject_train=60 * 10,\n",
    "    seconds_per_subject_test=60 * 10,\n",
    "    max_pairs_per_session=60 * 10,\n",
    "    model_variant=\"fcn\",\n",
    "    filters=[32, 64, 32],\n",
    "    optimizer=\"adam\",\n",
    "    optimizer_lr=0.00001,\n",
    "#     optimizer_lr=0.0001,\n",
    "#     optimizer_lr=0.001,\n",
    "#     optimizer_lr=0.01,\n",
    "    optimizer_decay=None,\n",
    "    batch_size=300,\n",
    "    margin=1,\n",
    "#     margin=.2,\n",
    "    epochs_best=40,\n",
    "    epochs_max=80,\n",
    "    ocsvm_nu=0.007,\n",
    "    ocsvm_gamma=0.002,\n",
    ")\n",
    "\n",
    "\n",
    "VALID_FCN_ROBUST_2000 = dataclasses.replace(\n",
    "    NAIVE_MINMAX_2D,\n",
    "    name=\"VALID-FCN-ROBUST-FINAL\",\n",
    "    task_types=[1, 2],\n",
    "    feature_cols=[\"acc_x\", \"acc_y\", \"acc_z\", 'gyr_x', 'gyr_y', 'gyr_z'], \n",
    "    frequency=100,\n",
    "    window_size=2000,\n",
    "\n",
    "    scaler=\"RobustScaler\",\n",
    "    scaler_global=False,\n",
    "    seconds_per_subject_train=60 * 10,\n",
    "    seconds_per_subject_test=60 * 10,\n",
    "    max_pairs_per_session=60 * 10,\n",
    "    model_variant=\"fcn\",\n",
    "    filters=[32, 64, 32],\n",
    "    optimizer=\"adam\",\n",
    "    optimizer_lr=0.00001,\n",
    "#     optimizer_lr=0.0001,\n",
    "#     optimizer_lr=0.001,\n",
    "#     optimizer_lr=0.01,\n",
    "    optimizer_decay=None,\n",
    "    batch_size=300,\n",
    "    margin=1,\n",
    "#     margin=.2,\n",
    "    epochs_best=40,\n",
    "    epochs_max=80,\n",
    "    ocsvm_nu=0.007,\n",
    "    ocsvm_gamma=0.002,\n",
    ")"
   ]
  },
  {
   "cell_type": "code",
   "execution_count": 4,
   "metadata": {
    "tags": []
   },
   "outputs": [],
   "source": [
    "P = VALID_FCN_ROBUST_2000\n",
    "# utils_ppp(P)\n",
    "# P = VALID_ROBUST_1D\n",
    "# utils_ppp(P)\n",
    "# P = NAIVE_MINMAX_2D"
   ]
  },
  {
   "cell_type": "code",
   "execution_count": 5,
   "metadata": {
    "tags": []
   },
   "outputs": [
    {
     "data": {
      "text/html": [
       "<div>\n",
       "<style scoped>\n",
       "    .dataframe tbody tr th:only-of-type {\n",
       "        vertical-align: middle;\n",
       "    }\n",
       "\n",
       "    .dataframe tbody tr th {\n",
       "        vertical-align: top;\n",
       "    }\n",
       "\n",
       "    .dataframe thead th {\n",
       "        text-align: right;\n",
       "    }\n",
       "</style>\n",
       "<table border=\"1\" class=\"dataframe\">\n",
       "  <thead>\n",
       "    <tr style=\"text-align: right;\">\n",
       "      <th></th>\n",
       "      <th>Value</th>\n",
       "    </tr>\n",
       "  </thead>\n",
       "  <tbody>\n",
       "    <tr>\n",
       "      <th>name</th>\n",
       "      <td>VALID-FCN-ROBUST-FINAL</td>\n",
       "    </tr>\n",
       "    <tr>\n",
       "      <th>frequency</th>\n",
       "      <td>100</td>\n",
       "    </tr>\n",
       "    <tr>\n",
       "      <th>feature_cols</th>\n",
       "      <td>[acc_x, acc_y, acc_z, gyr_x, gyr_y, gyr_z]</td>\n",
       "    </tr>\n",
       "    <tr>\n",
       "      <th>max_subjects</th>\n",
       "      <td>29</td>\n",
       "    </tr>\n",
       "    <tr>\n",
       "      <th>user_ids</th>\n",
       "      <td>[1, 2, 3, 4, 5, 6, 7, 8, 19, 21, 22, 26, 27, 2...</td>\n",
       "    </tr>\n",
       "    <tr>\n",
       "      <th>num_sample_points_per_exp</th>\n",
       "      <td>21000</td>\n",
       "    </tr>\n",
       "    <tr>\n",
       "      <th>exp_begin_cutoff_idx</th>\n",
       "      <td>500</td>\n",
       "    </tr>\n",
       "    <tr>\n",
       "      <th>exp_end_cutoff_idx</th>\n",
       "      <td>-500</td>\n",
       "    </tr>\n",
       "    <tr>\n",
       "      <th>n_valid_train_subjects</th>\n",
       "      <td>40</td>\n",
       "    </tr>\n",
       "    <tr>\n",
       "      <th>n_valid_test_subjects</th>\n",
       "      <td>10</td>\n",
       "    </tr>\n",
       "    <tr>\n",
       "      <th>n_test_train_subjects</th>\n",
       "      <td>10</td>\n",
       "    </tr>\n",
       "    <tr>\n",
       "      <th>n_test_test_subjects</th>\n",
       "      <td>30</td>\n",
       "    </tr>\n",
       "    <tr>\n",
       "      <th>seconds_per_subject_train</th>\n",
       "      <td>600</td>\n",
       "    </tr>\n",
       "    <tr>\n",
       "      <th>seconds_per_subject_test</th>\n",
       "      <td>600</td>\n",
       "    </tr>\n",
       "    <tr>\n",
       "      <th>task_types</th>\n",
       "      <td>[1, 2]</td>\n",
       "    </tr>\n",
       "    <tr>\n",
       "      <th>window_size</th>\n",
       "      <td>2000</td>\n",
       "    </tr>\n",
       "    <tr>\n",
       "      <th>nn_step_width</th>\n",
       "      <td>1000</td>\n",
       "    </tr>\n",
       "    <tr>\n",
       "      <th>ocsvm_step_width</th>\n",
       "      <td>1000</td>\n",
       "    </tr>\n",
       "    <tr>\n",
       "      <th>scaler</th>\n",
       "      <td>RobustScaler</td>\n",
       "    </tr>\n",
       "    <tr>\n",
       "      <th>scaler_scope</th>\n",
       "      <td>subject</td>\n",
       "    </tr>\n",
       "    <tr>\n",
       "      <th>scaler_global</th>\n",
       "      <td>False</td>\n",
       "    </tr>\n",
       "    <tr>\n",
       "      <th>max_pairs_per_session</th>\n",
       "      <td>600</td>\n",
       "    </tr>\n",
       "    <tr>\n",
       "      <th>margin</th>\n",
       "      <td>1</td>\n",
       "    </tr>\n",
       "    <tr>\n",
       "      <th>model_variant</th>\n",
       "      <td>fcn</td>\n",
       "    </tr>\n",
       "    <tr>\n",
       "      <th>filters</th>\n",
       "      <td>[32, 64, 32]</td>\n",
       "    </tr>\n",
       "    <tr>\n",
       "      <th>epochs_best</th>\n",
       "      <td>40</td>\n",
       "    </tr>\n",
       "    <tr>\n",
       "      <th>epochs_max</th>\n",
       "      <td>80</td>\n",
       "    </tr>\n",
       "    <tr>\n",
       "      <th>batch_size</th>\n",
       "      <td>300</td>\n",
       "    </tr>\n",
       "    <tr>\n",
       "      <th>optimizer</th>\n",
       "      <td>adam</td>\n",
       "    </tr>\n",
       "    <tr>\n",
       "      <th>optimizer_lr</th>\n",
       "      <td>0.00001</td>\n",
       "    </tr>\n",
       "    <tr>\n",
       "      <th>optimizer_decay</th>\n",
       "      <td>None</td>\n",
       "    </tr>\n",
       "    <tr>\n",
       "      <th>ocsvm_kernel</th>\n",
       "      <td>rbf</td>\n",
       "    </tr>\n",
       "    <tr>\n",
       "      <th>ocsvm_nu</th>\n",
       "      <td>0.007</td>\n",
       "    </tr>\n",
       "    <tr>\n",
       "      <th>ocsvm_gamma</th>\n",
       "      <td>0.002</td>\n",
       "    </tr>\n",
       "  </tbody>\n",
       "</table>\n",
       "</div>"
      ],
      "text/plain": [
       "                                                                       Value\n",
       "name                                                  VALID-FCN-ROBUST-FINAL\n",
       "frequency                                                                100\n",
       "feature_cols                      [acc_x, acc_y, acc_z, gyr_x, gyr_y, gyr_z]\n",
       "max_subjects                                                              29\n",
       "user_ids                   [1, 2, 3, 4, 5, 6, 7, 8, 19, 21, 22, 26, 27, 2...\n",
       "num_sample_points_per_exp                                              21000\n",
       "exp_begin_cutoff_idx                                                     500\n",
       "exp_end_cutoff_idx                                                      -500\n",
       "n_valid_train_subjects                                                    40\n",
       "n_valid_test_subjects                                                     10\n",
       "n_test_train_subjects                                                     10\n",
       "n_test_test_subjects                                                      30\n",
       "seconds_per_subject_train                                                600\n",
       "seconds_per_subject_test                                                 600\n",
       "task_types                                                            [1, 2]\n",
       "window_size                                                             2000\n",
       "nn_step_width                                                           1000\n",
       "ocsvm_step_width                                                        1000\n",
       "scaler                                                          RobustScaler\n",
       "scaler_scope                                                         subject\n",
       "scaler_global                                                          False\n",
       "max_pairs_per_session                                                    600\n",
       "margin                                                                     1\n",
       "model_variant                                                            fcn\n",
       "filters                                                         [32, 64, 32]\n",
       "epochs_best                                                               40\n",
       "epochs_max                                                                80\n",
       "batch_size                                                               300\n",
       "optimizer                                                               adam\n",
       "optimizer_lr                                                         0.00001\n",
       "optimizer_decay                                                         None\n",
       "ocsvm_kernel                                                             rbf\n",
       "ocsvm_nu                                                               0.007\n",
       "ocsvm_gamma                                                            0.002"
      ]
     },
     "metadata": {},
     "output_type": "display_data"
    }
   ],
   "source": [
    "P.nn_step_width = int(P.window_size * .5)\n",
    "P.ocsvm_step_width = int(P.window_size * .5)\n",
    "P.scaler = 'RobustScaler'\n",
    "# P.scaler = 'MinMaxScaler'\n",
    "# P.scaler = 'Normalizer'\n",
    "# P.scaler = 'StandardScaler'\n",
    "\n",
    "utils_ppp(P)\n"
   ]
  },
  {
   "cell_type": "markdown",
   "metadata": {},
   "source": [
    "### 1.4 Select Approach <a id='1.4'>&nbsp;</a> \n",
    "Select the parameters to use for current notebook execution here!"
   ]
  },
  {
   "cell_type": "markdown",
   "metadata": {},
   "source": [
    "# Split Dataset for Valid/Test  \n",
    "In two splits: one used during hyperparameter optimization, and one used during testing.\n",
    "\n",
    "The split is done along the subjects: All sessions of a single subject will either be in the validation split or in the testing split, never in both.\n",
    "\n",
    "They did a 30 60 split."
   ]
  },
  {
   "cell_type": "markdown",
   "metadata": {},
   "source": [
    "# Reshaping Raw Features.\n",
    "We have our own function of windows for this. Do this for both training and testing.\n",
    "\n",
    "# Extracting time and frequency based features.\n",
    "Again, we have a function for this. Do this for both training and testing."
   ]
  },
  {
   "cell_type": "markdown",
   "metadata": {},
   "source": [
    "# Hyperparameter Optimization \n",
    "\n",
    "I do not find any reaqsonable explaination how to use a cross-validation as we are talking about anomaly detection.\n",
    "\n",
    "I am using the experiment 1 data as train, and experiment 2 data as validation."
   ]
  },
  {
   "cell_type": "markdown",
   "metadata": {},
   "source": [
    "# Using SVM in a real-world Scenario with multiple genuine users and intruders\n",
    "Source: https://datascience.stackexchange.com/questions/23623/what-is-the-best-way-to-classify-data-not-belonging-to-set-of-classes\n",
    "\n",
    "Stage 1: \n",
    "    Use one-class SVM to assign those images that do not belong to the set of predefined classes as the 9-th class.\n",
    "\n",
    "Stage 2:\n",
    "    For those images that passes through your filter, let the multi-class SVM assign them to one of the 8 classes."
   ]
  },
  {
   "cell_type": "code",
   "execution_count": 6,
   "metadata": {},
   "outputs": [],
   "source": [
    "# P.exp_begin_cutoff_idx, P.exp_end_cutoff_idx = 500, -3500\n",
    "# P.num_sample_points_per_exp = 15000"
   ]
  },
  {
   "cell_type": "markdown",
   "metadata": {},
   "source": [
    "Loading data:"
   ]
  },
  {
   "cell_type": "code",
   "execution_count": 7,
   "metadata": {
    "tags": []
   },
   "outputs": [
    {
     "name": "stdout",
     "output_type": "stream",
     "text": [
      "Loading exp1 data:\n",
      "1) accel_count: 28388, gyro_count: 31997\n",
      "2) accel_count: 26010, gyro_count: 28954\n",
      "3) accel_count: 28227, gyro_count: 31814\n",
      "4) accel_count: 24860, gyro_count: 26105\n",
      "5) accel_count: 24270, gyro_count: 24347\n",
      "6) accel_count: 25012, gyro_count: 25060\n",
      "7) accel_count: 25301, gyro_count: 25382\n",
      "8) accel_count: 21975, gyro_count: 21658\n",
      "19) accel_count: 24110, gyro_count: 25050\n",
      "21) accel_count: 24326, gyro_count: 23809\n",
      "22) accel_count: 29123, gyro_count: 28724\n",
      "26) accel_count: 23148, gyro_count: 24291\n",
      "27) accel_count: 24299, gyro_count: 23589\n",
      "28) accel_count: 23807, gyro_count: 24523\n",
      "29) accel_count: 24030, gyro_count: 23457\n",
      "35) accel_count: 24388, gyro_count: 23673\n",
      "36) accel_count: 24228, gyro_count: 24208\n",
      "37) accel_count: 31945, gyro_count: 31816\n",
      "38) accel_count: 22135, gyro_count: 22327\n",
      "39) accel_count: 23573, gyro_count: 23459\n",
      "40) accel_count: 23057, gyro_count: 24296\n",
      "41) accel_count: 24102, gyro_count: 23681\n",
      "42) accel_count: 24074, gyro_count: 24328\n",
      "43) accel_count: 22631, gyro_count: 23835\n",
      "44) accel_count: 24473, gyro_count: 23749\n",
      "45) accel_count: 23974, gyro_count: 23229\n",
      "46) accel_count: 23614, gyro_count: 23827\n",
      "48) accel_count: 22828, gyro_count: 23904\n",
      "49) accel_count: 24183, gyro_count: 24633\n",
      "Loading exp2 data:\n",
      "1) accel_count: 24049, gyro_count: 26943\n",
      "2) accel_count: 24468, gyro_count: 27667\n",
      "3) accel_count: 24611, gyro_count: 27000\n",
      "4) accel_count: 24972, gyro_count: 26798\n",
      "5) accel_count: 23573, gyro_count: 23372\n",
      "6) accel_count: 23800, gyro_count: 23890\n",
      "7) accel_count: 23347, gyro_count: 24145\n",
      "8) accel_count: 22947, gyro_count: 22660\n",
      "19) accel_count: 26156, gyro_count: 25815\n",
      "21) accel_count: 23566, gyro_count: 24408\n",
      "22) accel_count: 23844, gyro_count: 24589\n",
      "26) accel_count: 23179, gyro_count: 23925\n",
      "27) accel_count: 25109, gyro_count: 25820\n",
      "28) accel_count: 23133, gyro_count: 24028\n",
      "29) accel_count: 23180, gyro_count: 24314\n",
      "35) accel_count: 23299, gyro_count: 23854\n",
      "36) accel_count: 25497, gyro_count: 25059\n",
      "37) accel_count: 25994, gyro_count: 25232\n",
      "38) accel_count: 21164, gyro_count: 21182\n",
      "39) accel_count: 24214, gyro_count: 23585\n",
      "40) accel_count: 23944, gyro_count: 23170\n",
      "41) accel_count: 23193, gyro_count: 24111\n",
      "42) accel_count: 26505, gyro_count: 25697\n",
      "43) accel_count: 22690, gyro_count: 23981\n",
      "44) accel_count: 23002, gyro_count: 23829\n",
      "45) accel_count: 23978, gyro_count: 23350\n",
      "46) accel_count: 21128, gyro_count: 21848\n",
      "48) accel_count: 27996, gyro_count: 27205\n",
      "49) accel_count: 23061, gyro_count: 24129\n"
     ]
    }
   ],
   "source": [
    "df_exps_dict = load_data_frames(P.user_ids, P.exp_begin_cutoff_idx, P.exp_end_cutoff_idx, P.num_sample_points_per_exp)\n",
    "dfList_exp1, dfList_exp2 = df_exps_dict['dfList_exp1'], df_exps_dict['dfList_exp2']"
   ]
  },
  {
   "cell_type": "code",
   "execution_count": 8,
   "metadata": {},
   "outputs": [],
   "source": [
    "P.smoothing = \"FFT\""
   ]
  },
  {
   "cell_type": "markdown",
   "metadata": {},
   "source": [
    "# Smoothing and Preprocessing"
   ]
  },
  {
   "cell_type": "code",
   "execution_count": 9,
   "metadata": {},
   "outputs": [],
   "source": [
    "raw_dfList_exp1 = dfList_exp1\n",
    "raw_dfList_exp2 = dfList_exp2"
   ]
  },
  {
   "cell_type": "code",
   "execution_count": 10,
   "metadata": {},
   "outputs": [
    {
     "data": {
      "text/plain": [
       "time_stamp    float32\n",
       "x_a           float32\n",
       "y_a           float32\n",
       "z_a           float32\n",
       "x_g           float32\n",
       "y_g           float32\n",
       "z_g           float32\n",
       "dtype: object"
      ]
     },
     "execution_count": 10,
     "metadata": {},
     "output_type": "execute_result"
    }
   ],
   "source": [
    "\n",
    "raw_dfList_exp2[0].dtypes\n",
    "# np.array([1.0,2.0,3.0]).dtype"
   ]
  },
  {
   "cell_type": "code",
   "execution_count": 11,
   "metadata": {},
   "outputs": [
    {
     "data": {
      "text/plain": [
       "<AxesSubplot:>"
      ]
     },
     "execution_count": 11,
     "metadata": {},
     "output_type": "execute_result"
    },
    {
     "data": {
      "image/png": "[encoded data removed]",
      "text/plain": [
       "<Figure size 1152x792 with 1 Axes>"
      ]
     },
     "metadata": {},
     "output_type": "display_data"
    }
   ],
   "source": [
    "P.smoothing = \"FFT\"\n",
    "P.cut_off_freq=25\n",
    "ffted_dfList_exp1 = get_ffted_dfList(raw_dfList_exp1, cut_off_freq=P.cut_off_freq, filter_order=10, filtfilt=1)\n",
    "ffted_dfList_exp2 = get_ffted_dfList(raw_dfList_exp2, cut_off_freq=P.cut_off_freq, filter_order=10, filtfilt=1)\n",
    "raw_dfList_exp2[0]['x_a'][0:1000].plot()\n",
    "ffted_dfList_exp2[0]['x_a'][0:1000].plot()\n",
    "# get_ffted_dfList([raw_dfList_exp2[0][raw_dfList_exp2[0].columns][500:1000]], cut_off_freq=P.cut_off_freq, filter_order=10)[0]['EMA_x_a'].plot()\n",
    "dfList_exp1 = ffted_dfList_exp1\n",
    "dfList_exp2 = ffted_dfList_exp2\n",
    "\n",
    "P.span=49\n",
    "# P.smoothing = \"FFT+EMA\"\n",
    "# # raw_dfList_exp1 = dfList_exp1\n",
    "# # raw_dfList_exp2 = dfList_exp2\n",
    "# P.cut_off_freq=42\n",
    "# ffted_dfList_exp1 = get_ffted_dfList(raw_dfList_exp1, cut_off_freq=P.cut_off_freq, filter_order=10)\n",
    "# ffted_dfList_exp2 = get_ffted_dfList(raw_dfList_exp2, cut_off_freq=P.cut_off_freq, filter_order=10)\n",
    "# ffted_dfList_exp2[0]['EMA_x_a'][500:1000].plot()\n",
    "EMAed_dfList_exp1 = get_EMAed_dfList(ffted_dfList_exp1, span=P.span)\n",
    "EMAed_dfList_exp2 = get_EMAed_dfList(ffted_dfList_exp2, span=P.span)\n",
    "# EMAed_dfList_exp2[0]['EMA_x_a'][500:1000].plot()\n",
    "# dfList_exp1 = EMAed_dfList_exp1\n",
    "# dfList_exp2 = EMAed_dfList_exp2\n",
    "raw_dfList_exp2[0]['x_a'][500:1000].rolling(window=30, min_periods=0).mean()[:].plot()\n",
    "raw_dfList_exp2[0]['x_a'][500:1000].ewm(span=30, adjust=False).mean()[:].plot()"
   ]
  },
  {
   "cell_type": "code",
   "execution_count": 12,
   "metadata": {},
   "outputs": [
    {
     "data": {
      "text/plain": [
       "time_stamp    float32\n",
       "x_a           float32\n",
       "y_a           float32\n",
       "z_a           float32\n",
       "x_g           float32\n",
       "y_g           float32\n",
       "z_g           float32\n",
       "dtype: object"
      ]
     },
     "execution_count": 12,
     "metadata": {},
     "output_type": "execute_result"
    }
   ],
   "source": [
    "EMAed_dfList_exp2[0].dtypes"
   ]
  },
  {
   "cell_type": "code",
   "execution_count": 13,
   "metadata": {},
   "outputs": [
    {
     "data": {
      "text/plain": [
       "25"
      ]
     },
     "execution_count": 13,
     "metadata": {},
     "output_type": "execute_result"
    }
   ],
   "source": [
    "P.cut_off_freq"
   ]
  },
  {
   "cell_type": "code",
   "execution_count": 14,
   "metadata": {
    "tags": []
   },
   "outputs": [
    {
     "name": "stdout",
     "output_type": "stream",
     "text": [
      "train_set: [7, 24, 8, 11, 13, 19, 28, 21, 26, 3, 20, 22, 6, 25, 16, 1, 17, 27, 5]\n",
      "test_set: [0, 12, 14, 9, 18, 23, 2, 15, 10, 4]\n"
     ]
    }
   ],
   "source": [
    "randomized_data_idx = list(range(len(P.user_ids)))\n",
    "random.Random(SEED).shuffle(randomized_data_idx)\n",
    "split_idx = 2 * (len(randomized_data_idx)//3) + 1\n",
    "train_set = randomized_data_idx[: split_idx]\n",
    "test_set = randomized_data_idx[split_idx: ]\n",
    "print(f\"train_set: {train_set}\\ntest_set: {test_set}\")"
   ]
  },
  {
   "cell_type": "code",
   "execution_count": 15,
   "metadata": {},
   "outputs": [
    {
     "data": {
      "text/plain": [
       "[7, 24, 8, 11, 13, 19, 28, 21, 26, 3, 20, 22, 6, 25, 16, 1, 17, 27, 5]"
      ]
     },
     "execution_count": 15,
     "metadata": {},
     "output_type": "execute_result"
    }
   ],
   "source": [
    "train_set"
   ]
  },
  {
   "cell_type": "code",
   "execution_count": 16,
   "metadata": {},
   "outputs": [],
   "source": [
    "# train_set: [7, 24, 8, 11, 13, 19, 28, 21, 26, 3, 20, 22, 6, 25, 16, 1, 17, 27, 5]\n",
    "# test_set: [0, 12, 14, 9, 18, 23, 2, 15, 10, 4]"
   ]
  },
  {
   "cell_type": "code",
   "execution_count": 17,
   "metadata": {},
   "outputs": [
    {
     "name": "stdout",
     "output_type": "stream",
     "text": [
      "19\n",
      "29\n"
     ]
    }
   ],
   "source": [
    "P.num_sample_points_per_exp\n",
    "print(len(train_set))\n",
    "print(len(P.user_ids))"
   ]
  },
  {
   "cell_type": "markdown",
   "metadata": {},
   "source": [
    "# CNN"
   ]
  },
  {
   "cell_type": "code",
   "execution_count": 18,
   "metadata": {
    "tags": []
   },
   "outputs": [
    {
     "name": "stdout",
     "output_type": "stream",
     "text": [
      "Loading exp1 data:\n",
      "47) accel_count: 22777, gyro_count: 22226\n",
      "Loading exp2 data:\n",
      "47) accel_count: 17718, gyro_count: 18353\n",
      "len(exp1_df_user_set_dict): 19\n",
      "len(exp2_df_user_set_dict): 19\n",
      "len(X_exp1_dict_user_47[47]): 20\n",
      "len_exp2_user_47: 17\n",
      "user_47_idx: 29\n",
      "np.unique(all_user_set): [ 1  2  3  4  5  6  7  8 19 21 22 26 27 28 29 35 36 37 38 39 40 41 42 43\n",
      " 44 45 46 48 49]\n",
      "X_exp1_dict.keys(): dict_keys([7, 24, 8, 11, 13, 19, 28, 21, 26, 3, 20, 22, 6, 25, 16, 1, 17, 27, 5, 29])\n",
      "X_exp2_dict.keys(): dict_keys([7, 24, 8, 11, 13, 19, 28, 21, 26, 3, 20, 22, 6, 25, 16, 1, 17, 27, 5, 29])\n",
      "fitted_scaler_exp2_dict.keys(): dict_keys([7, 24, 8, 11, 13, 19, 28, 21, 26, 3, 20, 22, 6, 25, 16, 1, 17, 27, 5, 29])\n",
      "len(exp1_df_train_dict): 20\n",
      "len(exp2_df_train_dict): 20\n",
      "len(exp1_df_user_set_dict): 10\n",
      "len(exp2_df_user_set_dict): 10\n",
      "len(X_test_exp1_dict): 10\n",
      "len(X_test_exp2_dict): 10\n"
     ]
    },
    {
     "data": {
      "image/png": "[encoded data removed]",
      "text/plain": [
       "<Figure size 1152x792 with 1 Axes>"
      ]
     },
     "metadata": {},
     "output_type": "display_data"
    }
   ],
   "source": [
    "num_sample_points_per_exp_user_47 = 18000\n",
    "df_exps_dict_user_47 = load_data_frames([47], P.exp_begin_cutoff_idx, P.exp_end_cutoff_idx, num_sample_points_per_exp_user_47)\n",
    "dfList_exp1_user_47, dfList_exp2_user_47 = df_exps_dict_user_47['dfList_exp1'], df_exps_dict_user_47['dfList_exp2']\n",
    "\n",
    "raw_dfList_exp1_user_47 = dfList_exp1_user_47\n",
    "raw_dfList_exp2_user_47 = dfList_exp2_user_47\n",
    "\n",
    "ffted_dfList_exp1_user_47 = get_ffted_dfList(raw_dfList_exp1_user_47, cut_off_freq=P.cut_off_freq, filter_order=10, filtfilt=1)\n",
    "ffted_dfList_exp2_user_47 = get_ffted_dfList(raw_dfList_exp2_user_47, cut_off_freq=P.cut_off_freq, filter_order=10, filtfilt=1)\n",
    "ffted_dfList_exp2_user_47[0]['x_a'][500:1000].plot()\n",
    "dfList_exp1_user_47 = ffted_dfList_exp1_user_47\n",
    "dfList_exp2_user_47 = ffted_dfList_exp2_user_47\n",
    "# EMAed_dfList_exp1_user_47 = get_EMAed_dfList(ffted_dfList_exp1_user_47, span=P.span)\n",
    "# EMAed_dfList_exp2_user_47 = get_EMAed_dfList(ffted_dfList_exp2_user_47, span=P.span)\n",
    "# EMAed_dfList_exp2_user_47[0]['EMA_x_a'][500:1000].plot()\n",
    "# dfList_exp1_user_47 = EMAed_dfList_exp1_user_47\n",
    "# dfList_exp2_user_47 = EMAed_dfList_exp2_user_47\n",
    "\n",
    "# preparing train data\n",
    "\n",
    "\n",
    "X_train_exp1_dict, X_train_exp2_dict, fitted_scaler_SNN_train_exp2_dict=get_raw_windows(dfList_exp1, dfList_exp2, P.window_size, P.nn_step_width, train_set, \n",
    "                                                                    P.scaler, P.num_sample_points_per_exp, EMA_per_win_span=None, SMA_per_win_winsize=None)\n",
    "\n",
    "X_train_exp1_dict_user_47, X_train_exp2_dict_user_47, fitted_scaler_SNN_train_exp2_dict_user_47=get_raw_windows_user_47(dfList_exp1_user_47, dfList_exp2_user_47, P.window_size, P.nn_step_width, \n",
    "                                                                                                  scaler=P.scaler, num_sample_points_per_exp=P.num_sample_points_per_exp, \n",
    "                                                                                                  EMA_per_win_span=None, SMA_per_win_winsize=None)\n",
    "\n",
    "X_train_exp1_dict, X_train_exp2_dict, fitted_scaler_SNN_train_exp2_dict=append_user_47_to_data(X_train_exp1_dict, X_train_exp2_dict, fitted_scaler_SNN_train_exp2_dict, P.user_ids, \n",
    "                                                                                               X_train_exp1_dict_user_47, X_train_exp2_dict_user_47, fitted_scaler_SNN_train_exp2_dict_user_47, verbose=1)\n",
    "\n",
    "print(f\"len(exp1_df_train_dict): {len(X_train_exp1_dict)}\")\n",
    "print(f\"len(exp2_df_train_dict): {len(X_train_exp2_dict)}\")\n",
    "\n",
    "\n",
    "# preparing test data\n",
    "X_test_exp1_dict, X_test_exp2_dict, fitted_scaler_test_exp2_dict=get_raw_windows(dfList_exp1, dfList_exp2, P.window_size, P.ocsvm_step_width, test_set, \n",
    "                                                                    P.scaler, P.num_sample_points_per_exp, EMA_per_win_span=None, SMA_per_win_winsize=None)\n",
    "\n",
    "print(f\"len(X_test_exp1_dict): {len(X_test_exp1_dict)}\")\n",
    "print(f\"len(X_test_exp2_dict): {len(X_test_exp2_dict)}\")"
   ]
  },
  {
   "cell_type": "code",
   "execution_count": 19,
   "metadata": {
    "tags": []
   },
   "outputs": [],
   "source": [
    "# df_exps_dict_user_47 = load_data_frames([47], P.exp_begin_cutoff_idx, P.exp_end_cutoff_idx, num_sample_points_per_exp_user_47)\n",
    "# dfList_exp1_user_47, dfList_exp2_user_47 = df_exps_dict_user_47['dfList_exp1'], df_exps_dict_user_47['dfList_exp2']"
   ]
  },
  {
   "cell_type": "code",
   "execution_count": 20,
   "metadata": {
    "tags": []
   },
   "outputs": [],
   "source": [
    "# dfList_exp1_user_47[0].hist(bins=100, column='EMA_x_a')\n",
    "# dfList_exp1_user_47[0].hist(bins=100, column='EMA_y_a')\n",
    "# dfList_exp1_user_47[0].hist(bins=100, column='EMA_z_a')\n",
    "# dfList_exp1_user_47[0].hist(bins=100, column='EMA_x_g')\n",
    "# dfList_exp1_user_47[0].hist(bins=100, column='EMA_y_g')\n",
    "# dfList_exp1_user_47[0].hist(bins=100, column='EMA_z_g')\n",
    "\n",
    "# dfList_exp2_user_47[0].hist(bins=100, column='EMA_x_a')\n",
    "# dfList_exp2_user_47[0].hist(bins=100, column='EMA_y_a')\n",
    "# dfList_exp2_user_47[0].hist(bins=100, column='EMA_z_a')\n",
    "# dfList_exp2_user_47[0].hist(bins=100, column='EMA_x_g')\n",
    "# dfList_exp2_user_47[0].hist(bins=100, column='EMA_y_g')\n",
    "# dfList_exp2_user_47[0].hist(bins=100, column='EMA_z_g')\n",
    "# raw_dfList_exp2_user_47[0][\"EMA_x_a\"].plot()"
   ]
  },
  {
   "cell_type": "code",
   "execution_count": 21,
   "metadata": {
    "tags": []
   },
   "outputs": [],
   "source": [
    "# visualize distro\n",
    "all_exp1 = pd.concat(dfList_exp1)\n",
    "all_exp2 = pd.concat(dfList_exp2)\n"
   ]
  },
  {
   "cell_type": "code",
   "execution_count": 22,
   "metadata": {
    "tags": []
   },
   "outputs": [],
   "source": [
    "# all_exp1.hist(bins=100, column='x_a')\n",
    "# all_exp1.hist(bins=100, column='y_a')\n",
    "# all_exp1.hist(bins=100, column='z_a')\n",
    "# all_exp1.hist(bins=100, column='x_g')\n",
    "# all_exp1.hist(bins=100, column='y_g')\n",
    "# all_exp1.hist(bins=100, column='z_g')\n",
    "\n",
    "# all_exp2.hist(bins=100, column='x_a')\n",
    "# all_exp2.hist(bins=100, column='y_a')\n",
    "# all_exp2.hist(bins=100, column='z_a')\n",
    "# all_exp2.hist(bins=100, column='x_g')\n",
    "# all_exp2.hist(bins=100, column='y_g')\n",
    "# all_exp2.hist(bins=100, column='z_g')"
   ]
  },
  {
   "cell_type": "markdown",
   "metadata": {},
   "source": [
    "**Overview of current Experiment Parameters:**"
   ]
  },
  {
   "cell_type": "markdown",
   "metadata": {},
   "source": [
    "#### Euclidead distance"
   ]
  },
  {
   "cell_type": "markdown",
   "metadata": {},
   "source": [
    "#### Inspect Model Architecture"
   ]
  },
  {
   "cell_type": "code",
   "execution_count": 23,
   "metadata": {
    "tags": []
   },
   "outputs": [],
   "source": [
    "spliter = 2*len(X_train_exp2_dict)//3\n",
    "cnn_train_exp2 = {key: X_train_exp2_dict[key] for key in list(X_train_exp2_dict.keys())[:spliter]}\n",
    "cnn_train_exp1 = {key: X_train_exp1_dict[key] for key in list(X_train_exp1_dict.keys())[:spliter]}\n",
    "cnn_valid_exp2 = {key: X_train_exp2_dict[key] for key in list(X_train_exp2_dict.keys())[spliter:]}\n",
    "cnn_valid_exp1 = {key: X_train_exp1_dict[key] for key in list(X_train_exp1_dict.keys())[spliter:]}"
   ]
  },
  {
   "cell_type": "code",
   "execution_count": 24,
   "metadata": {
    "tags": []
   },
   "outputs": [
    {
     "name": "stdout",
     "output_type": "stream",
     "text": [
      "train set: dict_keys([7, 24, 8, 11, 13, 19, 28, 21, 26, 3, 20, 22, 6])\n",
      "validation set: dict_keys([25, 16, 1, 17, 27, 5, 29])\n",
      "train set: dict_keys([7, 24, 8, 11, 13, 19, 28, 21, 26, 3, 20, 22, 6])\n",
      "validation set: dict_keys([25, 16, 1, 17, 27, 5, 29])\n"
     ]
    }
   ],
   "source": [
    "print(f\"train set: {cnn_train_exp2.keys()}\\nvalidation set: {cnn_valid_exp2.keys()}\")\n",
    "print(f\"train set: {cnn_train_exp1.keys()}\\nvalidation set: {cnn_valid_exp1.keys()}\")"
   ]
  },
  {
   "cell_type": "code",
   "execution_count": 25,
   "metadata": {},
   "outputs": [
    {
     "data": {
      "text/plain": [
       "dict_keys([7, 24, 8, 11, 13, 19, 28, 21, 26, 3, 20, 22, 6, 25, 16, 1, 17, 27, 5, 29])"
      ]
     },
     "execution_count": 25,
     "metadata": {},
     "output_type": "execute_result"
    }
   ],
   "source": [
    "fitted_scaler_SNN_train_exp2_dict.keys()"
   ]
  },
  {
   "cell_type": "code",
   "execution_count": 26,
   "metadata": {},
   "outputs": [
    {
     "data": {
      "text/plain": [
       "dict_keys([7, 24, 8, 11, 13, 19, 28, 21, 26, 3, 20, 22, 6])"
      ]
     },
     "execution_count": 26,
     "metadata": {},
     "output_type": "execute_result"
    }
   ],
   "source": [
    "cnn_train_exp1.keys()"
   ]
  },
  {
   "cell_type": "code",
   "execution_count": 27,
   "metadata": {
    "tags": []
   },
   "outputs": [],
   "source": [
    "# %run ./utility-functions.ipynb\n",
    "\n",
    "# P.model_variant = 'multi_input'\n",
    "\n",
    "# tf.random.set_seed(SEED)\n",
    "# create_model_func = get_create_model_func_multi_input(P.model_variant, P.window_size, P.feature_cols, 3)\n",
    "# num_input=3\n",
    "# single_head_2layercnn_2layerdense_SCNN_arg_dict_default = {\n",
    "#     \"input_dropout_streams\": [0.2 for i in range(num_input)],\n",
    "#     \"filters_streams\": [[128, 64] for i in range(num_input)],\n",
    "#     \"kernels_streams\": [[5, 3] for i in range(num_input)],\n",
    "#     \"kernels_init_streams\": [[\"glorot_uniform\", \"glorot_uniform\"] for i in range(num_input)],\n",
    "#     \"kernels_Max_Norm_constraint_streams\": [[3, 3] for i in range(num_input)],\n",
    "#     \"conv_kernel_regularizer_streams\": [[\"l1\",\"l2\"] for i in range(num_input)],\n",
    "#     \"strides_streams\": [[1, 1] for i in range(num_input)],\n",
    "#     \"paddings_streams\": [[\"same\", \"same\"] for i in range(num_input)],\n",
    "#     \"dropouts_streams\": [[0.2, 0.2] for i in range(num_input)],\n",
    "#     \"activations_streams\": [['relu', 'relu'] for i in range(num_input)],\n",
    "    \n",
    "#     \"dense_layers\": [84, 84],\n",
    "#     \"dense_kernel_Max_Norm_constraints\": [3, 3],\n",
    "#     \"dense_kernel_regularizer\":[\"l1\", \"l2\"],\n",
    "#     \"dense_kernel_inits\": [\"glorot_uniform\", \"glorot_uniform\"],\n",
    "#     \"dense_dropouts\": [0.2, 0.2], \n",
    "#     \"dense_activations\": ['swish', \"sigmoid\"],\n",
    "    \n",
    "#     \"loss_func_name\": \"k_contrastive_loss\",\n",
    "#     \"contrastive_loss_margin\": 1.0,\n",
    "    \n",
    "#     \"optimizer_name\": \"Adam\",\n",
    "#     \"optimizer_lr\": 1e-3,\n",
    "#     \"optimizer_decay\": None,\n",
    "    \n",
    "#     \"batch_size\": 64,\n",
    "    \n",
    "    \n",
    "#     \"Training_samples\": str(np.unique(y_train, return_counts=True)),\n",
    "#     \"Validation_samples\": str(np.unique(y_valid, return_counts=True)),\n",
    "#     \"smoothing\": P.smoothing if P.smoothing!=None else None,\n",
    "#     # \"EMA_span\": P.span if \"EMA\" in P.smoothing else None ,\n",
    "#     \"Butter_cut_off_freq\": P.cut_off_freq if P.cut_off_freq!=None else P.cut_off_freq,\n",
    "#     \"scaler\": P.scaler,\n",
    "\n",
    "# }\n",
    "\n",
    "# arg_dict=single_head_2layercnn_2layerdense_SCNN_arg_dict_default\n",
    "# arg_dict"
   ]
  },
  {
   "cell_type": "code",
   "execution_count": 28,
   "metadata": {
    "tags": []
   },
   "outputs": [],
   "source": [
    "# K.clear_session()\n",
    "# tf.compat.v1.reset_default_graph()\n",
    "# del history\n",
    "# del model\n",
    "\n"
   ]
  },
  {
   "cell_type": "code",
   "execution_count": 29,
   "metadata": {
    "tags": []
   },
   "outputs": [],
   "source": [
    "\n",
    "    \n",
    "    \n",
    "# lr_pool = np.logspace(-5, -2, num=10)\n",
    "# lr_pool=[1e-5]#, 2e-5]\n",
    "# lr_epoch_log_dict={}\n",
    "# ReduceLROnPlateau_err_mode={}\n",
    "# ReduceLROnPlateau_args={'mointored_metric': \"val_loss\", \"factor\": 0.2, \"patience\": 0, \"verbose\": 1, \"min_lr\": 1e-8}\n",
    "# ReduceLROnPlateau_args=ReduceLROnPlateau_args\n",
    "# for lr in lr_pool:\n",
    "#     tf.random.set_seed(SEED)\n",
    "#     arg_dict['optimizer_lr'] = lr\n",
    "#     print(lr)\n",
    "#     print(arg_dict)\n",
    "#     loss_record_dict = {'loss': [], 'val_loss': []}\n",
    "#     metric_record_dict = {}\n",
    "#     model = create_model_func(arg_dict)\n",
    "\n",
    "#     # Train\n",
    "#     history = model.fit(\n",
    "#         x=X_train,\n",
    "#         y=y_train,\n",
    "#         batch_size=arg_dict[\"batch_size\"],\n",
    "#         epochs=200,\n",
    "#         verbose=1,\n",
    "#         validation_data=(X_valid, y_valid),\n",
    "#         shuffle=True,\n",
    "#         callbacks=[MetricsCallback_multi_input((X_valid, y_valid, X_train, y_train), epoch_evaluate_freq=1, \n",
    "#                                    loss_record_dict=loss_record_dict, metric_record_dict=metric_record_dict, \n",
    "#                                    save_plots=True, print_interm_epochs=True, early_stoping=False,\n",
    "#                                   ReduceLROnPlateau_args=ReduceLROnPlateau_args, lr_epoch_log_dict=lr_epoch_log_dict)]#, reduce_lr],\n",
    "#     )\n",
    "#     print(loss_record_dict)\n",
    "#     print(\"Training History:\")\n",
    "#     loss_fig = utils_plot_training_loss(loss_record_dict)\n",
    "    \n",
    "#     del model\n",
    "#     del history\n",
    "#     K.clear_session()\n",
    "#     tf.compat.v1.reset_default_graph()"
   ]
  },
  {
   "cell_type": "code",
   "execution_count": 30,
   "metadata": {},
   "outputs": [
    {
     "data": {
      "text/plain": [
       "1"
      ]
     },
     "execution_count": 30,
     "metadata": {},
     "output_type": "execute_result"
    }
   ],
   "source": [
    "(1)"
   ]
  },
  {
   "cell_type": "code",
   "execution_count": 31,
   "metadata": {
    "tags": []
   },
   "outputs": [
    {
     "name": "stderr",
     "output_type": "stream",
     "text": [
      "100%|██████████| 13/13 [00:06<00:00,  1.99it/s]\n",
      "100%|██████████| 7/7 [00:01<00:00,  3.60it/s]\n"
     ]
    },
    {
     "name": "stdout",
     "output_type": "stream",
     "text": [
      "Training samples:   10322, shape: (10322, 2000, 6), class balance: (array([0., 1.], dtype=float32), array([5148, 5174]))\n",
      "Validation samples: 5614, shape: (5614, 2000, 6), class balance: (array([0., 1.], dtype=float32), array([2814, 2800])) class balance: (5614, 1)\n"
     ]
    }
   ],
   "source": [
    "warnings.filterwarnings(\"ignore\")\n",
    "\n",
    "# why dont i get equal neg and pos pairs???\n",
    "num_pair_limit_train_2000 = 10348\n",
    "num_pair_limit_valid_2000 = 5614\n",
    "num_pair_limit_train_125 = 8*num_pair_limit_train_2000\n",
    "num_pair_limit_valid_125 = 8*num_pair_limit_valid_2000\n",
    "# num_pair_limit_train_2000 = 18000\n",
    "# num_pair_limit_valid_2000 = 14000\n",
    "num_pair_limit_train_2000 = 28000\n",
    "num_pair_limit_valid_2000 = 14000\n",
    "# num_pair_limit_train_2000 = 999999999\n",
    "# num_pair_limit_valid_2000 = 999999999\n",
    "# num_pair_limit_train_2000 = 20000\n",
    "# num_pair_limit_valid_2000 = 10000\n",
    "# num_pair_limit_train_2000 = 40000\n",
    "# num_pair_limit_valid_2000 = 20000\n",
    "num_pair_limit_train_2000 = 10348\n",
    "num_pair_limit_valid_2000 = 5614\n",
    "train_pairs_dict = prep_X_y_pair(cnn_train_exp2, cnn_train_exp1, list(cnn_train_exp2.keys()), fitted_scaler_SNN_train_exp2_dict, num_pair_limit=num_pair_limit_train_2000)\n",
    "X_train, y_train, X_train_distro_dic = train_pairs_dict[\"X\"], train_pairs_dict[\"y\"], train_pairs_dict[\"X_dic\"]\n",
    "\n",
    "valid_pairs_dict = prep_X_y_pair(cnn_valid_exp2, cnn_valid_exp1, list(cnn_valid_exp2.keys()), fitted_scaler_SNN_train_exp2_dict, num_pair_limit=num_pair_limit_valid_2000)\n",
    "X_valid, y_valid, X_valid_distro_dic = valid_pairs_dict[\"X\"], valid_pairs_dict[\"y\"], valid_pairs_dict[\"X_dic\"]\n",
    "# X_final_train, y_train = prep_X_y_pair(Raw_X_exp2_train_dic, Raw_X_exp1_train_dic, list(Raw_X_exp2_train_dic.keys()), fitted_scaler_SNN_train_exp2_dict, num_pair_limit=num_pair_limit_train_2000)\n",
    "\n",
    "# 2D Filter Model needs flat 4th dimension\n",
    "if P.model_variant == \"2d\":\n",
    "    X_train[0] = X_train[0].reshape((*X_train[0].shape, 1))\n",
    "    X_train[1] = X_train[1].reshape((*X_train[1].shape, 1))\n",
    "    X_valid[0] = X_valid[0].reshape((*X_valid[0].shape, 1))\n",
    "    X_valid[1] = X_valid[1].reshape((*X_valid[1].shape, 1))\n",
    "\n",
    "print(\n",
    "    f\"Training samples:   {y_train.shape[0]}, shape: {X_train[0].shape},\"\n",
    "    + f\" class balance: {np.unique(y_train, return_counts=True)}\"\n",
    ")\n",
    "print(\n",
    "    f\"Validation samples: {y_valid.shape[0]}, shape: {X_valid[0].shape},\"\n",
    "    + f\" class balance: {np.unique(y_valid, return_counts=True)}\"\n",
    "    + f\" class balance: {y_valid.shape}\"\n",
    ")\n",
    "data_dict = {}\n",
    "data_dict[\"X_valid\"], data_dict[\"y_valid\"], data_dict[\"X_train\"], data_dict[\"y_train\"] = X_valid, y_valid, X_train, y_train"
   ]
  },
  {
   "cell_type": "code",
   "execution_count": 32,
   "metadata": {},
   "outputs": [],
   "source": [
    "X_left = np.concatenate([X_train[0], X_valid[0]])\n",
    "X_right = np.concatenate([X_train[1], X_valid[1]])\n",
    "y_train_valid = np.concatenate([y_train, y_valid])\n",
    "\n",
    "X_left, X_right, y_train_valid = sklearn_shuffle(X_left, X_right, y_train_valid, random_state=SEED)\n",
    "\n",
    "X_train_valid = [X_left, X_right]\n"
   ]
  },
  {
   "cell_type": "code",
   "execution_count": 33,
   "metadata": {},
   "outputs": [
    {
     "name": "stdout",
     "output_type": "stream",
     "text": [
      "float32\n",
      "float32\n",
      "float32\n",
      "float32\n",
      "float32\n",
      "float32\n",
      "float32\n"
     ]
    }
   ],
   "source": [
    "print(X_train[0].dtype)\n",
    "print(X_valid[0].dtype)\n",
    "print(X_train[1].dtype)\n",
    "print(X_valid[1].dtype)\n",
    "print(X_train_valid[0].dtype)\n",
    "print(X_train_valid[1].dtype)\n",
    "print(y_train_valid.dtype)\n"
   ]
  },
  {
   "cell_type": "code",
   "execution_count": 34,
   "metadata": {},
   "outputs": [
    {
     "data": {
      "text/plain": [
       "dict_keys([(7, 24), (7, 8), (7, 11), (7, 13), (7, 19), (7, 28), (7, 21), (7, 26), (7, 3), (7, 20), (7, 22), (7, 6), (24, 7), (24, 8), (24, 11), (24, 13), (24, 19), (24, 28), (24, 21), (24, 26), (24, 3), (24, 20), (24, 22), (24, 6), (8, 7), (8, 24), (8, 11), (8, 13), (8, 19), (8, 28), (8, 21), (8, 26), (8, 3), (8, 20), (8, 22), (8, 6), (11, 7), (11, 24), (11, 8), (11, 13), (11, 19), (11, 28), (11, 21), (11, 26), (11, 3), (11, 20), (11, 22), (11, 6), (13, 7), (13, 24), (13, 8), (13, 11), (13, 19), (13, 28), (13, 21), (13, 26), (13, 3), (13, 20), (13, 22), (13, 6), (19, 7), (19, 24), (19, 8), (19, 11), (19, 13), (19, 28), (19, 21), (19, 26), (19, 3), (19, 20), (19, 22), (19, 6), (28, 7), (28, 24), (28, 8), (28, 11), (28, 13), (28, 19), (28, 21), (28, 26), (28, 3), (28, 20), (28, 22), (28, 6), (21, 7), (21, 24), (21, 8), (21, 11), (21, 13), (21, 19), (21, 28), (21, 26), (21, 3), (21, 20), (21, 22), (21, 6), (26, 7), (26, 24), (26, 8), (26, 11), (26, 13), (26, 19), (26, 28), (26, 21), (26, 3), (26, 20), (26, 22), (26, 6), (3, 7), (3, 24), (3, 8), (3, 11), (3, 13), (3, 19), (3, 28), (3, 21), (3, 26), (3, 20), (3, 22), (3, 6), (20, 7), (20, 24), (20, 8), (20, 11), (20, 13), (20, 19), (20, 28), (20, 21), (20, 26), (20, 3), (20, 22), (20, 6), (22, 7), (22, 24), (22, 8), (22, 11), (22, 13), (22, 19), (22, 28), (22, 21), (22, 26), (22, 3), (22, 20), (22, 6), (6, 7), (6, 24), (6, 8), (6, 11), (6, 13), (6, 19), (6, 28), (6, 21), (6, 26), (6, 3), (6, 20), (6, 22)])"
      ]
     },
     "execution_count": 34,
     "metadata": {},
     "output_type": "execute_result"
    }
   ],
   "source": [
    "X_train_distro_dic[\"negative_pairs_dic\"].keys()"
   ]
  },
  {
   "cell_type": "code",
   "execution_count": 35,
   "metadata": {},
   "outputs": [
    {
     "data": {
      "text/plain": [
       "(398, 2, 2000, 6)"
      ]
     },
     "execution_count": 35,
     "metadata": {},
     "output_type": "execute_result"
    }
   ],
   "source": [
    "X_train_distro_dic[\"negative_pairs_dic\"].keys()\n",
    "\n",
    "# X_train_distro_dic[\"total_pairs_dic\"] = {user_key: np.concatenate([X_train_distro_dic[\"positive_pairs_dic\"][user_key], X_train_distro_dic[\"negative_pairs_dic\"][user_key]], axis=0) \n",
    "#                                          for user_key in X_train_distro_dic[\"positive_pairs_dic\"].keys()}\n",
    "# X_valid_distro_dic[\"total_pairs_dic\"] = {user_key: np.concatenate([X_valid_distro_dic[\"positive_pairs_dic\"][user_key], X_valid_distro_dic[\"negative_pairs_dic\"][user_key]], axis=0) \n",
    "#                                          for user_key in X_valid_distro_dic[\"positive_pairs_dic\"].keys()}\n",
    "\n",
    "X_train_valid_dic = {\n",
    "    \"positive_pairs_dic\": {**X_train_distro_dic[\"positive_pairs_dic\"], **X_valid_distro_dic[\"positive_pairs_dic\"]},\n",
    "                    }\n",
    "\n",
    "X_train_valid_dic[\"positive_pairs_dic\"][7].shape"
   ]
  },
  {
   "cell_type": "code",
   "execution_count": 36,
   "metadata": {},
   "outputs": [
    {
     "ename": "NameError",
     "evalue": "name 'get_distro_count_dict' is not defined",
     "output_type": "error",
     "traceback": [
      "\u001b[0;31m---------------------------------------------------------------------------\u001b[0m",
      "\u001b[0;31mNameError\u001b[0m                                 Traceback (most recent call last)",
      "Input \u001b[0;32mIn [36]\u001b[0m, in \u001b[0;36m<module>\u001b[0;34m\u001b[0m\n\u001b[0;32m----> 1\u001b[0m \u001b[38;5;241m802\u001b[39m \u001b[38;5;241m*\u001b[39m \u001b[38;5;28mlen\u001b[39m(\u001b[43mget_distro_count_dict\u001b[49m(X_valid_distro_dic))\n",
      "\u001b[0;31mNameError\u001b[0m: name 'get_distro_count_dict' is not defined"
     ]
    }
   ],
   "source": [
    "# 802 * len(get_distro_count_dict(X_valid_distro_dic))"
   ]
  },
  {
   "cell_type": "code",
   "execution_count": 39,
   "metadata": {},
   "outputs": [
    {
     "data": {
      "text/plain": [
       "{7: 794,\n",
       " 24: 794,\n",
       " 8: 794,\n",
       " 11: 794,\n",
       " 13: 794,\n",
       " 19: 794,\n",
       " 28: 794,\n",
       " 21: 794,\n",
       " 26: 794,\n",
       " 3: 794,\n",
       " 20: 794,\n",
       " 22: 794,\n",
       " 6: 794,\n",
       " 25: 802,\n",
       " 16: 802,\n",
       " 1: 802,\n",
       " 17: 802,\n",
       " 27: 802,\n",
       " 5: 802,\n",
       " 29: 802}"
      ]
     },
     "execution_count": 39,
     "metadata": {},
     "output_type": "execute_result"
    }
   ],
   "source": [
    "def get_user_distro_count_dict(X_distro_dict):\n",
    "    X_distro_count_dic = {}    \n",
    "    for owner_key in X_distro_dict[\"positive_pairs_dic\"].keys():\n",
    "        X_distro_count_dic[owner_key] = X_distro_dict[\"positive_pairs_dic\"][owner_key].shape[0]\n",
    "        X_distro_count_dic[owner_key] += np.concatenate([X_distro_dict[\"negative_pairs_dic\"][user_key_pairs] \n",
    "                                                for user_key_pairs in X_distro_dict[\"negative_pairs_dic\"].keys() \n",
    "                                                if user_key_pairs[0]==owner_key], axis=0).shape[0]\n",
    "        \n",
    "    return X_distro_count_dic\n",
    "\n",
    "\n",
    "user_distro_count_dict = {**get_user_distro_count_dict(X_train_distro_dic), **get_user_distro_count_dict(X_valid_distro_dic)}\n",
    "user_distro_count_dict"
   ]
  },
  {
   "cell_type": "code",
   "execution_count": 91,
   "metadata": {},
   "outputs": [
    {
     "data": {
      "image/png": "[encoded data removed]",
      "text/plain": [
       "<Figure size 985.14x360 with 2 Axes>"
      ]
     },
     "metadata": {},
     "output_type": "display_data"
    }
   ],
   "source": [
    "pair_labels, label_distro = np.unique(y_train_valid, return_counts=True)\n",
    "user_keys = list(user_distro_count_dict.keys())\n",
    "num_pairs = [num_pairs for num_pairs in user_distro_count_dict.values()]\n",
    "\n",
    "fig, axes = plt.subplots(\n",
    "    ncols=2, nrows=1, figsize=(5.473, 2), dpi=180, gridspec_kw={\"width_ratios\": [1, 5]}\n",
    ")\n",
    "\n",
    "bar_width = .5\n",
    "\n",
    "x_index=np.arange(len(pair_labels))\n",
    "axes[0].bar(x_index, label_distro, width=bar_width, color=MAGENTA)\n",
    "\n",
    "# Set labels for axes\n",
    "axes[0].set_xlabel('Pair Labels')\n",
    "axes[0].set_ylabel('Number of Pairs')\n",
    "\n",
    "# Set the title for the plot\n",
    "axes[0].set_title('Distribution of Pairs per Label')\n",
    "\n",
    "# Set x-axis ticks and labels\n",
    "axes[0].set_xticks(x_index)\n",
    "axes[0].set_xticklabels(pair_labels)\n",
    "\n",
    "# Rotate X-axis labels and set the alignment\n",
    "plt.xticks(rotation=0, ha='center')\n",
    "\n",
    "axes[0].tick_params(axis=\"x\", which=\"major\", pad=5)\n",
    "# Adjust x-axis limits\n",
    "axes[0].set_xlim(-0.5, len(x_index)-0.5)\n",
    "\n",
    "# Create a bar plot\n",
    "# Set the bar width\n",
    "bar_width = 0.6\n",
    "\n",
    "x_index=np.arange(len(user_keys))\n",
    "axes[1].bar(x_index, num_pairs, width=bar_width)\n",
    "\n",
    "# Set labels for axes\n",
    "axes[1].set_xlabel('User Keys')\n",
    "axes[1].set_ylabel('Number of Pairs')\n",
    "\n",
    "# Set the title for the plot\n",
    "axes[1].set_title('Distribution of Pairs per User Key')\n",
    "\n",
    "# Set x-axis ticks and labels\n",
    "axes[1].set_xticks(x_index)\n",
    "axes[1].set_xticklabels(user_keys)\n",
    "\n",
    "# Rotate X-axis labels and set the alignment\n",
    "plt.xticks(rotation=0, ha='center')\n",
    "\n",
    "axes[1].tick_params(axis=\"x\", which=\"major\", pad=5)\n",
    "\n",
    "# Adjust x-axis limits\n",
    "axes[1].set_xlim(-0.5, len(x_index)-0.5)\n",
    "\n",
    "\n",
    "# Display the plot\n",
    "plt.show()"
   ]
  },
  {
   "cell_type": "code",
   "execution_count": 63,
   "metadata": {},
   "outputs": [
    {
     "data": {
      "image/png": "[encoded data removed]",
      "text/plain": [
       "<Figure size 1152x792 with 1 Axes>"
      ]
     },
     "metadata": {},
     "output_type": "display_data"
    }
   ],
   "source": [
    "# Extract user_keys and number of pairs per user\n",
    "user_keys = list(user_distro_count_dict.keys())\n",
    "num_pairs = [num_pairs for num_pairs in user_distro_count_dict.values()]\n",
    "\n",
    "# Create a bar plot\n",
    "# Set the bar width\n",
    "bar_width = 0.6\n",
    "\n",
    "x_index=np.arange(len(user_keys))\n",
    "fig, ax = plt.subplots()\n",
    "ax.bar(x_index, num_pairs, width=bar_width)\n",
    "\n",
    "# Set labels for axes\n",
    "ax.set_xlabel('User Keys')\n",
    "ax.set_ylabel('Number of Pairs')\n",
    "\n",
    "# Set the title for the plot\n",
    "ax.set_title('Distribution of Pairs per User Key')\n",
    "\n",
    "# Set x-axis ticks and labels\n",
    "ax.set_xticks(x_index)\n",
    "ax.set_xticklabels(user_keys)\n",
    "\n",
    "# Rotate X-axis labels and set the alignment\n",
    "plt.xticks(rotation=0, ha='center')\n",
    "\n",
    "# Display the plot\n",
    "plt.show()"
   ]
  },
  {
   "cell_type": "code",
   "execution_count": 67,
   "metadata": {},
   "outputs": [
    {
     "name": "stdout",
     "output_type": "stream",
     "text": [
      "(array([0., 1.], dtype=float32), array([7962, 7974]))\n"
     ]
    }
   ],
   "source": [
    "print(np.unique(y_train_valid, return_counts=True))"
   ]
  },
  {
   "cell_type": "code",
   "execution_count": 64,
   "metadata": {},
   "outputs": [
    {
     "name": "stdout",
     "output_type": "stream",
     "text": [
      "(array([0., 1.], dtype=float32), array([7962, 7974]))\n"
     ]
    },
    {
     "data": {
      "image/png": "[encoded data removed]",
      "text/plain": [
       "<Figure size 1152x792 with 1 Axes>"
      ]
     },
     "metadata": {},
     "output_type": "display_data"
    }
   ],
   "source": [
    "# Extract user_keys and number of pairs per user\n",
    "user_keys, num_pairs = np.unique(y_train_valid, return_counts=True)\n",
    "\n",
    "# Create a bar plot\n",
    "# Set the bar width\n",
    "bar_width = .5\n",
    "\n",
    "x_index=np.arange(len(user_keys))\n",
    "fig, ax = plt.subplots()\n",
    "ax.bar(x_index, num_pairs, width=bar_width)\n",
    "\n",
    "# Set labels for axes\n",
    "ax.set_xlabel('Pair Labels')\n",
    "ax.set_ylabel('Number of Pairs')\n",
    "\n",
    "# Set the title for the plot\n",
    "ax.set_title('Distribution of Pairs per Label')\n",
    "\n",
    "# Set x-axis ticks and labels\n",
    "ax.set_xticks(x_index)\n",
    "ax.set_xticklabels(user_keys)\n",
    "\n",
    "# Rotate X-axis labels and set the alignment\n",
    "plt.xticks(rotation=0, ha='center')\n",
    "\n",
    "# Display the plot\n",
    "plt.show()"
   ]
  },
  {
   "cell_type": "markdown",
   "metadata": {},
   "source": [
    "### 4.4 Search optimal Epoch <a id='4.4'>&nbsp;</a> "
   ]
  },
  {
   "cell_type": "code",
   "execution_count": null,
   "metadata": {
    "tags": []
   },
   "outputs": [],
   "source": [
    "# model.summary()\n",
    "np.array(X_train).shape"
   ]
  },
  {
   "cell_type": "code",
   "execution_count": null,
   "metadata": {},
   "outputs": [],
   "source": [
    "# P.model_variant = 'fcn'\n",
    "# P.model_variant = 'multi_head_fcn'\n",
    "# P.model_variant\n",
    "# model = create_model_func(filters, kernels, strides, dropouts, activations, dense, loss_func, \n",
    "#                           optimizer)"
   ]
  },
  {
   "cell_type": "code",
   "execution_count": null,
   "metadata": {},
   "outputs": [],
   "source": [
    "utils_ppp(P)"
   ]
  },
  {
   "cell_type": "code",
   "execution_count": null,
   "metadata": {},
   "outputs": [],
   "source": [
    "# P.span\n",
    "P.smoothing\n",
    "# P.cut_off_freq\n",
    "# P.scaler"
   ]
  },
  {
   "cell_type": "code",
   "execution_count": null,
   "metadata": {
    "tags": []
   },
   "outputs": [],
   "source": [
    "P.model_variant = 'multi_head_fcn'\n",
    "P.tuning_metric=\"eer_val\"\n",
    "\n",
    "# arg_dict_default = {\n",
    "#     \"input_dropout_streams\": [0.2, 0.2],\n",
    "#     \"filters_streams\": [[32, 32, 32], [32, 32, 32]],\n",
    "#     \"kernels_streams\": [[7, 7, 7], [5, 5, 5]],\n",
    "#     \"kernels_init_streams\": [[\"glorot_uniform\", \"glorot_uniform\", \"glorot_uniform\"], [\"glorot_uniform\", \"glorot_uniform\", \"glorot_uniform\"]],\n",
    "#     \"kernels_constraint_streams\": [[MaxNorm(3), MaxNorm(3), MaxNorm(3)], [MaxNorm(3), MaxNorm(3), MaxNorm(3)]],\n",
    "#     \"strides_streams\": [[1, 1, 1], [1, 1, 1]],\n",
    "#     \"paddings_streams\": [[\"same\", \"same\", \"same\"], [\"same\", \"same\", \"same\"]],\n",
    "#     \"dropouts_streams\": [[.1, .1, .1], [.1, .1, .1]],\n",
    "#     \"activations_streams\": [['relu', 'relu', 'relu'], ['relu', 'relu', 'relu']],\n",
    "    \n",
    "#     \"dense_layers\": [32, 32],\n",
    "#     \"dense_kernel_constraints\":[MaxNorm(3), MaxNorm(3)],\n",
    "#     \"dense_kernel_inits\": [\"glorot_uniform\", \"glorot_uniform\"],\n",
    "#     \"dense_dropouts\": [0.2, 0.2], \n",
    "#     \"dense_activations\": [\"relu\", \"sigmoid\"],\n",
    "    \n",
    "#     \"loss_func\": k_contrastive_loss,\n",
    "#     \"optimizer\": \"Adam\",\n",
    "#     \"batch_size\": 512,\n",
    "# }\n",
    "three_head_1layer_SCNN_arg_dict_default = {\n",
    "    \"input_dropout_streams\": [.2, .2, .2], #5**3\n",
    "    \"filters_streams\": [[64], [64], [64]], #6**3\n",
    "    \"kernels_streams\": [[7], [5], [3]], #4*3\n",
    "    \"kernels_init_streams\": [[\"glorot_uniform\"], [\"glorot_uniform\"], #8**3\n",
    "                             [\"glorot_uniform\"]],\n",
    "    \"kernels_Max_Norm_constraint_streams\": [[3], [3], [3]], #3**3\n",
    "    \"conv_kernel_regularizer_streams\": [[\"l1\"],[\"l2\"], [\"l1\"]],\n",
    "    \"strides_streams\": [[1], [1], [1]], #4**3\n",
    "    \"paddings_streams\": [[\"same\"], [\"same\"], [\"same\"]], #2*3\n",
    "    \"dropouts_streams\": [[.1], [.1], [.1]], #5**3\n",
    "    \"activations_streams\": [['relu'], ['relu'], ['relu']], # 8**3\n",
    "    \n",
    "    \"dense_layers\": [84],\n",
    "    \"dense_kernel_Max_Norm_constraints\":[3],\n",
    "    \"dense_kernel_regularizer\":[\"l1\"],\n",
    "    \"dense_kernel_inits\": [\"glorot_uniform\"],\n",
    "    \"dense_dropouts\": [0], \n",
    "    \"dense_activations\": [\"sigmoid\"],\n",
    "    \n",
    "    \"loss_func_name\": \"k_contrastive_loss\",\n",
    "    \"contrastive_loss_margin\": 1.0,\n",
    "\n",
    "    \"optimizer_name\": \"Adam\",\n",
    "    \"optimizer_lr\": 1e-3,\n",
    "    \"optimizer_decay\": None,\n",
    "    \n",
    "    \"batch_size\": 64,\n",
    "    \n",
    "    \n",
    "    \"Training_samples\": str(np.unique(y_train, return_counts=True)),\n",
    "    \"Validation_samples\": str(np.unique(y_valid, return_counts=True)),\n",
    "    \"smoothing\": P.smoothing if P.smoothing!=None else None,\n",
    "    # \"EMA_span\": P.span if \"EMA\" in P.smoothing else None ,\n",
    "    \"Butter_cut_off_freq\": P.cut_off_freq if P.cut_off_freq!=None else P.cut_off_freq,\n",
    "    \"scaler\": P.scaler,\n",
    "}\n",
    "\n",
    "three_head_123layer_SCNN_arg_dict_default = {\n",
    "    \"input_dropout_streams\": [.2, .2, .2], #5**3\n",
    "    \"filters_streams\": [[64], [128, 64], [256, 128, 64]], #6**3\n",
    "    \"kernels_streams\": [[3], [5, 3], [7, 5, 3]], #4*3\n",
    "    \"kernels_init_streams\": [[\"glorot_uniform\"], [\"glorot_uniform\", \"glorot_uniform\"], #8**3\n",
    "                             [\"glorot_uniform\", \"glorot_uniform\", \"glorot_uniform\"]],\n",
    "    \"kernels_Max_Norm_constraint_streams\": [[3], [3, 3], [3, 3, 3]], #3**3\n",
    "    \"conv_kernel_regularizer_streams\": [[\"l1\"], [\"l2\",\"l1\"], [\"l1\",\"l2\", \"l1\"]],\n",
    "    \"strides_streams\": [[1], [1, 1], [1, 1, 1]], #4**3\n",
    "    \"paddings_streams\": [[\"same\"], [\"same\", \"same\"], [\"same\", \"same\", \"same\"]], #2*3\n",
    "    \"dropouts_streams\": [[.4], [.3, .4], [.2, .3, .4]], #5**3\n",
    "    \"activations_streams\": [['relu'], ['relu', 'relu'], ['relu', 'relu', 'relu']], # 8**3\n",
    "    \n",
    "    \"dense_layers\": [84],\n",
    "    \"dense_kernel_Max_Norm_constraints\":[3],\n",
    "    \"dense_kernel_regularizer\":[\"l1\"],\n",
    "    \"dense_kernel_inits\": [\"glorot_uniform\"],\n",
    "    \"dense_dropouts\": [0], \n",
    "    \"dense_activations\": [\"sigmoid\"],\n",
    "    \n",
    "    \"loss_func_name\": \"k_contrastive_loss\",\n",
    "    \"contrastive_loss_margin\": 1.0,\n",
    "\n",
    "    \"optimizer_name\": \"Nadam\",\n",
    "    \"optimizer_lr\": 1e-3,\n",
    "    \"optimizer_decay\": None,\n",
    "    \n",
    "    \"batch_size\": 256,\n",
    "    \n",
    "    \n",
    "    \"Training_samples\": str(np.unique(y_train, return_counts=True)),\n",
    "    \"Validation_samples\": str(np.unique(y_valid, return_counts=True)),\n",
    "    \"smoothing\": P.smoothing if P.smoothing!=None else None,\n",
    "    # \"EMA_span\": P.span if \"EMA\" in P.smoothing else None ,\n",
    "    \"Butter_cut_off_freq\": P.cut_off_freq if P.cut_off_freq!=None else P.cut_off_freq,\n",
    "    \"scaler\": P.scaler,\n",
    "}\n",
    "\n",
    "\n",
    "single_head_SCNN_arg_dict_default = {\n",
    "    \"input_dropout_streams\": [0.2],\n",
    "    \"filters_streams\": [[512, 256, 128]],\n",
    "    \"kernels_streams\": [[7, 5, 3]],\n",
    "    \"kernels_init_streams\": [[\"glorot_uniform\", \"glorot_uniform\", \"glorot_uniform\"]],\n",
    "    \"kernels_Max_Norm_constraint_streams\": [[3, 3, 3]],\n",
    "    \"conv_kernel_regularizer_streams\": [[\"l1\",\"l2\", \"l1\"]],\n",
    "    \"strides_streams\": [[1, 1, 1]],\n",
    "    \"paddings_streams\": [[\"same\", \"same\", \"same\"]],\n",
    "    \"dropouts_streams\": [[0.3, 0.4, 0.5]],\n",
    "    \"activations_streams\": [['relu', 'relu', 'relu']],\n",
    "    \n",
    "    \"dense_layers\": [84],\n",
    "    \"dense_kernel_Max_Norm_constraints\":[3],\n",
    "    \"dense_kernel_regularizer\":[\"l1\"],\n",
    "    \"dense_kernel_inits\": [\"glorot_uniform\"],\n",
    "    \"dense_dropouts\": [0.2], \n",
    "    \"dense_activations\": [\"sigmoid\"],\n",
    "\n",
    "    \n",
    "    \"loss_func_name\": \"k_contrastive_loss\",\n",
    "    \"contrastive_loss_margin\": 1.0,\n",
    "    \n",
    "    \"optimizer_name\": \"Adam\",\n",
    "    \"optimizer_lr\": 1e-3,\n",
    "    \"optimizer_decay\": None,\n",
    "    \n",
    "    \"batch_size\": 64,\n",
    "    \n",
    "    \n",
    "    \"Training_samples\": str(np.unique(y_train, return_counts=True)),\n",
    "    \"Validation_samples\": str(np.unique(y_valid, return_counts=True)),\n",
    "    \"smoothing\": P.smoothing if P.smoothing!=None else None,\n",
    "    # \"EMA_span\": P.span if \"EMA\" in P.smoothing else None ,\n",
    "    \"Butter_cut_off_freq\": P.cut_off_freq if P.cut_off_freq!=None else P.cut_off_freq,\n",
    "    \"scaler\": P.scaler,\n",
    "\n",
    "}\n",
    "\n",
    "single_head_2layer_SCNN_arg_dict_default = {\n",
    "    \"input_dropout_streams\": [0.2],\n",
    "    \"filters_streams\": [[32, 64]],\n",
    "    \"kernels_streams\": [[5, 3]],\n",
    "    \"kernels_init_streams\": [[\"glorot_uniform\", \"glorot_uniform\"]],\n",
    "    \"kernels_Max_Norm_constraint_streams\": [[3, 3]],\n",
    "    \"conv_kernel_regularizer_streams\": [[\"l1\",\"l2\"]],\n",
    "    \"strides_streams\": [[1, 1]],\n",
    "    \"paddings_streams\": [[\"same\", \"same\"]],\n",
    "    \"dropouts_streams\": [[0.2, 0.2]],\n",
    "    \"activations_streams\": [['relu', 'relu']],\n",
    "    \n",
    "    \"dense_layers\": [84],\n",
    "    \"dense_kernel_Max_Norm_constraints\": [3],\n",
    "    \"dense_kernel_regularizer\":[\"l1\"],\n",
    "    \"dense_kernel_inits\": [\"glorot_uniform\"],\n",
    "    \"dense_dropouts\": [0.2], \n",
    "    \"dense_activations\": [\"sigmoid\"],\n",
    "    \n",
    "    \"loss_func_name\": \"k_contrastive_loss\",\n",
    "    \"contrastive_loss_margin\": 1.0,\n",
    "    \n",
    "    \"optimizer_name\": \"Adam\",\n",
    "    \"optimizer_lr\": 1e-3,\n",
    "    \"optimizer_decay\": None,\n",
    "    \n",
    "    \"batch_size\": 64,\n",
    "    \n",
    "    \n",
    "    \"Training_samples\": str(np.unique(y_train, return_counts=True)),\n",
    "    \"Validation_samples\": str(np.unique(y_valid, return_counts=True)),\n",
    "    \"smoothing\": P.smoothing if P.smoothing!=None else None,\n",
    "    # \"EMA_span\": P.span if \"EMA\" in P.smoothing else None ,\n",
    "    \"Butter_cut_off_freq\": P.cut_off_freq if P.cut_off_freq!=None else P.cut_off_freq,\n",
    "    \"scaler\": P.scaler,\n",
    "\n",
    "}\n",
    "\n",
    "single_head_1layer_SCNN_arg_dict_default = {\n",
    "    \"input_dropout_streams\": [0.2],\n",
    "    \"filters_streams\": [[64]],\n",
    "    \"kernels_streams\": [[3]],\n",
    "    \"kernels_init_streams\": [[\"glorot_uniform\"]],\n",
    "    \"kernels_Max_Norm_constraint_streams\": [[3]],\n",
    "    \"strides_streams\": [[1]],\n",
    "    \"conv_kernel_regularizer_streams\": [[\"l1\"]],\n",
    "    \"paddings_streams\": [[\"same\"]],\n",
    "    \"dropouts_streams\": [[0.2]],\n",
    "    \"activations_streams\": [['relu']],\n",
    "    \n",
    "    \"dense_layers\": [84],\n",
    "    \"dense_kernel_Max_Norm_constraints\": [3],\n",
    "    \"dense_kernel_regularizer\":[\"l1\"],\n",
    "    \"dense_kernel_inits\": [\"glorot_uniform\"],\n",
    "    \"dense_dropouts\": [0.2], \n",
    "    \"dense_activations\": [\"sigmoid\"],\n",
    "    \n",
    "    \"loss_func_name\": \"k_contrastive_loss\",\n",
    "    \"contrastive_loss_margin\": 1.0,\n",
    "    \n",
    "    \"optimizer_name\": \"Adam\",\n",
    "    \"optimizer_lr\": 1e-3,\n",
    "    \"optimizer_decay\": None,\n",
    "    \n",
    "    \"batch_size\": 32,\n",
    "    \n",
    "    \n",
    "    \"Training_samples\": str(np.unique(y_train, return_counts=True)),\n",
    "    \"Validation_samples\": str(np.unique(y_valid, return_counts=True)),\n",
    "    \"smoothing\": P.smoothing if P.smoothing!=None else None,\n",
    "    # \"EMA_span\": P.span if \"EMA\" in P.smoothing else None ,\n",
    "    \"Butter_cut_off_freq\": P.cut_off_freq if P.cut_off_freq!=None else P.cut_off_freq,\n",
    "    \"scaler\": P.scaler,\n",
    "\n",
    "}\n",
    "\n",
    "single_head_2layercnn_2layerdense_SCNN_arg_dict_default = {\n",
    "    \"input_dropout_streams\": [0.2],\n",
    "    \"filters_streams\": [[128, 64]],\n",
    "    \"kernels_streams\": [[5, 3]],\n",
    "    \"kernels_init_streams\": [[\"glorot_uniform\", \"glorot_uniform\"]],\n",
    "    \"kernels_Max_Norm_constraint_streams\": [[3, 3]],\n",
    "    \"conv_kernel_regularizer_streams\": [[\"l1\",\"l2\"]],\n",
    "    \"strides_streams\": [[1, 1]],\n",
    "    \"paddings_streams\": [[\"same\", \"same\"]],\n",
    "    \"dropouts_streams\": [[0.2, 0.2]],\n",
    "    \"activations_streams\": [['relu', 'relu']],\n",
    "    \n",
    "    \"dense_layers\": [84, 84],\n",
    "    \"dense_kernel_Max_Norm_constraints\": [3, 3],\n",
    "    \"dense_kernel_regularizer\":[\"l1\", \"l2\"],\n",
    "    \"dense_kernel_inits\": [\"glorot_uniform\", \"glorot_uniform\"],\n",
    "    \"dense_dropouts\": [0.2, 0.2], \n",
    "    \"dense_activations\": ['swish', \"sigmoid\"],\n",
    "    \n",
    "    \"loss_func_name\": \"k_contrastive_loss\",\n",
    "    \"contrastive_loss_margin\": 1.0,\n",
    "    \n",
    "    \"optimizer_name\": \"Adam\",\n",
    "    \"optimizer_lr\": 1e-3,\n",
    "    \"optimizer_decay\": None,\n",
    "    \n",
    "    \"batch_size\": 512,\n",
    "    \n",
    "    \n",
    "    \"Training_samples\": str(np.unique(y_train, return_counts=True)),\n",
    "    \"Validation_samples\": str(np.unique(y_valid, return_counts=True)),\n",
    "    \"smoothing\": P.smoothing if P.smoothing!=None else None,\n",
    "    # \"EMA_span\": P.span if \"EMA\" in P.smoothing else None ,\n",
    "    \"Butter_cut_off_freq\": P.cut_off_freq if P.cut_off_freq!=None else P.cut_off_freq,\n",
    "    \"scaler\": P.scaler,\n",
    "\n",
    "}\n",
    "\n",
    "\n",
    "pool_dict= {\n",
    "    \"num_filters_pool\": [8, 16, 32, 64, 128, 256],\n",
    "    \"kernel_size_pool\": [3, 5, 7, 9],\n",
    "    \"kernel_init_pool\": ['truncated_normal', 'orthogonal', 'uniform', 'lecun_normal', 'lecun_uniform', 'normal', 'glorot_normal', 'glorot_uniform', 'he_normal', 'he_uniform'],\n",
    "    \"stride_pool\": [1 ,2 ,3 , 4],\n",
    "    \"padding_pool\": [\"valid\", \"same\", \"causal\"], # \"causal\" results in causal (dilated) convolutions, e.g. output[t] does not depend on input[t+1:]. \n",
    "    # Useful when modeling temporal data where the model should not violate the temporal order. See WaveNet: A Generative Model for Raw Audio, section 2.1.\n",
    "    \"dropout_pool\": [0, .1, .2, .3, .4, .5],\n",
    "    \"activation_pool\": ['softplus', 'softsign', 'relu', 'elu', 'gelu', 'selu', 'swish', 'tanh', 'sigmoid', 'hard_sigmoid', 'linear', \"LeakyReLU\"],\n",
    "    \"num_dense_neuron_pool\": [8, 16, 32, 64, 84, 128, 256],\n",
    "    \"kernel_Max_Norm_constraints_pool\": [3, 4, 5],\n",
    "    \"kernel_regularizer_pool\": [\"l1\", \"l2\", \"l1_l2\"],\n",
    "    \n",
    "    \"optimizer_name_pool\": [\"Adam\", \"Nadam\" , \"RMSprop\", \"Adadelta\", \"Adagrad\", \"Adamax\"],#SGD\n",
    "    \"optimizer_lr_pool\": [1e-5, 5e-5 ,1e-4, 5e-4, 1e-3, 5e-3, 1e-2, 5e-2, 1e-1],#1e-5, 5e-5, [1e-4, 2e-4, 3e-4, 4e-4, 5e-4], #\n",
    "    \"batch_size_pool\": [32, 64, 128, 256, 512, 1024],\n",
    "    \"contrastive_loss_margin_pool\": [.5, .6, .7, .8, .9, 1.0, 1.1, 1.2, 1.3, 1.4, 1.5],\n",
    "    \n",
    "}\n",
    "\n",
    "tf.random.set_seed(SEED)\n",
    "create_model_func = get_create_model_func(P.model_variant, P.window_size, P.feature_cols)\n",
    "\n",
    "arg_dict=three_head_1layer_SCNN_arg_dict_default\n",
    "arg_dict=single_head_SCNN_arg_dict_default\n",
    "tuning_metric_val_dict={}\n",
    "\n",
    "# starting\n",
    "# arg_dict, tuning_metric_val_dict = tune_training_params(data_dict, arg_dict, \"optimizer_lr\", pool_dict, \"optimizer_lr_pool\", create_model_func, \n",
    "# tuning_metric=P.tuning_metric, tuning_metric_val_dict=tuning_metric_val_dict, verbose=0)\n",
    "# custom_save_model(arg_dict, P.window_size, loss_record_dict={}, metric_record_dict={}, deep_feature_model=None, \n",
    "#                   test_res_fig_dic = None, other_dict=tuning_metric_val_dict, custom_prefix_dir_name=\"optimizer_lr\")\n",
    "\n",
    "arg_dict, tuning_metric_val_dict = tune_training_params(data_dict, arg_dict, \"optimizer_name\", pool_dict, \"optimizer_name_pool\", create_model_func,\n",
    "tuning_metric=P.tuning_metric, tuning_metric_val_dict=tuning_metric_val_dict, verbose=0)\n",
    "custom_save_model(arg_dict, P.window_size, loss_record_dict={}, metric_record_dict={}, deep_feature_model=None, \n",
    "                  test_res_fig_dic = None, other_dict=tuning_metric_val_dict, custom_prefix_dir_name=\"optimizer_name\")\n",
    "\n",
    "arg_dict, tuning_metric_val_dict = tune_training_params(data_dict, arg_dict, \"optimizer_lr\", pool_dict, \"optimizer_lr_pool\", create_model_func, \n",
    "tuning_metric=P.tuning_metric, tuning_metric_val_dict=tuning_metric_val_dict, verbose=0)\n",
    "custom_save_model(arg_dict, P.window_size, loss_record_dict={}, metric_record_dict={}, deep_feature_model=None, \n",
    "                  test_res_fig_dic = None, other_dict=tuning_metric_val_dict, custom_prefix_dir_name=\"optimizer_lr\")\n",
    "\n",
    "arg_dict, tuning_metric_val_dict = tune_training_params(data_dict, arg_dict, \"batch_size\", pool_dict, \"batch_size_pool\", create_model_func, \n",
    "tuning_metric=P.tuning_metric, tuning_metric_val_dict=tuning_metric_val_dict, verbose=0)\n",
    "custom_save_model(arg_dict, P.window_size, loss_record_dict={}, metric_record_dict={}, deep_feature_model=None, \n",
    "                  test_res_fig_dic = None, other_dict=tuning_metric_val_dict, custom_prefix_dir_name=\"batch_size\")\n",
    "\n",
    "arg_dict, tuning_metric_val_dict = tune_training_params(data_dict, arg_dict, \"optimizer_lr\", pool_dict, \"optimizer_lr_pool\", create_model_func, \n",
    "tuning_metric=P.tuning_metric, tuning_metric_val_dict=tuning_metric_val_dict, verbose=0)\n",
    "custom_save_model(arg_dict, P.window_size, loss_record_dict={}, metric_record_dict={}, deep_feature_model=None, \n",
    "                  test_res_fig_dic = None, other_dict=tuning_metric_val_dict, custom_prefix_dir_name=\"optimizer_lr\")\n",
    "\n",
    "arg_dict, tuning_metric_val_dict = tune_training_params(data_dict, arg_dict, \"contrastive_loss_margin\", pool_dict, \"contrastive_loss_margin_pool\", create_model_func, \n",
    "tuning_metric=P.tuning_metric, tuning_metric_val_dict=tuning_metric_val_dict, verbose=0)\n",
    "custom_save_model(arg_dict, P.window_size, loss_record_dict={}, metric_record_dict={}, deep_feature_model=None, \n",
    "                  test_res_fig_dic = None, other_dict=tuning_metric_val_dict, custom_prefix_dir_name=\"contrastive_loss_margin\")\n",
    "\n",
    "arg_dict, tuning_metric_val_dict = tune_training_params(data_dict, arg_dict, \"optimizer_lr\", pool_dict, \"optimizer_lr_pool\", create_model_func, \n",
    "tuning_metric=P.tuning_metric, tuning_metric_val_dict=tuning_metric_val_dict, verbose=0)\n",
    "custom_save_model(arg_dict, P.window_size, loss_record_dict={}, metric_record_dict={}, deep_feature_model=None, \n",
    "                  test_res_fig_dic = None, other_dict=tuning_metric_val_dict, custom_prefix_dir_name=\"optimizer_lr\")\n",
    "\n",
    "\n",
    "# core part\n",
    "\n",
    "arg_dict, tuning_metric_val_dict = tune_stream(data_dict, arg_dict, \"kernels_init_streams\", pool_dict, \"kernel_init_pool\", create_model_func, \n",
    "                                               tuning_metric=P.tuning_metric, tuning_metric_val_dict=tuning_metric_val_dict, verbose=0)\n",
    "custom_save_model(arg_dict, P.window_size, loss_record_dict={}, metric_record_dict={}, deep_feature_model=None, \n",
    "                  test_res_fig_dic = None, other_dict=tuning_metric_val_dict, custom_prefix_dir_name=\"kernels_init_streams\")\n",
    "\n",
    "arg_dict, tuning_metric_val_dict = tune_param(data_dict, arg_dict, \"dense_kernel_inits\", pool_dict, \"kernel_init_pool\", create_model_func, \n",
    "                                              tuning_metric=P.tuning_metric, tuning_metric_val_dict=tuning_metric_val_dict, verbose=0)\n",
    "custom_save_model(arg_dict, P.window_size, loss_record_dict={}, metric_record_dict={}, deep_feature_model=None, \n",
    "                  test_res_fig_dic = None, other_dict=tuning_metric_val_dict, custom_prefix_dir_name=\"dense_kernel_inits\")\n",
    "\n",
    "arg_dict, tuning_metric_val_dict = tune_stream(data_dict, arg_dict, \"filters_streams\", pool_dict, \"num_filters_pool\", create_model_func, \n",
    "tuning_metric=P.tuning_metric, tuning_metric_val_dict=tuning_metric_val_dict, verbose=0)\n",
    "custom_save_model(arg_dict, P.window_size, loss_record_dict={}, metric_record_dict={}, deep_feature_model=None, \n",
    "                  test_res_fig_dic = None, other_dict=tuning_metric_val_dict, custom_prefix_dir_name=\"filters_streams\")\n",
    "\n",
    "arg_dict, tuning_metric_val_dict = tune_stream(data_dict, arg_dict, \"kernels_streams\", pool_dict, \"kernel_size_pool\", create_model_func, \n",
    "tuning_metric=P.tuning_metric, tuning_metric_val_dict=tuning_metric_val_dict, verbose=0)\n",
    "custom_save_model(arg_dict, P.window_size, loss_record_dict={}, metric_record_dict={}, deep_feature_model=None, \n",
    "                  test_res_fig_dic = None, other_dict=tuning_metric_val_dict, custom_prefix_dir_name=\"kernels_streams\")\n",
    "\n",
    "arg_dict, tuning_metric_val_dict = tune_param(data_dict, arg_dict, \"dense_layers\", pool_dict, \"num_dense_neuron_pool\", create_model_func, \n",
    "tuning_metric=P.tuning_metric, tuning_metric_val_dict=tuning_metric_val_dict, verbose=0)\n",
    "custom_save_model(arg_dict, P.window_size, loss_record_dict={}, metric_record_dict={}, deep_feature_model=None, \n",
    "                  test_res_fig_dic = None, other_dict=tuning_metric_val_dict, custom_prefix_dir_name=\"dense_layers\")\n",
    "\n",
    "arg_dict, tuning_metric_val_dict = tune_stream(data_dict, arg_dict, \"strides_streams\", pool_dict, \"stride_pool\", create_model_func, \n",
    "                                               tuning_metric=P.tuning_metric, tuning_metric_val_dict=tuning_metric_val_dict, verbose=0)\n",
    "custom_save_model(arg_dict, P.window_size, loss_record_dict={}, metric_record_dict={}, deep_feature_model=None, \n",
    "                  test_res_fig_dic = None, other_dict=tuning_metric_val_dict, custom_prefix_dir_name=\"strides_streams\")\n",
    "\n",
    "arg_dict, tuning_metric_val_dict = tune_stream(data_dict, arg_dict, \"paddings_streams\", pool_dict, \"padding_pool\", create_model_func, \n",
    "                                               tuning_metric=P.tuning_metric, tuning_metric_val_dict=tuning_metric_val_dict, verbose=0)\n",
    "custom_save_model(arg_dict, P.window_size, loss_record_dict={}, metric_record_dict={}, deep_feature_model=None, \n",
    "                  test_res_fig_dic = None, other_dict=tuning_metric_val_dict, custom_prefix_dir_name=\"paddings_streams\")\n",
    "\n",
    "arg_dict, tuning_metric_val_dict = tune_stream(data_dict, arg_dict, \"activations_streams\", pool_dict, \"activation_pool\", create_model_func, \n",
    "                                               tuning_metric=P.tuning_metric, tuning_metric_val_dict=tuning_metric_val_dict, verbose=0)\n",
    "custom_save_model(arg_dict, P.window_size, loss_record_dict={}, metric_record_dict={}, deep_feature_model=None, \n",
    "                  test_res_fig_dic = None, other_dict=tuning_metric_val_dict, custom_prefix_dir_name=\"activations_streams\")\n",
    "\n",
    "arg_dict, tuning_metric_val_dict = tune_dense_activations(data_dict, arg_dict, pool_dict, \"activation_pool\", create_model_func, \n",
    "                                                          tuning_metric=P.tuning_metric, tuning_metric_val_dict=tuning_metric_val_dict, verbose=0)\n",
    "custom_save_model(arg_dict, P.window_size, loss_record_dict={}, metric_record_dict={}, deep_feature_model=None, \n",
    "                  test_res_fig_dic = None, other_dict=tuning_metric_val_dict, custom_prefix_dir_name=\"dense_activations\")\n",
    "\n",
    "arg_dict, tuning_metric_val_dict = tune_stream(data_dict, arg_dict, \"kernels_init_streams\", pool_dict, \"kernel_init_pool\", create_model_func, \n",
    "                                               tuning_metric=P.tuning_metric, tuning_metric_val_dict=tuning_metric_val_dict, verbose=0)\n",
    "custom_save_model(arg_dict, P.window_size, loss_record_dict={}, metric_record_dict={}, deep_feature_model=None, \n",
    "                  test_res_fig_dic = None, other_dict=tuning_metric_val_dict, custom_prefix_dir_name=\"kernels_init_streams\")\n",
    "\n",
    "arg_dict, tuning_metric_val_dict = tune_param(data_dict, arg_dict, \"dense_kernel_inits\", pool_dict, \"kernel_init_pool\", create_model_func, \n",
    "                                              tuning_metric=P.tuning_metric, tuning_metric_val_dict=tuning_metric_val_dict, verbose=0)\n",
    "custom_save_model(arg_dict, P.window_size, loss_record_dict={}, metric_record_dict={}, deep_feature_model=None, \n",
    "                  test_res_fig_dic = None, other_dict=tuning_metric_val_dict, custom_prefix_dir_name=\"dense_kernel_inits\")\n",
    "\n",
    "\n",
    "\n",
    "#regularization\n",
    "\n",
    "arg_dict, tuning_metric_val_dict = tune_stream(data_dict, arg_dict, \"kernels_Max_Norm_constraint_streams\", pool_dict, \"kernel_Max_Norm_constraints_pool\", create_model_func, \n",
    "                                               tuning_metric=P.tuning_metric, tuning_metric_val_dict=tuning_metric_val_dict, verbose=0)\n",
    "custom_save_model(arg_dict, P.window_size, loss_record_dict={}, metric_record_dict={}, deep_feature_model=None, \n",
    "                  test_res_fig_dic = None, other_dict=tuning_metric_val_dict, custom_prefix_dir_name=\"kernels_Max_Norm_constraint_streams\")\n",
    "\n",
    "arg_dict, tuning_metric_val_dict = tune_param(data_dict, arg_dict, \"dense_kernel_Max_Norm_constraints\", pool_dict, \"kernel_Max_Norm_constraints_pool\", create_model_func, \n",
    "                                            tuning_metric=P.tuning_metric, tuning_metric_val_dict=tuning_metric_val_dict, verbose=0)\n",
    "custom_save_model(arg_dict, P.window_size, loss_record_dict={}, metric_record_dict={}, deep_feature_model=None, \n",
    "                  test_res_fig_dic = None, other_dict=tuning_metric_val_dict, custom_prefix_dir_name=\"dense_kernel_Max_Norm_constraints\")\n",
    "\n",
    "arg_dict, tuning_metric_val_dict = tune_stream(data_dict, arg_dict, \"conv_kernel_regularizer_streams\", pool_dict, \"kernel_regularizer_pool\", create_model_func, \n",
    "tuning_metric=P.tuning_metric, tuning_metric_val_dict=tuning_metric_val_dict, verbose=0)\n",
    "custom_save_model(arg_dict, P.window_size, loss_record_dict={}, metric_record_dict={}, deep_feature_model=None, \n",
    "                  test_res_fig_dic = None, other_dict=tuning_metric_val_dict, custom_prefix_dir_name=\"conv_kernel_regularizer_streams\")\n",
    "\n",
    "arg_dict, tuning_metric_val_dict = tune_param(data_dict, arg_dict, \"dense_kernel_regularizer\", pool_dict, \"kernel_regularizer_pool\", create_model_func, \n",
    "tuning_metric=P.tuning_metric, tuning_metric_val_dict=tuning_metric_val_dict, verbose=0)\n",
    "custom_save_model(arg_dict, P.window_size, loss_record_dict={}, metric_record_dict={}, deep_feature_model=None, \n",
    "                  test_res_fig_dic = None, other_dict=tuning_metric_val_dict, custom_prefix_dir_name=\"dense_kernel_regularizer\")\n",
    "\n",
    "arg_dict, tuning_metric_val_dict = tune_param(data_dict, arg_dict, \"input_dropout_streams\", pool_dict, \"dropout_pool\", create_model_func, \n",
    "tuning_metric=P.tuning_metric, tuning_metric_val_dict=tuning_metric_val_dict, verbose=0)\n",
    "custom_save_model(arg_dict, P.window_size, loss_record_dict={}, metric_record_dict={}, deep_feature_model=None, \n",
    "                  test_res_fig_dic = None, other_dict=tuning_metric_val_dict, custom_prefix_dir_name=\"input_dropout_streams\")\n",
    "\n",
    "arg_dict, tuning_metric_val_dict = tune_stream(data_dict, arg_dict, \"dropouts_streams\", pool_dict, \"dropout_pool\", create_model_func, \n",
    "                                               tuning_metric=P.tuning_metric, tuning_metric_val_dict=tuning_metric_val_dict, verbose=0)\n",
    "custom_save_model(arg_dict, P.window_size, loss_record_dict={}, metric_record_dict={}, deep_feature_model=None, \n",
    "                  test_res_fig_dic = None, other_dict=tuning_metric_val_dict, custom_prefix_dir_name=\"dropouts_streams\")\n",
    "\n",
    "arg_dict, tuning_metric_val_dict = tune_param(data_dict, arg_dict, \"dense_dropouts\", pool_dict, \"dropout_pool\", create_model_func, \n",
    "                                              tuning_metric=P.tuning_metric, tuning_metric_val_dict=tuning_metric_val_dict, verbose=0)\n",
    "custom_save_model(arg_dict, P.window_size, loss_record_dict={}, metric_record_dict={}, deep_feature_model=None, \n",
    "                  test_res_fig_dic = None, other_dict=tuning_metric_val_dict, custom_prefix_dir_name=\"dense_dropouts\")"
   ]
  },
  {
   "cell_type": "code",
   "execution_count": null,
   "metadata": {},
   "outputs": [],
   "source": [
    "# arg_dict, tuning_metric_val_dict = load_arg_dict_other_dict(\"/home/jovyan/dat-bk/Masters-Thesis-Project/siamese_cnn_results/2000/optimizer_lr20230311-083711/\")"
   ]
  },
  {
   "cell_type": "code",
   "execution_count": null,
   "metadata": {},
   "outputs": [],
   "source": []
  },
  {
   "cell_type": "code",
   "execution_count": null,
   "metadata": {
    "tags": []
   },
   "outputs": [],
   "source": [
    "\"done\"\n",
    "print(arg_dict)\n",
    "lst=[best_val['best_eer_val']['value'] for best_val in np.concatenate(list(tuning_metric_val_dict.values()))]\n",
    "custom_save_model(arg_dict, P.window_size, loss_record_dict={}, metric_record_dict={}, \n",
    "                  deep_feature_model=None, test_res_fig_dic = None, other_dict=tuning_metric_val_dict, custom_prefix_dir_name=f\"one_round_tuning_more-starter-training-{45}Hz\")\n",
    "sns.lineplot(x=range(len(lst)), y=lst)"
   ]
  },
  {
   "cell_type": "code",
   "execution_count": null,
   "metadata": {},
   "outputs": [],
   "source": [
    "def load_arg_dict_other_dict(path):\n",
    "    f = open(f\"{path}\"+'/arg_dict.json')\n",
    "    arg_dict = json.load(f)\n",
    "    f2 = open(f\"{path}\"+'/other_dict.json')\n",
    "    tuning_metric_val_dict = json.load(f2)\n",
    "    f.close()\n",
    "    f2.close()\n",
    "    \n",
    "    return arg_dict, tuning_metric_val_dict\n",
    "\n",
    "tf.random.set_seed(SEED)\n",
    "arg_dict, _ = load_arg_dict_other_dict(\"/home/jovyan/dat-bk/Masters-Thesis-Project/siamese_cnn_results/125/one_round_tuning_more-starter-training-17Hz20230225-224433/\")\n",
    "arg_dict, _ = load_arg_dict_other_dict(\"/home/jovyan/dat-bk/Masters-Thesis-Project/siamese_cnn_results/125/one_round_tuning_more-starter-training-45Hz20230312-072207/\")\n",
    "\n",
    "\n",
    "P.model_variant = 'multi_head_fcn'\n",
    "create_model_func = get_create_model_func(P.model_variant, P.window_size, P.feature_cols)\n",
    "arg_dict[\"conv_kernel_regularizer_streams\"] = [[\"l1\",\"l2\", \"l1\"]]\n",
    "arg_dict[\"dense_kernel_regularizer\"] = [\"l1\"]\n",
    "arg_dict[\"optimizer_lr\"] = 0.0003"
   ]
  },
  {
   "cell_type": "code",
   "execution_count": null,
   "metadata": {},
   "outputs": [],
   "source": [
    "arg_dict"
   ]
  },
  {
   "cell_type": "code",
   "execution_count": null,
   "metadata": {},
   "outputs": [],
   "source": [
    "arg_dict[\"filters_streams\"] = [[256, 128, 64]]\n",
    "arg_dict[\"dense_layers\"] = [84]\n",
    "arg_dict['activations_streams'] = [['swish', 'swish', 'swish']]\n",
    "arg_dict[\"paddings_streams\"] = [['causal', 'causal', 'causal']] "
   ]
  },
  {
   "cell_type": "code",
   "execution_count": null,
   "metadata": {
    "tags": []
   },
   "outputs": [],
   "source": [
    "# arg_dict['batch_size']=512\n",
    "print(arg_dict)\n",
    "\n",
    "# arg_dict, tuning_metric_val_dict = tune_training_params(data_dict, arg_dict, \"optimizer_name\", pool_dict, \"optimizer_name_pool\", create_model_func,\n",
    "# tuning_metric=P.tuning_metric, tuning_metric_val_dict=tuning_metric_val_dict, verbose=0)\n",
    "# custom_save_model(arg_dict, P.window_size, loss_record_dict={}, metric_record_dict={}, deep_feature_model=None, \n",
    "#                   test_res_fig_dic = None, other_dict=tuning_metric_val_dict, custom_prefix_dir_name=\"optimizer_name\")\n",
    "\n",
    "# arg_dict, tuning_metric_val_dict = tune_training_params(data_dict, arg_dict, \"optimizer_lr\", pool_dict, \"optimizer_lr_pool\", create_model_func, \n",
    "# tuning_metric=P.tuning_metric, tuning_metric_val_dict=tuning_metric_val_dict, verbose=0)\n",
    "# custom_save_model(arg_dict, P.window_size, loss_record_dict={}, metric_record_dict={}, deep_feature_model=None, \n",
    "#                   test_res_fig_dic = None, other_dict=tuning_metric_val_dict, custom_prefix_dir_name=\"optimizer_lr\")\n",
    "\n",
    "arg_dict, tuning_metric_val_dict = tune_stream(data_dict, arg_dict, \"filters_streams\", pool_dict, \"num_filters_pool\", create_model_func, \n",
    "tuning_metric=P.tuning_metric, tuning_metric_val_dict=tuning_metric_val_dict, verbose=0)\n",
    "custom_save_model(arg_dict, P.window_size, loss_record_dict={}, metric_record_dict={}, deep_feature_model=None, \n",
    "                  test_res_fig_dic = None, other_dict=tuning_metric_val_dict, custom_prefix_dir_name=\"filters_streams\")\n",
    "\n",
    "arg_dict, tuning_metric_val_dict = tune_stream(data_dict, arg_dict, \"kernels_streams\", pool_dict, \"kernel_size_pool\", create_model_func, \n",
    "tuning_metric=P.tuning_metric, tuning_metric_val_dict=tuning_metric_val_dict, verbose=0)\n",
    "custom_save_model(arg_dict, P.window_size, loss_record_dict={}, metric_record_dict={}, deep_feature_model=None, \n",
    "                  test_res_fig_dic = None, other_dict=tuning_metric_val_dict, custom_prefix_dir_name=\"kernels_streams\")\n",
    "\n",
    "# arg_dict, tuning_metric_val_dict = tune_param(data_dict, arg_dict, \"dense_layers\", pool_dict, \"num_dense_neuron_pool\", create_model_func, \n",
    "# tuning_metric=P.tuning_metric, tuning_metric_val_dict=tuning_metric_val_dict, verbose=0)\n",
    "# custom_save_model(arg_dict, P.window_size, loss_record_dict={}, metric_record_dict={}, deep_feature_model=None, \n",
    "#                   test_res_fig_dic = None, other_dict=tuning_metric_val_dict, custom_prefix_dir_name=\"dense_layers\")\n",
    "\n",
    "# arg_dict, tuning_metric_val_dict = tune_stream(data_dict, arg_dict, \"kernels_init_streams\", pool_dict, \"kernel_init_pool\", create_model_func, \n",
    "#                                                tuning_metric=P.tuning_metric, tuning_metric_val_dict=tuning_metric_val_dict, verbose=0)\n",
    "# custom_save_model(arg_dict, P.window_size, loss_record_dict={}, metric_record_dict={}, deep_feature_model=None, \n",
    "#                   test_res_fig_dic = None, other_dict=tuning_metric_val_dict, custom_prefix_dir_name=\"kernels_init_streams\")\n",
    "\n",
    "# arg_dict, tuning_metric_val_dict = tune_param(data_dict, arg_dict, \"dense_kernel_inits\", pool_dict, \"kernel_init_pool\", create_model_func, \n",
    "#                                               tuning_metric=P.tuning_metric, tuning_metric_val_dict=tuning_metric_val_dict, verbose=0)\n",
    "# custom_save_model(arg_dict, P.window_size, loss_record_dict={}, metric_record_dict={}, deep_feature_model=None, \n",
    "#                   test_res_fig_dic = None, other_dict=tuning_metric_val_dict, custom_prefix_dir_name=\"dense_kernel_inits\")\n",
    "\n",
    "# arg_dict, tuning_metric_val_dict = tune_param(data_dict, arg_dict, \"input_dropout_streams\", pool_dict, \"dropout_pool\", create_model_func, \n",
    "# tuning_metric=P.tuning_metric, tuning_metric_val_dict=tuning_metric_val_dict, verbose=0)\n",
    "# custom_save_model(arg_dict, P.window_size, loss_record_dict={}, metric_record_dict={}, deep_feature_model=None, \n",
    "#                   test_res_fig_dic = None, other_dict=tuning_metric_val_dict, custom_prefix_dir_name=\"input_dropout_streams\")\n",
    "\n",
    "# arg_dict, tuning_metric_val_dict = tune_stream(data_dict, arg_dict, \"dropouts_streams\", pool_dict, \"dropout_pool\", create_model_func, \n",
    "#                                                tuning_metric=P.tuning_metric, tuning_metric_val_dict=tuning_metric_val_dict, verbose=0)\n",
    "# custom_save_model(arg_dict, P.window_size, loss_record_dict={}, metric_record_dict={}, deep_feature_model=None, \n",
    "#                   test_res_fig_dic = None, other_dict=tuning_metric_val_dict, custom_prefix_dir_name=\"dropouts_streams\")\n",
    "\n",
    "# arg_dict, tuning_metric_val_dict = tune_param(data_dict, arg_dict, \"dense_dropouts\", pool_dict, \"dropout_pool\", create_model_func, \n",
    "#                                               tuning_metric=P.tuning_metric, tuning_metric_val_dict=tuning_metric_val_dict, verbose=0)\n",
    "# custom_save_model(arg_dict, P.window_size, loss_record_dict={}, metric_record_dict={}, deep_feature_model=None, \n",
    "#                   test_res_fig_dic = None, other_dict=tuning_metric_val_dict, custom_prefix_dir_name=\"dense_dropouts\")\n",
    "\n",
    "# arg_dict, tuning_metric_val_dict = tune_stream(data_dict, arg_dict, \"conv_kernel_regularizer_streams\", pool_dict, \"kernel_regularizer_pool\", create_model_func, \n",
    "# tuning_metric=P.tuning_metric, tuning_metric_val_dict=tuning_metric_val_dict, verbose=0)\n",
    "# custom_save_model(arg_dict, P.window_size, loss_record_dict={}, metric_record_dict={}, deep_feature_model=None, \n",
    "#                   test_res_fig_dic = None, other_dict=tuning_metric_val_dict, custom_prefix_dir_name=\"conv_kernel_regularizer_streams\")\n",
    "\n",
    "# arg_dict, tuning_metric_val_dict = tune_param(data_dict, arg_dict, \"dense_kernel_regularizer\", pool_dict, \"kernel_regularizer_pool\", create_model_func, \n",
    "# tuning_metric=P.tuning_metric, tuning_metric_val_dict=tuning_metric_val_dict, verbose=0)\n",
    "# custom_save_model(arg_dict, P.window_size, loss_record_dict={}, metric_record_dict={}, deep_feature_model=None, \n",
    "#                   test_res_fig_dic = None, other_dict=tuning_metric_val_dict, custom_prefix_dir_name=\"dense_kernel_regularizer\")"
   ]
  },
  {
   "cell_type": "code",
   "execution_count": null,
   "metadata": {},
   "outputs": [],
   "source": [
    "arg_dict['batch_size'] = 64\n",
    "# arg_dict['optimizer_lr'] = 0.001 #21, 00001 + 124\n",
    "arg_dict['filters_streams']= [[256, 128, 64]]\n",
    "# arg_dict['activations_streams'] = [['selu', 'swish', 'sigmoid']]\n",
    "# arg_dict['optimizer_name'] = 'Adam'\n",
    "# arg_dict[\"dense_kernel_Max_Norm_constraints\"]= [3, 3]\n",
    "# arg_dict[\"dense_kernel_inits\"] =  [\"glorot_uniform\", \"glorot_uniform\"]\n",
    "# 34 best epoch"
   ]
  },
  {
   "cell_type": "code",
   "execution_count": null,
   "metadata": {},
   "outputs": [],
   "source": [
    "arg_dict=three_head_123layer_SCNN_arg_dict_default#single_head_SCNN_arg_dict_default\n",
    "arg_dict[\"batch_size\"]=64\n",
    "arg_dict[\"contrastive_loss_margin\"]=1.4"
   ]
  },
  {
   "cell_type": "code",
   "execution_count": null,
   "metadata": {
    "tags": []
   },
   "outputs": [],
   "source": [
    "lr_pool = np.logspace(-5, -2, num=10)\n",
    "lr_pool=[1e-3]#, 2e-5]\n",
    "lr_epoch_log_dict={}\n",
    "ReduceLROnPlateau_err_mode={}\n",
    "ReduceLROnPlateau_args={'mointored_metric': \"val_loss\", \"factor\": 0.2, \"patience\": 0, \"verbose\": 1, \"min_lr\": 1e-8}\n",
    "ReduceLROnPlateau_args=ReduceLROnPlateau_args\n",
    "for lr in lr_pool:\n",
    "    tf.random.set_seed(SEED)\n",
    "    arg_dict['optimizer_lr'] = lr\n",
    "    print(lr)\n",
    "    print(arg_dict)\n",
    "    loss_record_dict = {'loss': [], 'val_loss': []}\n",
    "    metric_record_dict = {}\n",
    "    model = create_model_func(arg_dict)\n",
    "\n",
    "    # Train\n",
    "    history = model.fit(\n",
    "        x=X_train,\n",
    "        y=y_train,\n",
    "        batch_size=arg_dict[\"batch_size\"],\n",
    "        epochs=200,\n",
    "        verbose=1,\n",
    "        validation_data=(X_valid, y_valid),\n",
    "        shuffle=True,\n",
    "        callbacks=[MetricsCallback((X_valid, y_valid, X_train, y_train), epoch_evaluate_freq=1, \n",
    "                                   loss_record_dict=loss_record_dict, metric_record_dict=metric_record_dict, \n",
    "                                   save_plots=True, print_interm_epochs=True, early_stoping=False,\n",
    "                                  ReduceLROnPlateau_args=ReduceLROnPlateau_args, lr_epoch_log_dict=lr_epoch_log_dict)]\n",
    "    )\n",
    "    print(loss_record_dict)\n",
    "    print(\"Training History:\")\n",
    "    loss_fig = utils_plot_training_loss(loss_record_dict)"
   ]
  },
  {
   "cell_type": "code",
   "execution_count": null,
   "metadata": {},
   "outputs": [],
   "source": [
    "min_val = min(metric_record_dict['eer_val'][\"Valid\"])\n",
    "min_val_index=metric_record_dict['eer_val'][\"Valid\"].index(min_val)\n",
    "print(metric_record_dict['eer_val'][\"Valid\"])\n",
    "min_val_index"
   ]
  },
  {
   "cell_type": "code",
   "execution_count": null,
   "metadata": {},
   "outputs": [],
   "source": [
    "optimal_lr_epoch_dict={}\n",
    "for i in range(min_val_index+1):\n",
    "    optimal_lr_epoch_dict[i] = lr_epoch_log_dict[i]\n",
    "    \n",
    "optimal_lr_epoch_dict"
   ]
  },
  {
   "cell_type": "code",
   "execution_count": null,
   "metadata": {},
   "outputs": [],
   "source": [
    "# len(metric_record_dict['roc_val']['Valid'])\n",
    "# metric_record_dict\n",
    "arg_dict"
   ]
  },
  {
   "cell_type": "code",
   "execution_count": null,
   "metadata": {},
   "outputs": [],
   "source": [
    "# metric_record_dict\n",
    "# metric_record_dict.keys()\n",
    "# custom_save_model(arg_dict, P.window_size, loss_record_dict, metric_record_dict, model, test_res_fig_dic = None)\n",
    "# custom_save_model(arg_dict, P.window_size, {}, {}, deep_feature_model=None, test_res_fig_dic = None)\n",
    "str(np.unique(y_train, return_counts=True))\n",
    "# metric_record_dict"
   ]
  },
  {
   "cell_type": "code",
   "execution_count": null,
   "metadata": {},
   "outputs": [],
   "source": [
    "plt = utils_plot_training_loss({\"loss\": metric_record_dict['eer_val'], \"val_loss\": []})"
   ]
  },
  {
   "cell_type": "code",
   "execution_count": null,
   "metadata": {
    "tags": []
   },
   "outputs": [],
   "source": [
    "loss_record_dict\n",
    "plt = utils_plot_training_loss(loss_record_dict)\n",
    "plt.show()"
   ]
  },
  {
   "cell_type": "code",
   "execution_count": null,
   "metadata": {
    "tags": []
   },
   "outputs": [],
   "source": [
    "plt = utils_plot_training_loss(loss_record_dict)\n",
    "plt.show()"
   ]
  },
  {
   "cell_type": "code",
   "execution_count": null,
   "metadata": {},
   "outputs": [],
   "source": []
  },
  {
   "cell_type": "markdown",
   "metadata": {},
   "source": [
    "### 4.5 Check Distances <a id='4.5'>&nbsp;</a> "
   ]
  },
  {
   "cell_type": "code",
   "execution_count": null,
   "metadata": {
    "tags": []
   },
   "outputs": [],
   "source": [
    "# Predic validation set\n",
    "dists = model.predict(X_valid)\n",
    "\n",
    "# Stats\n",
    "print(f\"Mean distance: {dists.mean():.5f}\")\n",
    "print(f\"Max distance: {dists.max():.5f}\")\n",
    "print(f\"Min distance: {dists.min():.5f}\\n\")\n",
    "\n",
    "# Histrogram\n",
    "print(\"\\nHistogram of Pair Distances:\")\n",
    "eer_val, thres = utils_eer(y_valid, dists, True)\n",
    "mask = np.where(y_valid == 1, True, False)\n",
    "dist_positive = dists[mask]\n",
    "dist_negative = dists[~mask]\n",
    "plt = utils_plot_distance_hist(dist_positive, dist_negative, thres, \"Valid\")\n",
    "plt.show()"
   ]
  },
  {
   "cell_type": "code",
   "execution_count": null,
   "metadata": {},
   "outputs": [],
   "source": [
    "eer_val"
   ]
  },
  {
   "cell_type": "markdown",
   "metadata": {},
   "source": [
    "### 4.6 Rebuild and train to optimal Epoch  <a id='4.6'>&nbsp;</a> \n",
    "Now, that we know the learning curve, we can rebuild the model and train it until the best Epoch.\n",
    "\n",
    "Also, we will include the validation data to have more training data. \n",
    "\n",
    "**Note:** This also means, that the training metrics are not valid anymore, because we don't have any validation data left to test against..."
   ]
  },
  {
   "cell_type": "code",
   "execution_count": null,
   "metadata": {},
   "outputs": [],
   "source": [
    "P.epochs_best = len(optimal_lr_epoch_dict)"
   ]
  },
  {
   "cell_type": "code",
   "execution_count": null,
   "metadata": {
    "tags": []
   },
   "outputs": [],
   "source": [
    "P.model_variant = 'multi_head_fcn'\n",
    "tf.random.set_seed(SEED)\n",
    "\n",
    "\n",
    "loss_record_dict = {'loss': [], 'val_loss': []}\n",
    "metric_record_dict = {}\n",
    "model = create_model_func(arg_dict)\n",
    "\n",
    "# Extract one of the child networks\n",
    "deep_feature_model = Model(\n",
    "    inputs=model.layers[0].get_input_at(0),  # get_layer(\"left_inputs\").input,\n",
    "    outputs=model.get_layer(\"basemodel\").get_output_at(0),\n",
    ")\n",
    "deep_feature_model.summary()\n",
    "\n",
    "deep_features_valid = None\n",
    "for X, y, subj in samples_train:  \n",
    "    if P.model_variant == \"2d\":\n",
    "        X = X.reshape((*X.shape, 1))\n",
    "    pred = deep_feature_model.predict(X)\n",
    "    df_features = pd.DataFrame(pred)\n",
    "    df_features[\"subject\"] = subj\n",
    "    deep_features_valid = pd.concat([deep_features_valid, df_features])\n",
    "    \n",
    "\n",
    "deep_features_test = None\n",
    "for X, y, subj in samples_test:  \n",
    "    if P.model_variant == \"2d\":\n",
    "        X = X.reshape((*X.shape, 1))\n",
    "    pred = deep_feature_model.predict(X)\n",
    "    df_features = pd.DataFrame(pred)\n",
    "    df_features[\"subject\"] = subj\n",
    "    deep_features_test = pd.concat([deep_features_test, df_features])\n",
    "\n",
    "plot_pca(deep_features_test)\n",
    "\n",
    "# Train\n",
    "fitted_model = model.fit(\n",
    "    x=X_train_valid,\n",
    "    y=y_train_valid,\n",
    "    batch_size=arg_dict[\"batch_size\"],\n",
    "    epochs=P.epochs_best,\n",
    "    verbose=1,\n",
    "    shuffle=True,\n",
    "    callbacks=[MetricsCallback((None, None, X_train_valid, y_train_valid), loss_record_dict=loss_record_dict, metric_record_dict=metric_record_dict, \n",
    "                               epoch_evaluate_freq=1, save_plots=False, print_interm_epochs=True, optimal_lr_epoch_dict=optimal_lr_epoch_dict)]#, lr_scheduler],\n",
    ")"
   ]
  },
  {
   "cell_type": "code",
   "execution_count": null,
   "metadata": {},
   "outputs": [],
   "source": [
    "# Extract one of the child networks\n",
    "    \n",
    "deep_feature_model = extract_deep_feature_extactor(model)\n",
    "deep_feature_model.summary()\n",
    "\n",
    "deep_features_test = None\n",
    "for X, y, subj in samples_test:  \n",
    "    if P.model_variant == \"2d\":\n",
    "        X = X.reshape((*X.shape, 1))\n",
    "    pred = deep_feature_model.predict(X)\n",
    "    df_features = pd.DataFrame(pred)\n",
    "    df_features[\"subject\"] = subj\n",
    "    deep_features_test = pd.concat([deep_features_test, df_features])\n",
    "\n",
    "plot_pca(deep_features_test)"
   ]
  },
  {
   "cell_type": "code",
   "execution_count": null,
   "metadata": {},
   "outputs": [],
   "source": [
    "Raw_X_exp1_test_dic.keys()"
   ]
  },
  {
   "cell_type": "code",
   "execution_count": null,
   "metadata": {},
   "outputs": [],
   "source": [
    "np.array(Raw_X_exp1_test_dic[0]).shape"
   ]
  },
  {
   "cell_type": "code",
   "execution_count": null,
   "metadata": {},
   "outputs": [],
   "source": [
    "owner_id = 0\n",
    "session_id = 1\n",
    "owner_X = np.array(Raw_X_exp1_test_dic[0])\n",
    "# owner_id_col = np.repeat(owner_id, owner_X.shape[0]).reshape((owner_X.shape[0], 1))\n",
    "# session_id_col = np.repeat(session_id, owner_X.shape[0]).reshape((owner_X.shape[0], 1))\n",
    "generate_pca_dataframe(Raw_X_exp1_test_dic, session_id=1)[generate_pca_dataframe(Raw_X_exp1_test_dic, session_id=1).subject==0]"
   ]
  },
  {
   "cell_type": "code",
   "execution_count": null,
   "metadata": {},
   "outputs": [],
   "source": [
    "np.array(Raw_X_exp1_train_dic[0]).shape"
   ]
  },
  {
   "cell_type": "code",
   "execution_count": null,
   "metadata": {},
   "outputs": [],
   "source": []
  },
  {
   "cell_type": "code",
   "execution_count": null,
   "metadata": {},
   "outputs": [],
   "source": [
    "# df_valid_temp[\"subject\"].unique() #np.random.choice(\n",
    "                 #   negative_pairs_dic[(owner_key, u2_key)].shape[0], size=new_neg_size, replace=False)#?"
   ]
  },
  {
   "cell_type": "code",
   "execution_count": null,
   "metadata": {},
   "outputs": [],
   "source": [
    "# np.random.choice(df_valid_temp[\"subject\"].unique().tolist(), size=19, replace=False)"
   ]
  },
  {
   "cell_type": "code",
   "execution_count": null,
   "metadata": {},
   "outputs": [],
   "source": [
    "df_valid_temp = generate_pca_dataframe(Raw_X_exp1_train_dic, session_id=1)\n",
    "df_valid_temp"
   ]
  },
  {
   "cell_type": "code",
   "execution_count": null,
   "metadata": {},
   "outputs": [],
   "source": [
    "X_train[0].shape"
   ]
  },
  {
   "cell_type": "code",
   "execution_count": null,
   "metadata": {},
   "outputs": [],
   "source": [
    "# cnn_valid_exp1.keys()\n",
    "# df_test_temp[df_test_temp.subject==0].shape"
   ]
  },
  {
   "cell_type": "code",
   "execution_count": null,
   "metadata": {},
   "outputs": [],
   "source": [
    "# Concat Valid & Train (both were used for last Training)\n",
    "df_valid_temp = generate_pca_dataframe(cnn_valid_exp1, session_id=1) #generate_pca_dataframe(Raw_X_exp1_train_dic, session_id=1)\n",
    "df_test_temp = generate_pca_dataframe(Raw_X_exp1_test_dic, session_id=1)\n",
    "\n",
    "# Select data from 20 subjects of the TRAINING SET\n",
    "ten_subjects = np.random.choice(df_valid_temp[\"subject\"].unique().tolist(), size=len(cnn_valid_exp1.keys()), replace=False)\n",
    "df_valid_temp = df_valid_temp[df_valid_temp[\"subject\"].isin(ten_subjects)].copy()\n",
    "print(df_valid_temp.shape)\n",
    "df_valid_temp = df_valid_temp.groupby(\"subject\").apply(lambda x: x.sample(n=17, random_state=SEED))  # Plot only subset of samples 55, \n",
    "\n",
    "# Select data from 10 subjects of the TEST SET (not included in training)\n",
    "ten_subjects = np.random.choice(df_test_temp[\"subject\"].unique().tolist(), size=len(Raw_X_exp1_test_dic.keys()), replace=False)\n",
    "df_test_temp = df_test_temp[df_test_temp[\"subject\"].isin(ten_subjects)].copy()\n",
    "df_test_temp = df_test_temp.groupby(\"subject\").apply(lambda x: x.sample(n=20, random_state=SEED))  # Plot only subset of samples, 163\n",
    "\n",
    "# Transform Samples\n",
    "samples_train = transform_to_sample_by_subject(df_valid_temp)\n",
    "# samples_train_valid = transform_to_sample_by_subject(df_train_valid_temp) to be done later\n",
    "samples_test = transform_to_sample_by_subject(df_test_temp)\n",
    "\n",
    "print(f\"First subject: {samples_train[0][2]}\")\n",
    "print(f\"y shape: {samples_train[0][1].shape}\")\n",
    "print(f\"X shape: {samples_train[0][0].shape}\")"
   ]
  },
  {
   "cell_type": "code",
   "execution_count": null,
   "metadata": {},
   "outputs": [],
   "source": [
    "\n",
    "# Raw_X_exp2_train_dic.keys()\n"
   ]
  },
  {
   "cell_type": "markdown",
   "metadata": {},
   "source": [
    "Predict Deep Features"
   ]
  },
  {
   "cell_type": "code",
   "execution_count": null,
   "metadata": {},
   "outputs": [],
   "source": [
    "deep_features_valid = None\n",
    "for X, y, subj in samples_train:  \n",
    "    if P.model_variant == \"2d\":\n",
    "        X = X.reshape((*X.shape, 1))\n",
    "    pred = deep_feature_model.predict(X)\n",
    "    df_features = pd.DataFrame(pred)\n",
    "    df_features[\"subject\"] = subj\n",
    "    deep_features_valid = pd.concat([deep_features_valid, df_features])\n",
    "\n",
    "# deep_features_train_valid = None\n",
    "# for X, y, subj in samples_train:  \n",
    "#     if P.model_variant == \"2d\":\n",
    "#         X = X.reshape((*X.shape, 1))\n",
    "#     pred = deep_feature_model.predict(X)\n",
    "#     df_features = pd.DataFrame(pred)\n",
    "#     df_features[\"subject\"] = subj\n",
    "#     deep_features_valid = pd.concat([deep_features_valid, df_features])\n",
    "    \n",
    "\n",
    "deep_features_test = None\n",
    "for X, y, subj in samples_test:  \n",
    "    if P.model_variant == \"2d\":\n",
    "        X = X.reshape((*X.shape, 1))\n",
    "    pred = deep_feature_model.predict(X)\n",
    "    df_features = pd.DataFrame(pred)\n",
    "    df_features[\"subject\"] = subj\n",
    "    deep_features_test = pd.concat([deep_features_test, df_features])\n",
    "        \n",
    "display(deep_features_valid.head(3))\n",
    "display(deep_features_test.head(3))"
   ]
  },
  {
   "cell_type": "markdown",
   "metadata": {},
   "source": [
    "Visualize in 2D using PCA  "
   ]
  },
  {
   "cell_type": "code",
   "execution_count": null,
   "metadata": {},
   "outputs": [],
   "source": [
    "plot_pca(deep_features_valid)\n"
   ]
  },
  {
   "cell_type": "code",
   "execution_count": null,
   "metadata": {},
   "outputs": [],
   "source": [
    "plot_pca(deep_features_test)\n"
   ]
  },
  {
   "cell_type": "code",
   "execution_count": null,
   "metadata": {},
   "outputs": [],
   "source": [
    "# for i in range(len(train_set)):\n",
    "#     a = OneClassSVMSets(i, X_exp1_dic,X_exp2_dic)\n",
    "#     a[\"X_train\"].shape\n",
    "#     a['X_test_regular'][90, 23]\n",
    "#     print(np.argwhere(np.isnan(a['X_test_anomalous'])))"
   ]
  },
  {
   "cell_type": "code",
   "execution_count": null,
   "metadata": {},
   "outputs": [],
   "source": [
    "# print(a[\"X_train\"].shape)"
   ]
  },
  {
   "cell_type": "code",
   "execution_count": null,
   "metadata": {
    "tags": []
   },
   "outputs": [],
   "source": [
    "np.repeat(1, 10)[None:]\n",
    "Raw_X_exp1_test_dic.keys()\n",
    "test_set"
   ]
  },
  {
   "cell_type": "code",
   "execution_count": null,
   "metadata": {
    "tags": []
   },
   "outputs": [],
   "source": [
    "# temp\n",
    "spliter = 2*len(Raw_X_exp2_test_dic)//3\n",
    "# spliter = None\n",
    "OCSVM_train_train = {key: Raw_X_exp2_test_dic[key] for key in list(Raw_X_exp2_test_dic.keys())[:spliter]}\n",
    "OCSVM_train_valid = {key: Raw_X_exp1_test_dic[key] for key in list(Raw_X_exp1_test_dic.keys())[:spliter]}\n",
    "# OCSVM_test_train = {key: Raw_X_exp2_test_dic[key] for key in list(Raw_X_exp2_test_dic.keys())[spliter:]}\n",
    "# OCSVM_test_test = {key: Raw_X_exp1_test_dic[key] for key in list(Raw_X_exp1_test_dic.keys())[spliter:]}\n",
    "OCSVM_test_train = {key: Raw_X_exp2_test_dic[key] for key in list(Raw_X_exp2_test_dic.keys())}\n",
    "OCSVM_test_test = {key: Raw_X_exp1_test_dic[key] for key in list(Raw_X_exp1_test_dic.keys())}"
   ]
  },
  {
   "cell_type": "code",
   "execution_count": null,
   "metadata": {
    "tags": []
   },
   "outputs": [],
   "source": [
    "print(f\"train set: {OCSVM_train_train.keys()}\\nvalidation set: {OCSVM_train_valid.keys()}\")\n",
    "print(f\"test_train set: {OCSVM_test_train.keys()}\\ntest_test set: {OCSVM_test_test.keys()}\")"
   ]
  },
  {
   "cell_type": "code",
   "execution_count": null,
   "metadata": {
    "tags": []
   },
   "outputs": [],
   "source": [
    "model.get_layer(\"basemodel\").get_output_at(1)"
   ]
  },
  {
   "cell_type": "code",
   "execution_count": null,
   "metadata": {
    "tags": []
   },
   "outputs": [],
   "source": [
    "model.layers"
   ]
  },
  {
   "cell_type": "code",
   "execution_count": null,
   "metadata": {
    "tags": []
   },
   "outputs": [],
   "source": [
    "# Extract one of the child networks\n",
    "deep_feature_model = Model(\n",
    "    inputs=model.layers[0].get_input_at(0),  # get_layer(\"left_inputs\").input,\n",
    "    outputs=model.get_layer(\"basemodel\").get_output_at(0),\n",
    ")\n",
    "deep_feature_model.summary()"
   ]
  },
  {
   "cell_type": "code",
   "execution_count": null,
   "metadata": {
    "tags": []
   },
   "outputs": [],
   "source": [
    "deep_feature_model.summary()"
   ]
  },
  {
   "cell_type": "code",
   "execution_count": null,
   "metadata": {
    "tags": []
   },
   "outputs": [],
   "source": [
    "deep_feature_model.predict(np.array([OCSVM_train_train[0][0]])).shape"
   ]
  },
  {
   "cell_type": "code",
   "execution_count": null,
   "metadata": {},
   "outputs": [],
   "source": [
    "deep_feature_model.predict(np.array(OCSVM_train_train[0])).shape"
   ]
  },
  {
   "cell_type": "code",
   "execution_count": null,
   "metadata": {},
   "outputs": [],
   "source": [
    "# load model\n",
    "model = load_model('siamese_cnn_results/750/20230207-184704')\n",
    "# print summary\n",
    "model.summary()\n",
    "\n",
    "deep_features_test = None\n",
    "for X, y, subj in samples_test:  \n",
    "    if P.model_variant == \"2d\":\n",
    "        X = X.reshape((*X.shape, 1))\n",
    "    pred = model.predict(X)\n",
    "    df_features = pd.DataFrame(pred)\n",
    "    df_features[\"subject\"] = subj\n",
    "    deep_features_test = pd.concat([deep_features_test, df_features])\n",
    "\n",
    "plot_pca(deep_features_test)"
   ]
  },
  {
   "cell_type": "code",
   "execution_count": null,
   "metadata": {},
   "outputs": [],
   "source": [
    "# extract_deep_features = lambda X_exp : ExtractDeepFeatures(X_exp, deep_feature_model)"
   ]
  },
  {
   "cell_type": "code",
   "execution_count": null,
   "metadata": {},
   "outputs": [],
   "source": [
    "# extract_deep_features(OCSVM_train_train[0]).shape"
   ]
  },
  {
   "cell_type": "code",
   "execution_count": null,
   "metadata": {
    "tags": []
   },
   "outputs": [],
   "source": [
    "fitted_scaler_ocsvm_exp2_dic.keys()"
   ]
  },
  {
   "cell_type": "code",
   "execution_count": null,
   "metadata": {},
   "outputs": [],
   "source": [
    "OCSVM_train_train[0][0].shape"
   ]
  },
  {
   "cell_type": "code",
   "execution_count": null,
   "metadata": {},
   "outputs": [],
   "source": []
  },
  {
   "cell_type": "code",
   "execution_count": null,
   "metadata": {},
   "outputs": [],
   "source": [
    "X_exp1_train_dic, X_exp2_train_dic = OCSVM_train_valid, OCSVM_train_train\n",
    "fitted_scaler_ocsvm_exp2_train_dic = fitted_scaler_ocsvm_exp2_dic\n",
    "X_exp1_test_dic, X_exp2_test_dic = OCSVM_test_test, OCSVM_test_train\n",
    "fitted_scaler_ocsvm_exp2_test_dic = fitted_scaler_ocsvm_exp2_dic"
   ]
  },
  {
   "cell_type": "code",
   "execution_count": null,
   "metadata": {
    "tags": []
   },
   "outputs": [],
   "source": [
    "warnings.filterwarnings(\"ignore\")\n",
    "# # temp\n",
    "print(X_exp1_train_dic.keys())\n",
    "print(X_exp2_train_dic.keys())\n",
    "print(X_exp1_test_dic.keys())\n",
    "print(X_exp2_test_dic.keys())\n",
    "\n",
    "# X_exp1_train_dic = dict(X_exp1_train_dic, **X_exp1_test_dic)\n",
    "# X_exp2_train_dic = dict(X_exp2_train_dic, **X_exp2_test_dic)\n",
    "\n",
    "# print(X_exp1_train_dic.keys())\n",
    "# print(X_exp2_train_dic.keys())\n",
    "# # temp\n",
    "deep_X_exp_train_dic, deep_X_exp_test_dic = \\\n",
    "            MakeDeepXExpDic(X_exp1_train_dic, X_exp2_train_dic, fitted_scaler_ocsvm_exp2_train_dic, X_exp1_test_dic, X_exp2_test_dic, fitted_scaler_ocsvm_exp2_test_dic, deep_feature_model)"
   ]
  },
  {
   "cell_type": "code",
   "execution_count": null,
   "metadata": {
    "tags": []
   },
   "outputs": [],
   "source": [
    "WACA_X_exp_train_dic, WACA_X_exp_test_dic = \\\n",
    "            MakeWACAXExpDic(X_exp1_train_dic, X_exp2_train_dic, fitted_scaler_ocsvm_exp2_train_dic, X_exp1_test_dic, X_exp2_test_dic, fitted_scaler_ocsvm_exp2_test_dic)"
   ]
  },
  {
   "cell_type": "code",
   "execution_count": null,
   "metadata": {},
   "outputs": [],
   "source": [
    "# WACA_X_exp_train_dic[0][\"profile_windows\"].shape\n",
    "# # X_exp_train_dic[0][\"profile_windows\"].shape\n",
    "# np.concatenate([WACA_X_exp_train_dic[0][\"profile_windows\"], deep_X_exp_train_dic[0][\"profile_windows\"]], axis=1).shape"
   ]
  },
  {
   "cell_type": "code",
   "execution_count": null,
   "metadata": {},
   "outputs": [],
   "source": [
    "union_dic = combine_X_exp_dicts(deep_X_exp_test_dic, WACA_X_exp_test_dic)"
   ]
  },
  {
   "cell_type": "code",
   "execution_count": null,
   "metadata": {
    "tags": []
   },
   "outputs": [],
   "source": [
    "# union_dic"
   ]
  },
  {
   "cell_type": "code",
   "execution_count": null,
   "metadata": {},
   "outputs": [],
   "source": [
    "# overlap_Mean_EER_df_dict = {.50: None}#{.99: None} #{.90: None, .95: None} #{.80: None, .85: None}#, #{.90: None, .95: None} #0: None, .1: None, .2: None, .3: None, .4: None, .5: None, .6: None, .7: None,\n",
    "# for overlap in overlap_Mean_EER_df_dict:\n",
    "#     overlap_Mean_EER_df_dict[overlap] = calculate_EER_different_window_sizes(overlap)"
   ]
  },
  {
   "cell_type": "code",
   "execution_count": null,
   "metadata": {
    "tags": []
   },
   "outputs": [],
   "source": [
    "# OCSVM_train_train_deep_features_dic = MakeDeepXExpDic(OCSVM_train_train, deep_feature_model)\n",
    "# OCSVM_train_valid_deep_features_dic = MakeDeepXExpDic(OCSVM_train_valid, deep_feature_model, fitted_scaler_ocsvm_exp2_dic)\n",
    "# OCSVM_test_train_deep_features_dic = MakeDeepXExpDic(OCSVM_test_train, deep_feature_model)\n",
    "# OCSVM_test_test_deep_features_dic = MakeDeepXExpDic(OCSVM_test_test, deep_feature_model, fitted_scaler_ocsvm_exp2_dic)"
   ]
  },
  {
   "cell_type": "code",
   "execution_count": null,
   "metadata": {
    "tags": []
   },
   "outputs": [],
   "source": [
    "# print(f\"OCSVM_train_train_deep_features_dic[0].shape: {OCSVM_train_train_deep_features_dic[0].shape}\")\n",
    "# print(f\"OCSVM_train_valid_deep_features_dic[0].shape: {OCSVM_train_valid_deep_features_dic[0].shape}\")\n",
    "# print(f\"len(OCSVM_train_train_deep_features_dic): {len(OCSVM_train_train_deep_features_dic)}\")\n",
    "# print(f\"len(OCSVM_train_valid_deep_features_dic): {len(OCSVM_train_valid_deep_features_dic)}\")\n",
    "# print(f\"OCSVM_train_train_deep_features_dic.keys(): {OCSVM_train_train_deep_features_dic.keys()}\")\n",
    "# print(f\"OCSVM_train_valid_deep_features_dic.keys(): {OCSVM_train_valid_deep_features_dic.keys()}\")"
   ]
  },
  {
   "cell_type": "code",
   "execution_count": null,
   "metadata": {
    "tags": []
   },
   "outputs": [],
   "source": [
    "# X_exp_dic_sample['X_exp2_dic'][0].shape"
   ]
  },
  {
   "cell_type": "code",
   "execution_count": null,
   "metadata": {
    "tags": []
   },
   "outputs": [],
   "source": [
    "# deep_feature_model.predict(OCSVM_train_train[0]).shape"
   ]
  },
  {
   "cell_type": "code",
   "execution_count": null,
   "metadata": {
    "tags": []
   },
   "outputs": [],
   "source": [
    "model.summary()"
   ]
  },
  {
   "cell_type": "code",
   "execution_count": null,
   "metadata": {
    "tags": []
   },
   "outputs": [],
   "source": [
    "# train_df_plot = df_results.rename(\n",
    "#     columns={\"train_accuracy\": \"train Accuracy\", \"test_eer\": \"Test EER\", \"owner\": \"Owner\"}\n",
    "# ).astype({\"Owner\": str})"
   ]
  },
  {
   "cell_type": "code",
   "execution_count": null,
   "metadata": {
    "tags": []
   },
   "outputs": [],
   "source": [
    "# fig = utils_plot_acc_eer_dist(train_df_plot, \"Test Accuracy\")"
   ]
  },
  {
   "cell_type": "code",
   "execution_count": null,
   "metadata": {
    "tags": []
   },
   "outputs": [],
   "source": [
    "# fig = utils_plot_acc_eer_dist(test_df_plot, \"Test Accuracy\")"
   ]
  },
  {
   "cell_type": "code",
   "execution_count": null,
   "metadata": {
    "tags": []
   },
   "outputs": [],
   "source": [
    "# k = list(OCSVM_test_train_deep_features_dic.keys())[0]\n",
    "# print(f\"OCSVM_test_train_deep_features_dic[{k}].shape: {OCSVM_test_train_deep_features_dic[k].shape}\")\n",
    "# print(f\"OCSVM_test_test_deep_features_dic[{k}].shape: {OCSVM_test_test_deep_features_dic[k].shape}\")\n",
    "# print(f\"len(OCSVM_test_train_deep_features_dic): {len(OCSVM_test_train_deep_features_dic)}\")\n",
    "# print(f\"len(OCSVM_test_test_deep_features_dic): {len(OCSVM_test_test_deep_features_dic)}\")\n",
    "# print(f\"OCSVM_train_train_deep_features_dic.keys(): {OCSVM_test_train_deep_features_dic.keys()}\")\n",
    "# print(f\"OCSVM_test_test_deep_features_dic.keys(): {OCSVM_test_test_deep_features_dic.keys()}\")"
   ]
  },
  {
   "cell_type": "code",
   "execution_count": null,
   "metadata": {
    "tags": []
   },
   "outputs": [],
   "source": [
    "utils_ppp(P)"
   ]
  },
  {
   "cell_type": "code",
   "execution_count": null,
   "metadata": {
    "tags": []
   },
   "outputs": [],
   "source": [
    "X_exp_test_dic.keys()"
   ]
  },
  {
   "cell_type": "code",
   "execution_count": null,
   "metadata": {
    "tags": []
   },
   "outputs": [],
   "source": [
    "P.ocsvm_nu=0.03988265306122449\n",
    "P.ocsvm_gamma=0.0035918793294289547\n",
    "P.ocsvm_kernel"
   ]
  },
  {
   "cell_type": "code",
   "execution_count": null,
   "metadata": {},
   "outputs": [],
   "source": [
    "# prev_X_exp_test_dic= X_exp_test_dic\n",
    "# X_exp_test_dic = WACA_X_exp_test_dic\n",
    "# X_exp_test_dic = union_dic\n",
    "X_exp_test_dic = deep_X_exp_test_dic\n",
    "# linear’, ‘poly’, ‘rbf’, ‘sigmoid’"
   ]
  },
  {
   "cell_type": "code",
   "execution_count": null,
   "metadata": {
    "tags": []
   },
   "outputs": [],
   "source": [
    "test_df_results = None  # Will be filled with randomsearch scores\n",
    "for run in tqdm(range(5)):\n",
    "\n",
    "\n",
    "    for owner_idx in tqdm(\n",
    "        X_exp_test_dic.keys(),\n",
    "        desc=\"Owner\",\n",
    "    ):\n",
    "\n",
    "        \n",
    "        run_seed = SEED + run\n",
    "        train_dic, valid_test_dic = { owner_idx: X_exp_test_dic[owner_idx][\"profile_windows\"]}, X_exp_test_dic[owner_idx][\"unknown_users_dict\"] \n",
    "        X_vals_owner_idx = utils_create_cv_splits(owner_idx, train_dic, valid_test_dic, seed=run_seed)\n",
    "#         X_train = X_vals_owner_idx['X_train']\n",
    "#          = X.reshape(X.shape[-3], -1)  # flatten windows\n",
    "        X_test_regular = X_vals_owner_idx['X_test_regular']\n",
    "        X_test_anomalous = X_vals_owner_idx['X_test_anomalous']\n",
    "#         print(X_vals_owner_idx)\n",
    "#         break\n",
    "#         np.random.shuffle(X_train)\n",
    "#         np.random.shuffle(X_test_regular)\n",
    "#         np.random.shuffle(X_test_anomalous)\n",
    "#         print(X_vals_owner_idx['cv_splits'])\n",
    "        train_test_cv_splits = X_vals_owner_idx['cv_splits']\n",
    "        \n",
    "        \n",
    "#         pca = PCA(n_components = run)\n",
    "#         X_train = pca.fit_transform(X_train)\n",
    "#         X_test_regular = pca.transform(X_test_regular)\n",
    "#         X_test_anomalous = pca.transform(X_test_anomalous)\n",
    "        \n",
    "        clf = svm.OneClassSVM(kernel=P.ocsvm_kernel, nu=P.ocsvm_nu, gamma=P.ocsvm_gamma)\n",
    "        pipeline = Pipeline([\n",
    "#             Normalizer, MaxAbsScaler,\n",
    "            # ('scaler', get_new_scaler_dict[\"RobustScaler\"]()), \n",
    "#                             ('scaler', StandardScaler()), \n",
    "#                              ('scaler', RobustScaler()),\n",
    "#                              ('scaler', MaxAbsScaler()),\n",
    "#                             ('scaler', Normalizer()),#best result\n",
    "#                             ('scaler', PowerTransformer()),\n",
    "#                              ('pca', pca), \n",
    "#                              ('selector', VarianceThreshold()), \n",
    "                             ('model', clf)\n",
    "                            ])\n",
    "        \n",
    "        scores = cross_validate(\n",
    "            pipeline,\n",
    "            X_vals_owner_idx['X_train'],\n",
    "            X_vals_owner_idx['y_train'],\n",
    "            cv=train_test_cv_splits,\n",
    "            scoring={\n",
    "                \"eer\": utils_eer_scorer,\n",
    "                \"accuracy\": \"accuracy\",\n",
    "                \"precision\": \"precision\",\n",
    "                \"recall\": \"recall\",\n",
    "            },\n",
    "            n_jobs=CORES,\n",
    "            verbose=1,\n",
    "            return_train_score=True,\n",
    "        )\n",
    "        \n",
    "        df_score = pd.DataFrame(scores)\n",
    "        df_score[\"owner\"] = owner_idx\n",
    "        df_score[\"train_eer\"] = df_score[\"train_eer\"].abs()  # Revert scorer's signflip\n",
    "        df_score[\"test_eer\"] = df_score[\"test_eer\"].abs()\n",
    "        test_df_results = pd.concat([test_df_results, df_score], axis=0)\n",
    "        \n",
    "\n",
    "test_df_results.head()"
   ]
  },
  {
   "cell_type": "code",
   "execution_count": null,
   "metadata": {
    "tags": []
   },
   "outputs": [],
   "source": [
    "test_df_plot = test_df_results.rename(\n",
    "    columns={\"test_accuracy\": \"Test Accuracy\", \"test_eer\": \"Test EER\", \"owner\": \"Owner\"}\n",
    ").astype({\"Owner\": str})"
   ]
  },
  {
   "cell_type": "code",
   "execution_count": null,
   "metadata": {},
   "outputs": [],
   "source": [
    "fig = utils_plot_acc_eer_dist(test_df_plot, \"Test Accuracy\")\n",
    "fig = utils_plot_acc_eer_dist(test_df_plot, \"Test EER\")"
   ]
  },
  {
   "cell_type": "code",
   "execution_count": null,
   "metadata": {},
   "outputs": [],
   "source": [
    "fig = utils_plot_acc_eer_dist(test_df_plot, \"Test Accuracy\")\n",
    "fig = utils_plot_acc_eer_dist(test_df_plot, \"Test EER\")"
   ]
  },
  {
   "cell_type": "code",
   "execution_count": null,
   "metadata": {},
   "outputs": [],
   "source": [
    "fig = utils_plot_acc_eer_dist(test_df_plot, \"Test Accuracy\")\n",
    "fig = utils_plot_acc_eer_dist(test_df_plot, \"Test EER\")"
   ]
  },
  {
   "cell_type": "code",
   "execution_count": null,
   "metadata": {},
   "outputs": [],
   "source": [
    "%run ./utility-functions.ipynb\n",
    "\n",
    "utils_plot_acc_eer_dist_thesis(test_df_plot, 'Test EER', '', boxplot_color=\"lightcyan\", save_file_name=\"SCNN_3Conv_1Dense-OCSVM-750-Test_EER.svg\")\n",
    "utils_plot_acc_eer_dist_thesis(test_df_plot, 'Test Accuracy', '', boxplot_color=\"lightcyan\", save_file_name=\"SCNN_3Conv_1Dense-OCSVM-750-Test_Acc.svg\")"
   ]
  },
  {
   "cell_type": "code",
   "execution_count": null,
   "metadata": {},
   "outputs": [],
   "source": [
    "print(gini(test_df_plot['Test EER'].to_numpy()))\n",
    "lorenz_curve(test_df_plot['Test EER'].to_numpy())"
   ]
  },
  {
   "cell_type": "code",
   "execution_count": null,
   "metadata": {},
   "outputs": [],
   "source": [
    "utils_plot_acc_eer_dist_thesis(test_df_plot, 'Test EER', '', boxplot_color=\"lightcyan\", save_file_name=\"\")\n",
    "utils_plot_acc_eer_dist_thesis(test_df_plot, 'Test Accuracy', '', boxplot_color=\"lightcyan\", save_file_name=\"\")"
   ]
  },
  {
   "cell_type": "code",
   "execution_count": null,
   "metadata": {},
   "outputs": [],
   "source": [
    "fig = utils_plot_acc_eer_dist(test_df_plot, \"Test Accuracy\")\n",
    "fig = utils_plot_acc_eer_dist(test_df_plot, \"Test EER\")"
   ]
  },
  {
   "cell_type": "code",
   "execution_count": null,
   "metadata": {},
   "outputs": [],
   "source": [
    "# 1000 increased trainset by 3x and 8 layer scnn\n",
    "fig = utils_plot_acc_eer_dist(test_df_plot, \"Test Accuracy\")\n",
    "fig = utils_plot_acc_eer_dist(test_df_plot, \"Test EER\")"
   ]
  },
  {
   "cell_type": "code",
   "execution_count": null,
   "metadata": {},
   "outputs": [],
   "source": [
    "# 1000 increased trainset by 3x and 8 layer scnn\n",
    "fig = utils_plot_acc_eer_dist(test_df_plot, \"Test Accuracy\")\n",
    "fig = utils_plot_acc_eer_dist(test_df_plot, \"Test EER\")"
   ]
  },
  {
   "cell_type": "code",
   "execution_count": null,
   "metadata": {},
   "outputs": [],
   "source": [
    "# 2000 increased trainset by 3x and 8 layer scnn\n",
    "fig = utils_plot_acc_eer_dist(test_df_plot, \"Test Accuracy\")\n",
    "fig = utils_plot_acc_eer_dist(test_df_plot, \"Test EER\")"
   ]
  },
  {
   "cell_type": "code",
   "execution_count": null,
   "metadata": {},
   "outputs": [],
   "source": [
    "# 125 increased trainset by 3x and 8 layer scnn\n",
    "fig = utils_plot_acc_eer_dist(test_df_plot, \"Test Accuracy\")\n",
    "fig = utils_plot_acc_eer_dist(test_df_plot, \"Test EER\")"
   ]
  },
  {
   "cell_type": "code",
   "execution_count": null,
   "metadata": {},
   "outputs": [],
   "source": [
    "# 125 increased trainset by 3x and 3 layer scnn\n",
    "fig = utils_plot_acc_eer_dist(test_df_plot, \"Test Accuracy\")\n",
    "fig = utils_plot_acc_eer_dist(test_df_plot, \"Test EER\")"
   ]
  },
  {
   "cell_type": "code",
   "execution_count": null,
   "metadata": {},
   "outputs": [],
   "source": [
    "# 125 increased trainset by 3x and 3 layer scnn\n",
    "fig = utils_plot_acc_eer_dist(test_df_plot, \"Test Accuracy\")\n",
    "fig = utils_plot_acc_eer_dist(test_df_plot, \"Test EER\")"
   ]
  },
  {
   "cell_type": "code",
   "execution_count": null,
   "metadata": {},
   "outputs": [],
   "source": [
    "# 125 increased trainset by 3x and 1 layer scnn\n",
    "fig = utils_plot_acc_eer_dist(test_df_plot, \"Test Accuracy\")\n",
    "fig = utils_plot_acc_eer_dist(test_df_plot, \"Test EER\")"
   ]
  },
  {
   "cell_type": "code",
   "execution_count": null,
   "metadata": {},
   "outputs": [],
   "source": [
    "# 125 increased trainset by 3x and 1 layer scnn\n",
    "fig = utils_plot_acc_eer_dist(test_df_plot, \"Test Accuracy\")\n",
    "fig = utils_plot_acc_eer_dist(test_df_plot, \"Test EER\")"
   ]
  },
  {
   "cell_type": "code",
   "execution_count": null,
   "metadata": {},
   "outputs": [],
   "source": [
    "# 125 increased trainset by 3x and 2 layer scnn\n",
    "fig = utils_plot_acc_eer_dist(test_df_plot, \"Test Accuracy\")\n",
    "fig = utils_plot_acc_eer_dist(test_df_plot, \"Test EER\")"
   ]
  },
  {
   "cell_type": "code",
   "execution_count": null,
   "metadata": {},
   "outputs": [],
   "source": [
    "# 125 increased trainset by 3x\n",
    "fig = utils_plot_acc_eer_dist(test_df_plot, \"Test Accuracy\")\n",
    "fig = utils_plot_acc_eer_dist(test_df_plot, \"Test EER\")"
   ]
  },
  {
   "cell_type": "code",
   "execution_count": null,
   "metadata": {},
   "outputs": [],
   "source": [
    "# 125\n",
    "fig = utils_plot_acc_eer_dist(test_df_plot, \"Test Accuracy\")\n",
    "fig = utils_plot_acc_eer_dist(test_df_plot, \"Test EER\")"
   ]
  },
  {
   "cell_type": "code",
   "execution_count": null,
   "metadata": {},
   "outputs": [],
   "source": [
    "# 250\n",
    "fig = utils_plot_acc_eer_dist(test_df_plot, \"Test Accuracy\")\n",
    "fig = utils_plot_acc_eer_dist(test_df_plot, \"Test EER\")"
   ]
  },
  {
   "cell_type": "code",
   "execution_count": null,
   "metadata": {},
   "outputs": [],
   "source": [
    "# 500\n",
    "fig = utils_plot_acc_eer_dist(test_df_plot, \"Test Accuracy\")\n",
    "fig = utils_plot_acc_eer_dist(test_df_plot, \"Test EER\")"
   ]
  },
  {
   "cell_type": "code",
   "execution_count": null,
   "metadata": {},
   "outputs": [],
   "source": [
    "# 750\n",
    "fig = utils_plot_acc_eer_dist(test_df_plot, \"Test Accuracy\")\n",
    "fig = utils_plot_acc_eer_dist(test_df_plot, \"Test EER\")"
   ]
  },
  {
   "cell_type": "code",
   "execution_count": null,
   "metadata": {},
   "outputs": [],
   "source": [
    "fig = utils_plot_acc_eer_dist(test_df_plot, \"Test Accuracy\")\n",
    "fig = utils_plot_acc_eer_dist(test_df_plot, \"Test EER\")"
   ]
  },
  {
   "cell_type": "code",
   "execution_count": null,
   "metadata": {},
   "outputs": [],
   "source": [
    "fig = utils_plot_acc_eer_dist(test_df_plot, \"Test Accuracy\")\n",
    "fig = utils_plot_acc_eer_dist(test_df_plot, \"Test EER\")"
   ]
  },
  {
   "cell_type": "code",
   "execution_count": null,
   "metadata": {},
   "outputs": [],
   "source": [
    "fig = utils_plot_acc_eer_dist(test_df_plot, \"Test Accuracy\")\n",
    "fig = utils_plot_acc_eer_dist(test_df_plot, \"Test EER\")"
   ]
  },
  {
   "cell_type": "code",
   "execution_count": null,
   "metadata": {},
   "outputs": [],
   "source": [
    "fig = utils_plot_acc_eer_dist(test_df_plot, \"Test Accuracy\")\n",
    "fig = utils_plot_acc_eer_dist(test_df_plot, \"Test EER\")"
   ]
  },
  {
   "cell_type": "code",
   "execution_count": null,
   "metadata": {},
   "outputs": [],
   "source": [
    "# fcn 84\n",
    "fig = utils_plot_acc_eer_dist(test_df_plot, \"Test Accuracy\")\n",
    "fig = utils_plot_acc_eer_dist(test_df_plot, \"Test EER\")"
   ]
  },
  {
   "cell_type": "code",
   "execution_count": null,
   "metadata": {},
   "outputs": [],
   "source": [
    "#fcn 128\n",
    "fig = utils_plot_acc_eer_dist(test_df_plot, \"Test Accuracy\")\n",
    "fig = utils_plot_acc_eer_dist(test_df_plot, \"Test EER\")"
   ]
  },
  {
   "cell_type": "code",
   "execution_count": null,
   "metadata": {},
   "outputs": [],
   "source": [
    "# WACA\n",
    "fig = utils_plot_acc_eer_dist(test_df_plot, \"Test Accuracy\")\n",
    "fig = utils_plot_acc_eer_dist(test_df_plot, \"Test EER\")"
   ]
  },
  {
   "cell_type": "code",
   "execution_count": null,
   "metadata": {},
   "outputs": [],
   "source": [
    "# \n",
    "fig = utils_plot_acc_eer_dist(test_df_plot, \"Test Accuracy\")\n",
    "fig = utils_plot_acc_eer_dist(test_df_plot, \"Test EER\")"
   ]
  },
  {
   "cell_type": "code",
   "execution_count": null,
   "metadata": {},
   "outputs": [],
   "source": [
    "# \n",
    "fig = utils_plot_acc_eer_dist(test_df_plot, \"Test Accuracy\")\n",
    "fig = utils_plot_acc_eer_dist(test_df_plot, \"Test EER\")"
   ]
  },
  {
   "cell_type": "code",
   "execution_count": null,
   "metadata": {},
   "outputs": [],
   "source": [
    "# \n",
    "fig = utils_plot_acc_eer_dist(test_df_plot, \"Test Accuracy\")\n",
    "fig = utils_plot_acc_eer_dist(test_df_plot, \"Test EER\")"
   ]
  },
  {
   "cell_type": "code",
   "execution_count": null,
   "metadata": {},
   "outputs": [],
   "source": [
    "# \n",
    "fig = utils_plot_acc_eer_dist(test_df_plot, \"Test Accuracy\")\n",
    "fig = utils_plot_acc_eer_dist(test_df_plot, \"Test EER\")"
   ]
  },
  {
   "cell_type": "code",
   "execution_count": null,
   "metadata": {},
   "outputs": [],
   "source": [
    "# \n",
    "fig = utils_plot_acc_eer_dist(test_df_plot, \"Test Accuracy\")\n",
    "fig = utils_plot_acc_eer_dist(test_df_plot, \"Test EER\")"
   ]
  },
  {
   "cell_type": "code",
   "execution_count": null,
   "metadata": {},
   "outputs": [],
   "source": [
    "fig = utils_plot_acc_eer_dist(test_df_plot, \"Test Accuracy\")\n",
    "fig = utils_plot_acc_eer_dist(test_df_plot, \"Test EER\")"
   ]
  },
  {
   "cell_type": "code",
   "execution_count": null,
   "metadata": {},
   "outputs": [],
   "source": [
    "fig = utils_plot_acc_eer_dist(test_df_plot, \"Test Accuracy\")\n",
    "fig = utils_plot_acc_eer_dist(test_df_plot, \"Test EER\")"
   ]
  },
  {
   "cell_type": "code",
   "execution_count": null,
   "metadata": {},
   "outputs": [],
   "source": [
    "fig = utils_plot_acc_eer_dist(test_df_plot, \"Test Accuracy\")\n",
    "fig = utils_plot_acc_eer_dist(test_df_plot, \"Test EER\")"
   ]
  },
  {
   "cell_type": "code",
   "execution_count": null,
   "metadata": {},
   "outputs": [],
   "source": [
    "fig = utils_plot_acc_eer_dist(test_df_plot, \"Test Accuracy\")\n",
    "fig = utils_plot_acc_eer_dist(test_df_plot, \"Test EER\")\n",
    "fig.savefig(f'temp2.svg', bbox_inches='tight')"
   ]
  },
  {
   "cell_type": "code",
   "execution_count": null,
   "metadata": {
    "tags": []
   },
   "outputs": [],
   "source": [
    "fig = utils_plot_acc_eer_dist(test_df_plot, \"Test Accuracy\")\n",
    "plt.savefig(f'CNN-OCSVM-{P.model_variant}-Accuray-win_size={P.window_size}-step_width={P.nn_step_width}-epochs:{P.epochs_best}-smoothing:{P.smoothing}.png', bbox_inches='tight')"
   ]
  },
  {
   "cell_type": "code",
   "execution_count": null,
   "metadata": {
    "tags": []
   },
   "outputs": [],
   "source": [
    "fig = utils_plot_acc_eer_dist(test_df_plot, \"Test EER\")\n",
    "plt.savefig(f'CNN-OCSVM-{P.model_variant}-EER-win_size={P.window_size}-step_width={P.nn_step_width}-epochs:{P.epochs_best}-smoothing:{P.smoothing}.png', bbox_inches='tight')"
   ]
  },
  {
   "cell_type": "code",
   "execution_count": null,
   "metadata": {},
   "outputs": [],
   "source": [
    "utils_ppp(P)"
   ]
  },
  {
   "cell_type": "code",
   "execution_count": null,
   "metadata": {},
   "outputs": [],
   "source": [
    "test_df_results.shape"
   ]
  }
 ],
 "metadata": {
  "kernelspec": {
   "display_name": "Python 3 (ipykernel)",
   "language": "python",
   "name": "python3"
  },
  "language_info": {
   "codemirror_mode": {
    "name": "ipython",
    "version": 3
   },
   "file_extension": ".py",
   "mimetype": "text/x-python",
   "name": "python",
   "nbconvert_exporter": "python",
   "pygments_lexer": "ipython3",
   "version": "3.9.10"
  }
 },
 "nbformat": 4,
 "nbformat_minor": 4
}
