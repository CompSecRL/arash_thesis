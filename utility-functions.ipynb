{
 "cells": [
  {
   "cell_type": "code",
   "execution_count": 2,
   "metadata": {
    "_cell_guid": "d975284c-a069-40d8-9847-9465d0ac4f47",
    "_uuid": "b6bb54c3-ff29-436c-8f5e-b3a13b9f5153",
    "collapsed": false,
    "jupyter": {
     "outputs_hidden": false
    },
    "tags": []
   },
   "outputs": [],
   "source": [
    "# This Python 3 environment comes with many helpful analytics libraries installed\n",
    "# It is defined by the kaggle/python Docker image: https://github.com/kaggle/docker-python\n",
    "# For example, here's several helpful packages to load\n",
    "\n",
    "TEST_MODE = 0 # Testing macro\n",
    "\n",
    "# Input data files are available in the read-only \"../input/\" directory\n",
    "# For example, running this (by clicking run or pressing Shift+Enter) will list all files under the input directory\n",
    "\n",
    "import os\n",
    "\n",
    "if TEST_MODE:\n",
    "    for dirname, _, filenames in os.walk('/kaggle/input'):\n",
    "        for filename in filenames:\n",
    "            print(os.path.join(dirname, filename))\n",
    "\n",
    "# You can write up to 20GB to the current directory (/kaggle/working/) that gets preserved as output when you create a version using \"Save & Run All\" \n",
    "# You can also write temporary files to /kaggle/temp/, but they won't be saved outside of the current session"
   ]
  },
  {
   "cell_type": "code",
   "execution_count": 3,
   "metadata": {
    "_cell_guid": "3ae86968-b273-4857-a4fd-537b178d854b",
    "_uuid": "bcec77b5-0738-4d15-8aad-f6b59b3ac023",
    "collapsed": false,
    "jupyter": {
     "outputs_hidden": false
    },
    "tags": []
   },
   "outputs": [
    {
     "name": "stdout",
     "output_type": "stream",
     "text": [
      "Requirement already satisfied: pip in /opt/conda/lib/python3.9/site-packages (23.0.1)\n",
      "Requirement already satisfied: pip in /opt/conda/lib/python3.9/site-packages (23.0.1)\n",
      "\u001b[32m\"SEED and CONSTANTS imported\"\u001b[0m\n",
      "setup complete\n"
     ]
    }
   ],
   "source": [
    "!pip install --upgrade pip\n",
    "\n",
    "import numpy as np # linear algebraf\n",
    "import pandas as pd # data processing, CSV file I/O (e.g. pd.read_csv)\n",
    "from tqdm import tqdm\n",
    "import warnings\n",
    "from sklearn.metrics import roc_curve, make_scorer, auc\n",
    "from scipy.optimize import brentq\n",
    "from scipy.interpolate import interp1d\n",
    "\n",
    "\n",
    "\n",
    "pd.plotting.register_matplotlib_converters()\n",
    "import matplotlib.pyplot as plt\n",
    "import seaborn as sns\n",
    "\n",
    "\n",
    "from pandas.testing import assert_frame_equal\n",
    "\n",
    "\n",
    "%run ./SEED-CONSTANTS.ipynb\n",
    "\n",
    "# Global utitlity functions are in separate notebook\n",
    "print(\"setup complete\")"
   ]
  },
  {
   "cell_type": "code",
   "execution_count": 4,
   "metadata": {},
   "outputs": [
    {
     "data": {
      "text/plain": [
       "(20, 10)"
      ]
     },
     "execution_count": 4,
     "metadata": {},
     "output_type": "execute_result"
    }
   ],
   "source": [
    "err_distro_rc[\"figure.figsize\"]"
   ]
  },
  {
   "cell_type": "code",
   "execution_count": 5,
   "metadata": {},
   "outputs": [
    {
     "name": "stdout",
     "output_type": "stream",
     "text": [
      "Python 3.9.10\n"
     ]
    }
   ],
   "source": [
    "!python --version"
   ]
  },
  {
   "cell_type": "code",
   "execution_count": 6,
   "metadata": {
    "_cell_guid": "405969a0-3049-4c9a-a3b1-fd5f15905170",
    "_uuid": "86a331fc-b630-4411-ab56-0375c262e607",
    "tags": []
   },
   "outputs": [],
   "source": [
    "def rolling_window(a, window, stride):\n",
    "    shape = a.shape[:-1] + (int((a.shape[-1] - window)/stride + 1), window)\n",
    "    strides = (stride*a.strides[-1],) + (a.strides[-1],)\n",
    "    return np.lib.stride_tricks.as_strided(a, shape=shape, strides=strides)\n",
    "\n",
    "\n",
    "\n",
    "def getIndices(sampleSize=1000, step=1000, numSamplePoints=24000):\n",
    "    indices = np.arange(0, numSamplePoints, 1)\n",
    "    indices = rolling_window(indices, sampleSize, step)\n",
    "    \n",
    "    return indices"
   ]
  },
  {
   "cell_type": "code",
   "execution_count": 7,
   "metadata": {
    "_cell_guid": "ae9b2983-8cec-4f02-922a-d7b8c0e36822",
    "_uuid": "6afdfc26-d91b-4d3a-8604-528d56426826",
    "collapsed": false,
    "jupyter": {
     "outputs_hidden": false
    },
    "tags": []
   },
   "outputs": [],
   "source": [
    "# cite the thesis paper i found\n",
    "def utils_ppp(P):\n",
    "    \"\"\"Pretty print parameters of an experiment.\"\"\"\n",
    "    df = pd.DataFrame([asdict(P)])\n",
    "    df = df.T\n",
    "    df.columns = [\"Value\"]\n",
    "    \n",
    "    display(df)"
   ]
  },
  {
   "cell_type": "code",
   "execution_count": 8,
   "metadata": {
    "_cell_guid": "ef3ded46-6c27-44c6-8792-7c30cf5c0af3",
    "_uuid": "449eb557-cbf1-416c-b0ec-ddcc4f104119",
    "collapsed": false,
    "jupyter": {
     "outputs_hidden": false
    },
    "tags": []
   },
   "outputs": [],
   "source": [
    "# source: https://github.com/dynobo/ContinAuth/blob/master/notebooks/utils.ipynb\n",
    "def utils_eer(y_true, y_pred, return_threshold=False):\n",
    "    \"\"\"Calculate the Equal Error Rate.\n",
    "\n",
    "    Based on https://stackoverflow.com/a/49555212, https://yangcha.github.io/EER-ROC/\n",
    "    and https://scikit-learn.org/stable/modules/model_evaluation.html#implementing-your-own-scoring-object\n",
    "\n",
    "    Arguments:\n",
    "        y_true {np.array}  -- Actual labels\n",
    "        y_pred {np.array}  -- Predicted labels or probability\n",
    "        \n",
    "    Returns:\n",
    "        float              -- Equal Error Rate        \n",
    "    \"\"\"\n",
    "    fpr, tpr, thresholds = roc_curve(y_true, y_pred, pos_label=1)\n",
    "    eer = brentq(lambda x: 1.0 - x - interp1d(fpr, tpr)(x), 0.0, 1.0)\n",
    "    thresh = interp1d(fpr, thresholds)(eer)  # Calculated threshold, not needed for score\n",
    "    if return_threshold:\n",
    "        return eer, thresh\n",
    "    else:\n",
    "        return eer"
   ]
  },
  {
   "cell_type": "code",
   "execution_count": 9,
   "metadata": {
    "_cell_guid": "8e188ef2-60ad-44e7-8c98-77d859e152ec",
    "_uuid": "c755e89d-f293-4da4-a418-85186fcfbe17",
    "collapsed": false,
    "jupyter": {
     "outputs_hidden": false
    },
    "tags": []
   },
   "outputs": [],
   "source": [
    "if TEST_MODE:\n",
    "    temp_eer, tres = utils_eer(\n",
    "        [-1, -1, -1, 1, 1, 1], [0, 0.9, 0.1, 0.74, 0.8, .6], return_threshold=True\n",
    "    )\n",
    "    print(f\"EER: {temp_eer:.3f}, Threshold: {tres:.3f} <-- Arbitrary case\")\n",
    "\n",
    "    temp_eer, tres = utils_eer(\n",
    "        [-1, -1, -1, 1, 1], [0.1, 0.2, 0.3, 1, 0.9], return_threshold=True\n",
    "    )\n",
    "    print(f\"EER: {temp_eer:.3f}, Threshold: {tres:.3f} <-- Best case\")\n",
    "\n",
    "    temp_eer, tres = utils_eer(\n",
    "        [1, 1, 1, -1, -1], [0.1, 0.2, 0.3, 1, 0.9], return_threshold=True\n",
    "    )\n",
    "    print(f\"EER: {temp_eer:.3f}, Threshold: {tres:.3f} <-- Worse case\")\n",
    "    \n",
    "#     new case does it make sense? I don't think so\n",
    "    temp_eer, tres = utils_eer(\n",
    "        [1, 1, 1, -1, -1], [-1, 1, -1, -1, -1], return_threshold=True\n",
    "    )\n",
    "    print(f\"EER: {temp_eer:.3f}, Threshold: {tres:.3f} <-- Worse case\")"
   ]
  },
  {
   "cell_type": "code",
   "execution_count": 10,
   "metadata": {
    "_cell_guid": "304dbab1-3cf2-4166-a521-178f5a3f55fe",
    "_uuid": "1f3464be-7fe5-4d37-bf84-e2f63e99b345",
    "collapsed": false,
    "jupyter": {
     "outputs_hidden": false
    }
   },
   "outputs": [],
   "source": [
    "utils_eer_scorer = make_scorer(utils_eer, greater_is_better=False)"
   ]
  },
  {
   "cell_type": "code",
   "execution_count": 11,
   "metadata": {
    "_cell_guid": "34212531-d2e8-4ddf-85fb-9735252c8b1b",
    "_uuid": "18ad7845-afb9-46a8-b194-28b36a1acf3e",
    "collapsed": false,
    "jupyter": {
     "outputs_hidden": false
    }
   },
   "outputs": [],
   "source": [
    "# source: https://zhiyzuo.github.io/Plot-Lorenz/\n",
    "#  0 representing perfect equality, and 1 absolute inequality.\n",
    "def gini(arr):\n",
    "    ## first sort\n",
    "    sorted_arr = arr.copy()\n",
    "    sorted_arr.sort()\n",
    "    n = arr.size\n",
    "    coef_ = 2. / n\n",
    "    const_ = (n + 1.) / n\n",
    "    weighted_sum = sum([(i+1)*yi for i, yi in enumerate(sorted_arr)])\n",
    "    return coef_*weighted_sum/(sorted_arr.sum()) - const_\n",
    "\n",
    "def lorenz_curve(X):\n",
    "    ## first sort\n",
    "    X = X.copy()\n",
    "    X.sort()\n",
    "    X_lorenz = X.cumsum() / X.sum()\n",
    "    X_lorenz = np.insert(X_lorenz, 0, 0) \n",
    "    X_lorenz[0], X_lorenz[-1]\n",
    "    fig, ax = plt.subplots(figsize=[6,6])\n",
    "    ## scatter plot of Lorenz curve\n",
    "    ax.scatter(np.arange(X_lorenz.size)/(X_lorenz.size-1), X_lorenz, \n",
    "               marker='x', color='darkgreen', s=100)\n",
    "    ## line plot of equality\n",
    "    ax.plot([0,1], [0,1], color='k')\n",
    "    ax.set_xlabel('% of Population')\n",
    "    ax.set_ylabel('% of Errors')"
   ]
  },
  {
   "cell_type": "code",
   "execution_count": 12,
   "metadata": {
    "_cell_guid": "e00ca0fd-f3b5-40b4-8e6b-4813887fe906",
    "_uuid": "2ef37b96-5eae-466c-9d73-cf9ee3abb975",
    "collapsed": false,
    "jupyter": {
     "outputs_hidden": false
    }
   },
   "outputs": [],
   "source": [
    "def getAUROCDist(window_frrList_dict, window_farList_dict, start_window_size=250, end_window_size=3000, increment_step=250):\n",
    "    \n",
    "    window_AUROC_dict = {}\n",
    "    lst = np.arange(start_window_size, end_window_size + 1, increment_step)\n",
    "    \n",
    "    for w in lst:\n",
    "        \n",
    "        frrList = dic[\"window_frrList_dict\"][w]\n",
    "        farList = dic[\"window_farList_dict\"][w]\n",
    "        window_AUROC_dict[w] = auc(frrList, farList)\n",
    "        \n",
    "    return window_AUROC_dict"
   ]
  },
  {
   "cell_type": "code",
   "execution_count": 13,
   "metadata": {
    "tags": []
   },
   "outputs": [
    {
     "name": "stdout",
     "output_type": "stream",
     "text": [
      "\u001b[32m\"Utility functions imported\"\u001b[0m\n"
     ]
    }
   ],
   "source": [
    "print(\"\\x1b[32m\\\"Utility functions imported\\\"\\x1b[0m\")"
   ]
  }
 ],
 "metadata": {
  "kernelspec": {
   "display_name": "Python 3 (ipykernel)",
   "language": "python",
   "name": "python3"
  },
  "language_info": {
   "codemirror_mode": {
    "name": "ipython",
    "version": 3
   },
   "file_extension": ".py",
   "mimetype": "text/x-python",
   "name": "python",
   "nbconvert_exporter": "python",
   "pygments_lexer": "ipython3",
   "version": "3.9.10"
  }
 },
 "nbformat": 4,
 "nbformat_minor": 4
}
