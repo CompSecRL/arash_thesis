{
 "cells": [
  {
   "cell_type": "markdown",
   "metadata": {},
   "source": [
    "Dataset [link](https://can01.safelinks.protection.outlook.com/?url=https%3A%2F%2Fdrive.google.com%2Fdrive%2Ffolders%2F1-6sd6E3cL8uWdNeO4xiXxLbTSYXSTiVr%3Fusp%3Dsharing&data=04%7C01%7Carash.gholami%40queensu.ca%7C92b180b5b67d475fb70e08d87b7f4305%7Cd61ecb3b38b142d582c4efb2838b925c%7C1%7C0%7C637395133804367020%7CUnknown%7CTWFpbGZsb3d8eyJWIjoiMC4wLjAwMDAiLCJQIjoiV2luMzIiLCJBTiI6Ik1haWwiLCJXVCI6Mn0%3D%7C1000&sdata=1ieR3E8llMblC0QMBtx1%2FpHS71RQuCxzdNQLmH0HJVU%3D&reserved=0)\n",
    "\n",
    "Explanation: There are **49** users' data here. Naming is in the format of Username_ExperimentNumber. Please also note that it is unprocessed raw data, which includes a lot of noise etc. \n",
    "\n",
    "Experiment-1: **20** participants are involved in this task and the participants were asked to type **a story** from **a set** of short and simple stories from the American Literature https://americanliterature.com/100-great-short-stories for **four minutes**. The story was chosen randomly by the participants.\n",
    "\n",
    "Experiment-2: 20 participants are involved in this task and for this data set, all the participants were asked to type the **same text** https://en.wikipedia.org/wiki/The_Adventures_of_Tom_Sawyer for **four minutes**. For each participant, almost the same amount of data is collected as Experiment-1. This dataset is important to be able to measure the quality of the features. The collection of this dataset is quite realistic since in a real case the users could be also asked to type a given text during their CA sessions. \n",
    "\n",
    "Experiment-3: The participants are asked to type **10 different pangram sentences**. Pangrams sentences contain** all 26 letters** of the alphabet. This data set is used to test how the **letter distribution** of text affects the result.\n",
    "\n",
    "Experiment-4: **34** participants are involved in this task and the participants were instructed to imitate someone else's typing pattern by watching the prerecorded video of the other person. For these experiments, one of the participants was recorded on video while typing a short and simple sentence for **15 seconds** from a perspective that the hand motions, smartwatch, keyboard, and the screen could be seen. Although it was not required, the perspective allowed to infer what the victim was typing by watching. This dataset was primarily used to analyze the **attacking scenarios**. It is left to the participant to type the exact same text or imitate the hand movement of the victim.\n",
    "\n",
    "-----------------------\n",
    "\n",
    "I realized that you have mostly 4s and 10s as values on column A, but I also found 2s. What does column A represent? \n",
    "A represents the sensor type:\n",
    " \n",
    "**10 for the accelerometer\n",
    "4 for the gyroscope**\n",
    "2 for the magnetic field sensor\n",
    "\n",
    "You can find more info about sensors and constant values that are used to define the sensor type in these links:\n",
    "- https://developer.android.com/guide/topics/sensors/sensors_overview\n",
    "- https://developer.android.com/reference/android/hardware/Sensor#TYPE_LINEAR_ACCELERATION\n",
    "\n",
    "Normally, I only collected and used accelerometer and gyroscope sensor data. Magnetometer data should not be in the dataset. If there is, that means it is an **outlier**.\n",
    " \n",
    "Is column B the time stamp, is it recorded at 100HZ?\n",
    "\n",
    "In an android app, you can set the sampling rate \"SENSOR_DELAY_NORMAL, SENSOR_DELAY_UI, SENSOR_DELAY_GAME, or SENSOR_DELAY_FASTEST \" \n",
    "\n",
    "As far as I remember I used **\"SENSOR_DELAY_FASTEST\" for all sensors**, but in practice, I had a lot of issues regarding this. They **don't give a constant sampling rate**. Every time I used they were giving different sampling rates. They were giving different sampling rates for two sessions of the same user, for different users, or for different sensors. Therefore, I would recommend using the one in the practice, which you can calculate using the timestamp and the sample count. \n",
    "\n",
    "On the paper you said you have recorded both accelerometer and gyro data; but you seem to only have one of them at a time on columns C, D, and F. I am guessing 10 on column A represents accelerometer and 4 gyro, but I could be wrong. \n",
    "Also, some rows have more columns, and start with 11 on column A. What do those represent?\n",
    "Please see the explanation above. \n",
    " \n",
    "\n",
    "In short, I would really appreciate it if you could let me know information I need to know for working with the data.\n",
    "\n",
    "Also, as these sensors were giving me a lot of headaches because they are really not stable, I needed to perform a lot of preprocessing. I **cleaned the outliers** before further processing. I also applied some other filtering techniques such as **moving average** to obtain more smooth data. Moreover, I needed to **clean the part the users are not performing typing operation from the beginning and end**, which you can see if you plot the values, i.e., the **user stops meaning no value and then big deviations, where the user takes off the smartwatch**."
   ]
  },
  {
   "cell_type": "code",
   "execution_count": 255,
   "metadata": {
    "_cell_guid": "b1076dfc-b9ad-4769-8c92-a6c4dae69d19",
    "_uuid": "8f2839f25d086af736a60e9eeb907d3b93b6e0e5",
    "tags": []
   },
   "outputs": [],
   "source": [
    "# This Python 3 environment comes with many helpful analytics libraries installed\n",
    "# It is defined by the kaggle/python Docker image: https://github.com/kaggle/docker-python\n",
    "# For example, here's several helpful packages to load\n",
    "\n",
    "# Input data files are available in the read-only \"../input/\" directory\n",
    "# For example, running this (by clicking run or pressing Shift+Enter) will list all files under the input directory\n",
    "\n",
    "CORES = -1\n",
    "SEED = 567\n",
    "\n",
    "import os\n",
    "for dirname, _, filenames in os.walk('/kaggle/input'):\n",
    "    for filename in filenames:\n",
    "        print(os.path.join(dirname, filename))\n",
    "\n",
    "# You can write up to 20GB to the current directory (/kaggle/working/) that gets preserved as output when you create a version using \"Save & Run All\" \n",
    "# You can also write temporary files to /kaggle/temp/, but they won't be saved outside of the current session"
   ]
  },
  {
   "cell_type": "code",
   "execution_count": 256,
   "metadata": {
    "tags": []
   },
   "outputs": [
    {
     "name": "stdout",
     "output_type": "stream",
     "text": [
      "utility_functions imports setup complete\n",
      "Python 3.8.6\n",
      "utility functions imported\n",
      "Numpy Seed was set to: 567\n",
      "Setup Complete\n"
     ]
    }
   ],
   "source": [
    "# !pip install --upgrade pip\n",
    "# !pip install python-docx\n",
    "# !pip install antropy\n",
    "\n",
    "from sklearn.neighbors import NearestNeighbors\n",
    "import numpy as np # linear algebra\n",
    "import pandas as pd # data processing, CSV file I/O (e.g. pd.read_csv)\n",
    "import dataclasses\n",
    "import math as math\n",
    "from sklearn.svm import OneClassSVM\n",
    "from sklearn.model_selection import cross_validate, RandomizedSearchCV, GridSearchCV\n",
    "import statsmodels.stats.api as sms\n",
    "from tqdm.auto import tqdm\n",
    "from dataclasses import asdict\n",
    "from sklearn import svm\n",
    "from tqdm import tqdm\n",
    "import warnings\n",
    "import random\n",
    "from sklearn.discriminant_analysis import LinearDiscriminantAnalysis as LDA\n",
    "from sklearn.decomposition import PCA\n",
    "from sklearn.metrics import roc_curve, accuracy_score, make_scorer, auc\n",
    "from scipy.optimize import brentq\n",
    "from scipy.interpolate import interp1d\n",
    "from sklearn.pipeline import Pipeline\n",
    "from sklearn.feature_selection import VarianceThreshold # Feature selector\n",
    "from sklearn.model_selection import KFold\n",
    "\n",
    "pd.plotting.register_matplotlib_converters()\n",
    "import matplotlib.pyplot as plt\n",
    "import seaborn as sns\n",
    "from scipy.stats import kurtosis\n",
    "from scipy.stats import skew\n",
    "from scipy.stats import iqr\n",
    "from scipy.stats import median_absolute_deviation\n",
    "from scipy.stats import mode\n",
    "from scipy.signal import find_peaks\n",
    "from scipy.signal import peak_widths\n",
    "# from scipy.special import entr\n",
    "from sklearn.preprocessing import StandardScaler, MinMaxScaler, Normalizer, MaxAbsScaler, RobustScaler, PowerTransformer\n",
    "get_new_scaler_dict = {\"StandardScaler\": StandardScaler, \"MinMaxScaler\": MinMaxScaler, \"Normalizer\": Normalizer, \n",
    "                       \"MaxAbsScaler\": MaxAbsScaler, \"RobustScaler\": RobustScaler, \"PowerTransformer\": PowerTransformer}\n",
    "from sklearn.preprocessing import normalize\n",
    "from sklearn.metrics import auc\n",
    "# import antropy as ant\n",
    "import time\n",
    "# import docx\n",
    "\n",
    "# Global utitlity functions are in separate notebook\n",
    "# import utility_functions as uf\n",
    "%run ./utility-functions.ipynb\n",
    "\n",
    "np.random.seed(SEED)\n",
    "print(f\"Numpy Seed was set to: {SEED}\")\n",
    "\n",
    "print(\"Setup Complete\")"
   ]
  },
  {
   "cell_type": "code",
   "execution_count": 257,
   "metadata": {
    "tags": []
   },
   "outputs": [
    {
     "data": {
      "text/plain": [
       "'0.24.2'"
      ]
     },
     "execution_count": 257,
     "metadata": {},
     "output_type": "execute_result"
    }
   ],
   "source": [
    "import sklearn\n",
    "sklearn.__dir__()\n",
    "sklearn.__version__"
   ]
  },
  {
   "cell_type": "code",
   "execution_count": 258,
   "metadata": {
    "tags": []
   },
   "outputs": [],
   "source": [
    "@dataclasses.dataclass\n",
    "class ExperimentParameters:\n",
    "    \"\"\"Contains all relevant parameters to run an experiment.\"\"\"\n",
    "\n",
    "    name: str  # Name of Parameter set. Used as identifier for charts etc.\n",
    "    frequency: int\n",
    "    max_subjects: int\n",
    "    max_test_subjects: int\n",
    "        \n",
    "    user_ids: list\n",
    "    num_sample_points_per_exp: int\n",
    "    exp_begin_cutoff_idx: int\n",
    "    exp_end_cutoff_idx: int\n",
    "        \n",
    "    \n",
    "    seconds_per_subject_train: float\n",
    "    seconds_per_subject_test: float\n",
    "    window_size: int  # After resampling\n",
    "    ocsvm_step_width: int  # After resampling\n",
    "    scaler: str  # StandardScaler, MinMaxScaler, Normalizer, MaxAbsScaler, RobustScaler, PowerTransformer\n",
    "    scaler_scope: str  # {\"subject\", \"session\"}\n",
    "    scaler_global: bool  # fit transform scale on all data (True) or fit on training only (False)\n",
    "    ocsvm_kernel: str # ocsvm kernel\n",
    "    ocsvm_nu: float  # Best value found in random search, used for final model\n",
    "    ocsvm_gamma: float  # Best value found in random search, used for final model\n",
    "    feature_cols: list  # Columns used as features\n",
    "    exclude_subjects: list  # Don't load data from those users\n",
    "        \n",
    "    # Calculated values\n",
    "    def __post_init__(self):\n",
    "        # HDF key of table:\n",
    "        self.table_name = f\"sensors_{self.frequency}hz\"\n",
    "\n",
    "        \n",
    "\n",
    "# INSTANCES\n",
    "# ===========================================================\n",
    "\n",
    "# NAIVE_APPROACH\n",
    "# -----------------------------------------------------------\n",
    "NAIVE_MINMAX_OCSVM = ExperimentParameters(\n",
    "    name=\"NAIVE-MINMAX_OCSVM\",\n",
    "    frequency=100,\n",
    "    max_subjects=29,\n",
    "    max_test_subjects=10,\n",
    "    user_ids = [1, 2, 3, 4, 5, 6, 7, 8, 19, 21, 22, 26, 27, 28, 29, 35, 36, 37, 38, 39, 40, 41, 42, 43, 44, 45, 46, 48, 49],\n",
    "    num_sample_points_per_exp=21000,\n",
    "    exp_begin_cutoff_idx=500,\n",
    "    exp_end_cutoff_idx=-500,\n",
    "    seconds_per_subject_train=210,\n",
    "    seconds_per_subject_test=210,    \n",
    "    window_size=250,\n",
    "    ocsvm_step_width=250,\n",
    "    scaler=\"minmax\",\n",
    "    scaler_scope=\"subject\",\n",
    "    scaler_global=True,\n",
    "    ocsvm_kernel=\"rbf\",\n",
    "    ocsvm_nu=None,\n",
    "    ocsvm_gamma=None,\n",
    "    feature_cols=[\n",
    "        \"EMA_x_a\",\n",
    "        \"EMA_y_a\",\n",
    "        \"EMA_z_a\",\n",
    "        \"EMA_x_g\",\n",
    "        \"EMA_y_g\",\n",
    "        \"EMA_z_g\",\n",
    "    ],\n",
    "    exclude_subjects=[],\n",
    ")\n",
    "\n",
    "# VALID_APPROACH\n",
    "# -----------------------------------------------------------\n",
    "VALID_MINMAX_OCSVM = dataclasses.replace(\n",
    "    NAIVE_MINMAX_OCSVM,\n",
    "    name=\"VALID-MINMAX-OCSVM\",\n",
    "    scaler_global=False,\n",
    "    ocsvm_nu=0.165,\n",
    "    ocsvm_gamma=0.039,\n",
    ")\n",
    "\n",
    "# NAIVE_ROBUST_APPROACH\n",
    "# -----------------------------------------------------------\n",
    "NAIVE_ROBUST_OCSVM = dataclasses.replace(\n",
    "    NAIVE_MINMAX_OCSVM,\n",
    "    name=\"NAIVE-ROBUST-OCSVM\",\n",
    "    scaler=\"robust\",\n",
    "    scaler_global=True,\n",
    "    ocsvm_nu=0.153,\n",
    "    ocsvm_gamma=0.091,  # below median, selected by chart\n",
    ")\n",
    "\n",
    "# ROBUST_APPROACH (VALID)\n",
    "# -----------------------------------------------------------\n",
    "VALID_ROBUST_OCSVM = dataclasses.replace(\n",
    "    NAIVE_MINMAX_OCSVM,\n",
    "    name=\"VALID-ROBUST-OCSVM\",\n",
    "    scaler=\"RobustScaler\",\n",
    "    scaler_global=False,\n",
    "    ocsvm_nu=0.037,\n",
    "    ocsvm_gamma= 0.001,\n",
    ")\n",
    "# NORMALIZER_APPROACH (VALID)\n",
    "# -----------------------------------------------------------\n",
    "VALID_NORMALIZER_OCSVM = dataclasses.replace(\n",
    "    NAIVE_MINMAX_OCSVM,\n",
    "    name=\"VALID-NORMALIZER-OCSVM\",\n",
    "    scaler=\"Normalizer\",\n",
    "    scaler_global=False,\n",
    "    ocsvm_nu=0.074,\n",
    "    ocsvm_gamma= 0.029,\n",
    ")"
   ]
  },
  {
   "cell_type": "code",
   "execution_count": 259,
   "metadata": {
    "tags": []
   },
   "outputs": [],
   "source": [
    "P = VALID_ROBUST_OCSVM\n",
    "# P = VALID_NORMALIZER_OCSVM"
   ]
  },
  {
   "cell_type": "code",
   "execution_count": 260,
   "metadata": {
    "tags": []
   },
   "outputs": [
    {
     "data": {
      "text/html": [
       "<div>\n",
       "<style scoped>\n",
       "    .dataframe tbody tr th:only-of-type {\n",
       "        vertical-align: middle;\n",
       "    }\n",
       "\n",
       "    .dataframe tbody tr th {\n",
       "        vertical-align: top;\n",
       "    }\n",
       "\n",
       "    .dataframe thead th {\n",
       "        text-align: right;\n",
       "    }\n",
       "</style>\n",
       "<table border=\"1\" class=\"dataframe\">\n",
       "  <thead>\n",
       "    <tr style=\"text-align: right;\">\n",
       "      <th></th>\n",
       "      <th>Value</th>\n",
       "    </tr>\n",
       "  </thead>\n",
       "  <tbody>\n",
       "    <tr>\n",
       "      <th>name</th>\n",
       "      <td>VALID-ROBUST-OCSVM</td>\n",
       "    </tr>\n",
       "    <tr>\n",
       "      <th>frequency</th>\n",
       "      <td>100</td>\n",
       "    </tr>\n",
       "    <tr>\n",
       "      <th>max_subjects</th>\n",
       "      <td>29</td>\n",
       "    </tr>\n",
       "    <tr>\n",
       "      <th>max_test_subjects</th>\n",
       "      <td>10</td>\n",
       "    </tr>\n",
       "    <tr>\n",
       "      <th>user_ids</th>\n",
       "      <td>[1, 2, 3, 4, 5, 6, 7, 8, 19, 21, 22, 26, 27, 2...</td>\n",
       "    </tr>\n",
       "    <tr>\n",
       "      <th>num_sample_points_per_exp</th>\n",
       "      <td>21000</td>\n",
       "    </tr>\n",
       "    <tr>\n",
       "      <th>exp_begin_cutoff_idx</th>\n",
       "      <td>500</td>\n",
       "    </tr>\n",
       "    <tr>\n",
       "      <th>exp_end_cutoff_idx</th>\n",
       "      <td>-500</td>\n",
       "    </tr>\n",
       "    <tr>\n",
       "      <th>seconds_per_subject_train</th>\n",
       "      <td>210</td>\n",
       "    </tr>\n",
       "    <tr>\n",
       "      <th>seconds_per_subject_test</th>\n",
       "      <td>210</td>\n",
       "    </tr>\n",
       "    <tr>\n",
       "      <th>window_size</th>\n",
       "      <td>250</td>\n",
       "    </tr>\n",
       "    <tr>\n",
       "      <th>ocsvm_step_width</th>\n",
       "      <td>250</td>\n",
       "    </tr>\n",
       "    <tr>\n",
       "      <th>scaler</th>\n",
       "      <td>RobustScaler</td>\n",
       "    </tr>\n",
       "    <tr>\n",
       "      <th>scaler_scope</th>\n",
       "      <td>subject</td>\n",
       "    </tr>\n",
       "    <tr>\n",
       "      <th>scaler_global</th>\n",
       "      <td>False</td>\n",
       "    </tr>\n",
       "    <tr>\n",
       "      <th>ocsvm_kernel</th>\n",
       "      <td>rbf</td>\n",
       "    </tr>\n",
       "    <tr>\n",
       "      <th>ocsvm_nu</th>\n",
       "      <td>0.037</td>\n",
       "    </tr>\n",
       "    <tr>\n",
       "      <th>ocsvm_gamma</th>\n",
       "      <td>0.001</td>\n",
       "    </tr>\n",
       "    <tr>\n",
       "      <th>feature_cols</th>\n",
       "      <td>[EMA_x_a, EMA_y_a, EMA_z_a, EMA_x_g, EMA_y_g, ...</td>\n",
       "    </tr>\n",
       "    <tr>\n",
       "      <th>exclude_subjects</th>\n",
       "      <td>[]</td>\n",
       "    </tr>\n",
       "  </tbody>\n",
       "</table>\n",
       "</div>"
      ],
      "text/plain": [
       "                                                                       Value\n",
       "name                                                      VALID-ROBUST-OCSVM\n",
       "frequency                                                                100\n",
       "max_subjects                                                              29\n",
       "max_test_subjects                                                         10\n",
       "user_ids                   [1, 2, 3, 4, 5, 6, 7, 8, 19, 21, 22, 26, 27, 2...\n",
       "num_sample_points_per_exp                                              21000\n",
       "exp_begin_cutoff_idx                                                     500\n",
       "exp_end_cutoff_idx                                                      -500\n",
       "seconds_per_subject_train                                                210\n",
       "seconds_per_subject_test                                                 210\n",
       "window_size                                                              250\n",
       "ocsvm_step_width                                                         250\n",
       "scaler                                                          RobustScaler\n",
       "scaler_scope                                                         subject\n",
       "scaler_global                                                          False\n",
       "ocsvm_kernel                                                             rbf\n",
       "ocsvm_nu                                                               0.037\n",
       "ocsvm_gamma                                                            0.001\n",
       "feature_cols               [EMA_x_a, EMA_y_a, EMA_z_a, EMA_x_g, EMA_y_g, ...\n",
       "exclude_subjects                                                          []"
      ]
     },
     "metadata": {},
     "output_type": "display_data"
    }
   ],
   "source": [
    "utils_ppp(P)"
   ]
  },
  {
   "cell_type": "code",
   "execution_count": 261,
   "metadata": {
    "tags": []
   },
   "outputs": [
    {
     "data": {
      "text/plain": [
       "make_scorer(utils_eer, greater_is_better=False)"
      ]
     },
     "execution_count": 261,
     "metadata": {},
     "output_type": "execute_result"
    }
   ],
   "source": [
    "utils_eer_scorer"
   ]
  },
  {
   "cell_type": "markdown",
   "metadata": {},
   "source": [
    "# Split Dataset for Valid/Test  \n",
    "In two splits: one used during hyperparameter optimization, and one used during testing.\n",
    "\n",
    "The split is done along the subjects: All sessions of a single subject will either be in the validation split or in the testing split, never in both.\n",
    "\n",
    "They did a 30 60 split."
   ]
  },
  {
   "cell_type": "markdown",
   "metadata": {},
   "source": [
    "# Reshaping Raw Features.\n",
    "We have our own function of windows for this. Do this for both training and testing.\n",
    "\n",
    "# Extracting time and frequency based features.\n",
    "Again, we have a function for this. Do this for both training and testing."
   ]
  },
  {
   "cell_type": "markdown",
   "metadata": {},
   "source": [
    "# Hyperparameter Optimization \n",
    "\n",
    "I do not find any reaqsonable explaination how to use a cross-validation as we are talking about anomaly detection.\n",
    "\n",
    "I am using the experiment 1 data as train, and experiment 2 data as validation."
   ]
  },
  {
   "cell_type": "markdown",
   "metadata": {},
   "source": [
    "# Using SVM in a real-world Scenario with multiple genuine users and intruders\n",
    "Source: https://datascience.stackexchange.com/questions/23623/what-is-the-best-way-to-classify-data-not-belonging-to-set-of-classes\n",
    "\n",
    "Stage 1: \n",
    "    Use one-class SVM to assign those images that do not belong to the set of predefined classes as the 9-th class.\n",
    "\n",
    "Stage 2:\n",
    "    For those images that passes through your filter, let the multi-class SVM assign them to one of the 8 classes."
   ]
  },
  {
   "cell_type": "markdown",
   "metadata": {},
   "source": [
    "Loading data:"
   ]
  },
  {
   "cell_type": "code",
   "execution_count": 262,
   "metadata": {
    "tags": []
   },
   "outputs": [
    {
     "name": "stdout",
     "output_type": "stream",
     "text": [
      "Loading exp1 data:\n",
      "1) accel_count: 28388, gyro_count: 31997\n",
      "2) accel_count: 26015, gyro_count: 28954\n",
      "3) accel_count: 28227, gyro_count: 31814\n",
      "4) accel_count: 24862, gyro_count: 26103\n",
      "5) accel_count: 24270, gyro_count: 24347\n",
      "6) accel_count: 25012, gyro_count: 25060\n",
      "7) accel_count: 25301, gyro_count: 25382\n",
      "8) accel_count: 21985, gyro_count: 21658\n",
      "19) accel_count: 24122, gyro_count: 25050\n",
      "21) accel_count: 24367, gyro_count: 23830\n",
      "22) accel_count: 29284, gyro_count: 28863\n",
      "26) accel_count: 23148, gyro_count: 24291\n",
      "27) accel_count: 24299, gyro_count: 23589\n",
      "28) accel_count: 23807, gyro_count: 24523\n",
      "29) accel_count: 24030, gyro_count: 23475\n",
      "35) accel_count: 24388, gyro_count: 23673\n",
      "36) accel_count: 24244, gyro_count: 24208\n",
      "37) accel_count: 32022, gyro_count: 31843\n",
      "38) accel_count: 22138, gyro_count: 22327\n",
      "39) accel_count: 23573, gyro_count: 23459\n",
      "40) accel_count: 23057, gyro_count: 24296\n",
      "41) accel_count: 24102, gyro_count: 23681\n",
      "42) accel_count: 24074, gyro_count: 24328\n",
      "43) accel_count: 22631, gyro_count: 23835\n",
      "44) accel_count: 24474, gyro_count: 23749\n",
      "45) accel_count: 23974, gyro_count: 23229\n",
      "46) accel_count: 23614, gyro_count: 23827\n",
      "48) accel_count: 22828, gyro_count: 23904\n",
      "49) accel_count: 24183, gyro_count: 24633\n",
      "Loading exp2 data:\n",
      "1) accel_count: 24049, gyro_count: 26943\n",
      "2) accel_count: 24472, gyro_count: 27667\n",
      "3) accel_count: 24611, gyro_count: 27000\n",
      "4) accel_count: 24972, gyro_count: 26798\n",
      "5) accel_count: 23573, gyro_count: 23372\n",
      "6) accel_count: 23800, gyro_count: 23890\n",
      "7) accel_count: 23347, gyro_count: 24145\n",
      "8) accel_count: 22964, gyro_count: 22660\n",
      "19) accel_count: 26160, gyro_count: 25846\n",
      "21) accel_count: 23642, gyro_count: 24444\n",
      "22) accel_count: 23863, gyro_count: 24589\n",
      "26) accel_count: 23179, gyro_count: 23925\n",
      "27) accel_count: 25121, gyro_count: 25829\n",
      "28) accel_count: 23133, gyro_count: 24039\n",
      "29) accel_count: 23180, gyro_count: 24314\n",
      "35) accel_count: 23299, gyro_count: 23854\n",
      "36) accel_count: 25500, gyro_count: 25059\n",
      "37) accel_count: 25994, gyro_count: 25232\n",
      "38) accel_count: 21168, gyro_count: 21182\n",
      "39) accel_count: 24214, gyro_count: 23585\n",
      "40) accel_count: 23944, gyro_count: 23170\n",
      "41) accel_count: 23195, gyro_count: 24111\n",
      "42) accel_count: 26505, gyro_count: 25697\n",
      "43) accel_count: 22692, gyro_count: 23982\n",
      "44) accel_count: 23002, gyro_count: 23829\n",
      "45) accel_count: 23978, gyro_count: 23350\n",
      "46) accel_count: 21128, gyro_count: 21848\n",
      "48) accel_count: 28000, gyro_count: 27205\n",
      "49) accel_count: 23071, gyro_count: 24129\n"
     ]
    }
   ],
   "source": [
    "#include 47 later\n",
    "# user_ids = [9]\n",
    "df_exps_dict = load_data_frames(P.user_ids, P.exp_begin_cutoff_idx, P.exp_end_cutoff_idx, P.num_sample_points_per_exp)\n",
    "dfList_exp1, dfList_exp2 = df_exps_dict['dfList_exp1'], df_exps_dict['dfList_exp2']"
   ]
  },
  {
   "cell_type": "code",
   "execution_count": 263,
   "metadata": {
    "tags": []
   },
   "outputs": [],
   "source": [
    "# i=0\n",
    "# dfList_exp1[i][['EMA_x_a']].plot(figsize=(30, 6))\n",
    "# dfList_exp1[i][['EMA_y_a']].plot(figsize=(30, 6))\n",
    "# dfList_exp1[i][['EMA_z_a']].plot(figsize=(30, 6))\n",
    "# dfList_exp1[i][['EMA_x_g']].plot(figsize=(30, 6))\n",
    "# dfList_exp1[i][['EMA_y_g']].plot(figsize=(30, 6))\n",
    "# dfList_exp1[i][['EMA_z_g']].plot(figsize=(30, 6))\n",
    "\n",
    "# dfList_exp2[i][['EMA_x_a']].plot(figsize=(30, 6))\n",
    "# dfList_exp2[i][['EMA_y_a']].plot(figsize=(30, 6))\n",
    "# dfList_exp2[i][['EMA_z_a']].plot(figsize=(30, 6))\n",
    "# dfList_exp2[i][['EMA_x_g']].plot(figsize=(30, 6))\n",
    "# dfList_exp2[i][['EMA_y_g']].plot(figsize=(30, 6))\n",
    "# dfList_exp2[i][['EMA_z_g']].plot(figsize=(30, 6))\n",
    "# exp1 idx 10 has corrupted data frist 50 sec\n",
    "# exp2 idx 12 has some artifacts first 12.5 sec\n",
    "# exp1 idx 17 has some artifacts first 75 sec\n",
    "# exp2 idx 23 has some artifacts last 6.5 sec"
   ]
  },
  {
   "cell_type": "code",
   "execution_count": 264,
   "metadata": {
    "tags": []
   },
   "outputs": [
    {
     "name": "stdout",
     "output_type": "stream",
     "text": [
      "train_set: [7, 24, 8, 11, 13, 19, 28, 21, 26, 3, 20, 22, 6, 25, 16, 1, 17, 27, 5, 0, 12, 14, 9, 18, 23, 2, 15, 10, 4]\n",
      "test_set: [0, 12, 14, 9, 18, 23, 2, 15, 10, 4]\n",
      "train_set: [0, 12, 14, 9, 18, 23, 2, 15, 10, 4]\n",
      "test_set: [0, 12, 14, 9, 18, 23, 2, 15, 10, 4]\n"
     ]
    }
   ],
   "source": [
    "randomized_data_idx = list(range(len(P.user_ids)))\n",
    "random.Random(SEED).shuffle(randomized_data_idx)\n",
    "split_idx = 2 * (len(randomized_data_idx)//3) + 1\n",
    "train_set = randomized_data_idx[: split_idx]\n",
    "test_set = randomized_data_idx[split_idx: ]\n",
    "train_set = randomized_data_idx\n",
    "print(f\"train_set: {train_set}\\ntest_set: {test_set}\")\n",
    "train_set = test_set\n",
    "# test_set = train_set\n",
    "print(f\"train_set: {train_set}\\ntest_set: {test_set}\")"
   ]
  },
  {
   "cell_type": "code",
   "execution_count": 265,
   "metadata": {
    "tags": []
   },
   "outputs": [],
   "source": [
    "def get_raw_windows(window_size, step_width):\n",
    "    P.window_size = window_size\n",
    "    P.ocsvm_step_width = step_width\n",
    "    # preparing train data\n",
    "    # train_set = r\n",
    "    dfList_exp1_train, dfList_exp2_train = [dfList_exp1[i] for i in train_set], [dfList_exp2[i] for i in train_set]\n",
    "    print(f\"len(dfList_exp1_train): {len(dfList_exp1_train)}\")\n",
    "    print(f\"len(dfList_exp2_train): {len(dfList_exp2_train)}\")\n",
    "    XExpTrainDict = MakeRawXExpDic(dfList_exp1_train, dfList_exp2_train, window_size = P.window_size, step=P.ocsvm_step_width, numSamplePoints=P.num_sample_points_per_exp, \n",
    "                                          scale_exp1=False, scale_exp2=True, scaler=P.scaler)\n",
    "\n",
    "    fitted_scaler_ocsvm_exp2_train_dic = XExpTrainDict[\"fitted_scaler_exp2_dic\"]\n",
    "    X_exp1_train_dic, X_exp2_train_dic = XExpTrainDict[\"Raw_X_exp1_dic\"], XExpTrainDict[\"Raw_X_exp2_dic\"]\n",
    "\n",
    "    # preparing test data\n",
    "    dfList_exp1_test, dfList_exp2_test = [dfList_exp1[i] for i in test_set], [dfList_exp2[i] for i in test_set]\n",
    "    print(f\"len(dfList_exp1_test): {len(dfList_exp1_test)}\")\n",
    "    print(f\"len(dfList_exp2_test): {len(dfList_exp2_test)}\")\n",
    "    XExpTestDict = MakeRawXExpDic(dfList_exp1_test, dfList_exp2_test, window_size = P.window_size, step=P.ocsvm_step_width, numSamplePoints=P.num_sample_points_per_exp, \n",
    "                                          scale_exp1=False, scale_exp2=True, scaler=P.scaler)\n",
    "\n",
    "    fitted_scaler_ocsvm_exp2_test_dic = XExpTestDict[\"fitted_scaler_exp2_dic\"]\n",
    "    X_exp1_test_dic, X_exp2_test_dic = XExpTestDict[\"Raw_X_exp1_dic\"], XExpTestDict[\"Raw_X_exp2_dic\"]\n",
    "    \n",
    "    #----\n",
    "    return X_exp1_train_dic, X_exp2_train_dic, fitted_scaler_ocsvm_exp2_train_dic, X_exp1_test_dic, X_exp2_test_dic, fitted_scaler_ocsvm_exp2_test_dic"
   ]
  },
  {
   "cell_type": "code",
   "execution_count": 266,
   "metadata": {
    "tags": []
   },
   "outputs": [
    {
     "name": "stdout",
     "output_type": "stream",
     "text": [
      "train_set: [0, 12, 14, 9, 18, 23, 2, 15, 10, 4]\n"
     ]
    }
   ],
   "source": [
    "print(f\"train_set: {train_set}\")\n",
    "# print(f\"X_exp1_train_dic: {X_exp1_train_dic.keys()}\")\n",
    "# print(f\"X_exp2_train_dic: {X_exp2_train_dic.keys()}\")"
   ]
  },
  {
   "cell_type": "code",
   "execution_count": 267,
   "metadata": {},
   "outputs": [
    {
     "name": "stdout",
     "output_type": "stream",
     "text": [
      "test_set: [0, 12, 14, 9, 18, 23, 2, 15, 10, 4]\n"
     ]
    }
   ],
   "source": [
    "print(f\"test_set: {test_set}\")\n",
    "# print(f\"X_exp1_test_dic: {X_exp1_test_dic.keys()}\")\n",
    "# print(f\"X_exp2_test_dic: {X_exp2_test_dic.keys()}\")"
   ]
  },
  {
   "cell_type": "code",
   "execution_count": 268,
   "metadata": {
    "tags": []
   },
   "outputs": [],
   "source": [
    "def extract_features(X_exp1_train_dic, X_exp2_train_dic, fitted_scaler_ocsvm_exp2_train_dic, X_exp1_test_dic, X_exp2_test_dic, fitted_scaler_ocsvm_exp2_test_dic):\n",
    "    X_exp_train_dic = MakeWACAXExpDicOwner(X_exp2_train_dic, scaler_clip=True, scaler_type=\"MinMaxScaler\")\n",
    "    X_exp_train_dic = MakeWACAXExpDicUnknown(X_exp1_train_dic, X_exp_train_dic, fitted_raw_scaler_dict=fitted_scaler_ocsvm_exp2_train_dic)\n",
    "    X_exp_test_dic = MakeWACAXExpDicOwner(X_exp2_test_dic, scaler_clip=True, scaler_type=\"MinMaxScaler\")\n",
    "    X_exp_test_dic = MakeWACAXExpDicUnknown(X_exp1_test_dic, X_exp_test_dic, fitted_raw_scaler_dict=fitted_scaler_ocsvm_exp2_test_dic)\n",
    "    \n",
    "    return X_exp_train_dic, X_exp_test_dic"
   ]
  },
  {
   "cell_type": "code",
   "execution_count": 269,
   "metadata": {
    "tags": []
   },
   "outputs": [],
   "source": [
    "# OCSVM_test_train_WACA_features_dic[0].shape"
   ]
  },
  {
   "cell_type": "code",
   "execution_count": 270,
   "metadata": {
    "tags": []
   },
   "outputs": [],
   "source": [
    "# def normalize_extracted_features(OCSVM_train_train_WACA_features_dic, OCSVM_train_valid_WACA_features_dic, OCSVM_test_train_WACA_features_dic, OCSVM_test_test_WACA_features_dic, scaler_clip=True):\n",
    "#     train_train_WACA_features_result = scale_feature_windows(OCSVM_train_train_WACA_features_dic, fitted_scaler_dic=None, scaler_type=\"MinMaxScaler\", scaler_clip=scaler_clip)\n",
    "#     OCSVM_train_train_WACA_features_dic, fitted_scaler_dic = train_train_WACA_features_result[\"X_exp_dic\"], train_train_WACA_features_result[\"fitted_scaler_dic\"]\n",
    "\n",
    "#     train_valid_WACA_features_result = scale_feature_windows(OCSVM_train_valid_WACA_features_dic, fitted_scaler_dic=fitted_scaler_dic)\n",
    "#     OCSVM_train_valid_WACA_features_dic = train_valid_WACA_features_result[\"X_exp_dic\"]\n",
    "\n",
    "#     return OCSVM_train_train_WACA_features_dic, fitted_scaler_dic, OCSVM_train_valid_WACA_features_dic"
   ]
  },
  {
   "cell_type": "code",
   "execution_count": 271,
   "metadata": {
    "tags": []
   },
   "outputs": [],
   "source": [
    "def plot_EER_distro(EER_distro_df, discription, save_file_name=None):\n",
    "    y_col = \"EER\"\n",
    "    figsize=(30, 6)\n",
    "    fontsize=11\n",
    "    n_subject = len(EER_distro_df.columns)\n",
    "    mean_col = EER_distro_df[y_col].mean()\n",
    "\n",
    "    fig = plt.figure(figsize=figsize, dpi=180)\n",
    "    ax = sns.boxplot(x=\"gen_user_id\", y=y_col, data=EER_distro_df)#, **utils_boxplot_style)\n",
    "    ax.set_ylim((0, 1))\n",
    "    sns.swarmplot(x=\"gen_user_id\", y=y_col, data=EER_distro_df, color=\".25\")\n",
    "\n",
    "    plt.plot(\n",
    "        [-0.6, figsize[0] + 0.6],\n",
    "        [mean_col, mean_col],\n",
    "        linestyle=\"dashed\",\n",
    "        linewidth=1,\n",
    "        color=MAGENTA,\n",
    "        alpha=0.7,\n",
    "    )\n",
    "    plt.text(n_subject + 0.6, mean_col, f\"mean\", fontsize=fontsize, color=MAGENTA)\n",
    "    plt.text(\n",
    "        n_subject + 0.6, mean_col - 0.04, f\"{mean_col:.3f}\", fontsize=fontsize, color=MAGENTA\n",
    "    )\n",
    "    plt.xticks(rotation=45)\n",
    "    fig.tight_layout()\n",
    "    plt.title(discription)\n",
    "    \n",
    "    plt.savefig(f'{save_file_name}.png', bbox_inches='tight')\n",
    "    print(f\"Overall mean: {mean_col:.4f}\")"
   ]
  },
  {
   "cell_type": "code",
   "execution_count": 272,
   "metadata": {
    "tags": []
   },
   "outputs": [],
   "source": [
    "def make_EER_distro_df(X_exp_dic):\n",
    "    columns = ['owner', \"adv_user_id\", \"EER\"]\n",
    "    EER_distro_df = pd.DataFrame(columns = columns)\n",
    "    for owner in X_exp_dic.keys():\n",
    "        nbrs = NearestNeighbors(n_neighbors=1, algorithm='ball_tree').fit(X_exp_dic[owner][\"profile_windows\"])\n",
    "        curr_EER_distro_lst = [] \n",
    "        df = pd.DataFrame()\n",
    "\n",
    "        distFRR, FRR_indices = nbrs.kneighbors(X_exp_dic[owner][\"unknown_users_dict\"][owner])\n",
    "        distFRR = distFRR.mean(axis=1).reshape(distFRR.shape[0], 1)\n",
    "        for adv_user_id in X_exp_dic.keys():\n",
    "    #         if adv_user_id != 16 and adv_user_id != gen_user_id and gen_user_id != 16:\n",
    "            if adv_user_id != owner and owner != 16:\n",
    "                distFAR, FAR_indices = nbrs.kneighbors(X_exp_dic[owner][\"unknown_users_dict\"][adv_user_id])\n",
    "                distFAR = distFAR.mean(axis=1).reshape(distFAR.shape[0], 1)\n",
    "                df[adv_user_id] = distFAR.mean(axis=1)\n",
    "\n",
    "\n",
    "                all_dist = np.concatenate([distFAR, distFRR])\n",
    "    #             print(all_dist.shape)\n",
    "                scaler = MinMaxScaler().fit(all_dist)\n",
    "                scaled_distFRR, scaled_distFAR = scaler.transform(distFRR), scaler.transform(distFAR)\n",
    "\n",
    "\n",
    "\n",
    "                y = [1]*distFRR.shape[0] + [-1]*distFAR.shape[0]\n",
    "                y_pred = 1-np.concatenate([scaled_distFRR, scaled_distFAR]).ravel() \n",
    "\n",
    "                temp_eer, tres = utils_eer(y, y_pred, return_threshold=True)\n",
    "                curr_EER_distro_lst.append(temp_eer)\n",
    "                print(f\"EER: {temp_eer:.9f}, owner_id: {owner}, adv_user_id: {adv_user_id}, Threshold: {tres:.9f}\")\n",
    "\n",
    "                new_row = pd.DataFrame([[owner, adv_user_id, temp_eer]], columns=columns)\n",
    "                EER_distro_df = pd.concat([EER_distro_df, new_row])\n",
    "    #     if gen_user_id != 16:\n",
    "    #         print(len(curr_EER_distro_lst))\n",
    "    # #         EER_distro_df[\"Owner\"] = gen_user_id\n",
    "    #         EER_distro_df[gen_user_id] = np.array(curr_EER_distro_lst)\n",
    "\n",
    "#         if owner != 16:\n",
    "#             df.plot(figsize=(30, 6), title=f\"owner_id: {owner}\") # uncomment when more storage\n",
    "    \n",
    "    return EER_distro_df"
   ]
  },
  {
   "cell_type": "code",
   "execution_count": 273,
   "metadata": {
    "tags": []
   },
   "outputs": [
    {
     "name": "stdout",
     "output_type": "stream",
     "text": [
      "1\n"
     ]
    }
   ],
   "source": [
    "print(1)"
   ]
  },
  {
   "cell_type": "code",
   "execution_count": 274,
   "metadata": {
    "tags": []
   },
   "outputs": [],
   "source": [
    "# import sys, os\n",
    "\n",
    "# temp_stdout = sys.stdout\n",
    "\n",
    "# # Disable\n",
    "# def blockPrint():\n",
    "#     global temp_stdout\n",
    "#     temp_stdout = sys.__stdout__\n",
    "#     sys.stdout = open(os.devnull, 'w')\n",
    "\n",
    "# # Restore\n",
    "# def enablePrint():\n",
    "#     global temp_stdout\n",
    "#     sys.stdout = sys.__stdout__\n",
    "\n",
    "# import warnings\n",
    "warnings.filterwarnings(\"ignore\")\n",
    "# enablePrint()"
   ]
  },
  {
   "cell_type": "code",
   "execution_count": 254,
   "metadata": {},
   "outputs": [
    {
     "data": {
      "text/plain": [
       "sklearn.preprocessing._data.RobustScaler"
      ]
     },
     "execution_count": 254,
     "metadata": {},
     "output_type": "execute_result"
    }
   ],
   "source": [
    "type(fitted_scaler_ocsvm_exp2_train_dic[0])"
   ]
  },
  {
   "cell_type": "code",
   "execution_count": 253,
   "metadata": {},
   "outputs": [],
   "source": [
    "# window_size, step_width = 500, 500\n",
    "# X_exp1_train_dic, X_exp2_train_dic, fitted_scaler_ocsvm_exp2_train_dic, X_exp1_test_dic, X_exp2_test_dic, fitted_scaler_ocsvm_exp2_test_dic = \\\n",
    "#     get_raw_windows(window_size, step_width)\n",
    "# X_exp_train_dic, X_exp_test_dic = \\\n",
    "#     extract_features(X_exp1_train_dic, X_exp2_train_dic, fitted_scaler_ocsvm_exp2_train_dic, X_exp1_test_dic, X_exp2_test_dic, fitted_scaler_ocsvm_exp2_test_dic)\n",
    "\n",
    "# EER_distro_df = make_EER_distro_df(OCSVM_train_train_WACA_features_dic, OCSVM_train_valid_WACA_features_dic)\n",
    "# EER_distro_df"
   ]
  },
  {
   "cell_type": "code",
   "execution_count": 100,
   "metadata": {},
   "outputs": [],
   "source": [
    "# plot_EER_distro(Mean_EER_df, 500)"
   ]
  },
  {
   "cell_type": "code",
   "execution_count": 79,
   "metadata": {},
   "outputs": [
    {
     "data": {
      "text/plain": [
       "'\\nEER_distro_df = make_EER_distro_df(X_exp_train_dic)\\nEER_distro_df\\n\\ncolumns = [\\'window_size\\', \"step_width\", \"scaler_clip\", \"Mean_EER\"]\\nMean_EER_df = pd.DataFrame(columns = columns)\\ny_col = \"EER\"\\nmean_col = EER_distro_df[y_col].mean()\\nMean_EER = mean_col\\n\\nnew_row = pd.DataFrame([[window_size, step_width, True, Mean_EER]], columns=columns)\\nMean_EER_df = pd.concat([Mean_EER_df, new_row])\\n'"
      ]
     },
     "execution_count": 79,
     "metadata": {},
     "output_type": "execute_result"
    }
   ],
   "source": [
    "'''\n",
    "EER_distro_df = make_EER_distro_df(X_exp_train_dic)\n",
    "EER_distro_df\n",
    "\n",
    "columns = ['window_size', \"step_width\", \"scaler_clip\", \"Mean_EER\"]\n",
    "Mean_EER_df = pd.DataFrame(columns = columns)\n",
    "y_col = \"EER\"\n",
    "mean_col = EER_distro_df[y_col].mean()\n",
    "Mean_EER = mean_col\n",
    "\n",
    "new_row = pd.DataFrame([[window_size, step_width, True, Mean_EER]], columns=columns)\n",
    "Mean_EER_df = pd.concat([Mean_EER_df, new_row])\n",
    "'''"
   ]
  },
  {
   "cell_type": "code",
   "execution_count": 63,
   "metadata": {},
   "outputs": [
    {
     "data": {
      "text/plain": [
       "array([1., 1., 1., 1., 1., 1., 1., 1., 1., 1., 1., 1., 1., 1., 1., 1., 1.,\n",
       "       1., 1., 1., 1., 1., 1., 1., 1., 1., 1., 1., 1., 1., 1., 1., 1., 1.,\n",
       "       1., 1., 1., 1., 1., 1., 1., 1., 1., 1., 1., 1., 1., 1., 1., 1., 1.,\n",
       "       1., 1., 1., 1., 1., 1., 1., 1., 1., 1., 1., 1., 1., 1., 1., 1., 1.,\n",
       "       1., 1., 1., 1., 1., 1., 1., 1., 1., 1.])"
      ]
     },
     "execution_count": 63,
     "metadata": {},
     "output_type": "execute_result"
    }
   ],
   "source": [
    "#X_exp_train_dic[0][\"profile_windows\"].max(axis=0)"
   ]
  },
  {
   "cell_type": "code",
   "execution_count": 275,
   "metadata": {
    "tags": []
   },
   "outputs": [
    {
     "name": "stderr",
     "output_type": "stream",
     "text": [
      "  0%|          | 0/1 [00:00<?, ?it/s]"
     ]
    },
    {
     "name": "stdout",
     "output_type": "stream",
     "text": [
      "125\n",
      "len(dfList_exp1_train): 10\n",
      "len(dfList_exp2_train): 10\n",
      "user_idx: 0, exp_num: 2, scale: True, scaler: RobustScaler\n",
      "(26943, 6)\n",
      "user_idx: 1, exp_num: 2, scale: True, scaler: RobustScaler\n",
      "(25829, 6)\n",
      "user_idx: 2, exp_num: 2, scale: True, scaler: RobustScaler\n",
      "(24314, 6)\n",
      "user_idx: 3, exp_num: 2, scale: True, scaler: RobustScaler\n",
      "(24444, 6)\n",
      "user_idx: 4, exp_num: 2, scale: True, scaler: RobustScaler\n",
      "(21182, 6)\n",
      "user_idx: 5, exp_num: 2, scale: True, scaler: RobustScaler\n",
      "(23982, 6)\n",
      "user_idx: 6, exp_num: 2, scale: True, scaler: RobustScaler\n",
      "(27000, 6)\n",
      "user_idx: 7, exp_num: 2, scale: True, scaler: RobustScaler\n",
      "(23854, 6)\n",
      "user_idx: 8, exp_num: 2, scale: True, scaler: RobustScaler\n",
      "(24589, 6)\n",
      "user_idx: 9, exp_num: 2, scale: True, scaler: RobustScaler\n",
      "(23573, 6)\n",
      "len(dfList_exp1_test): 10\n",
      "len(dfList_exp2_test): 10\n",
      "user_idx: 0, exp_num: 2, scale: True, scaler: RobustScaler\n",
      "(26943, 6)\n",
      "user_idx: 1, exp_num: 2, scale: True, scaler: RobustScaler\n",
      "(25829, 6)\n",
      "user_idx: 2, exp_num: 2, scale: True, scaler: RobustScaler\n",
      "(24314, 6)\n",
      "user_idx: 3, exp_num: 2, scale: True, scaler: RobustScaler\n",
      "(24444, 6)\n",
      "user_idx: 4, exp_num: 2, scale: True, scaler: RobustScaler\n",
      "(21182, 6)\n",
      "user_idx: 5, exp_num: 2, scale: True, scaler: RobustScaler\n",
      "(23982, 6)\n",
      "user_idx: 6, exp_num: 2, scale: True, scaler: RobustScaler\n",
      "(27000, 6)\n",
      "user_idx: 7, exp_num: 2, scale: True, scaler: RobustScaler\n",
      "(23854, 6)\n",
      "user_idx: 8, exp_num: 2, scale: True, scaler: RobustScaler\n",
      "(24589, 6)\n",
      "user_idx: 9, exp_num: 2, scale: True, scaler: RobustScaler\n",
      "(23573, 6)\n",
      "raw exp2 samples of owner: 0 are scaled already so we extracte WACA features\n",
      "fit_transform waca features using scaler of type: MinMaxScaler, for profile_windows of owner: 0\n",
      "owner: 0, exp_num: 2, scaler: MinMaxScaler, scaler_clip: True\n",
      "raw exp2 samples of owner: 1 are scaled already so we extracte WACA features\n",
      "fit_transform waca features using scaler of type: MinMaxScaler, for profile_windows of owner: 1\n",
      "owner: 1, exp_num: 2, scaler: MinMaxScaler, scaler_clip: True\n",
      "raw exp2 samples of owner: 2 are scaled already so we extracte WACA features\n",
      "fit_transform waca features using scaler of type: MinMaxScaler, for profile_windows of owner: 2\n",
      "owner: 2, exp_num: 2, scaler: MinMaxScaler, scaler_clip: True\n",
      "raw exp2 samples of owner: 3 are scaled already so we extracte WACA features\n",
      "fit_transform waca features using scaler of type: MinMaxScaler, for profile_windows of owner: 3\n",
      "owner: 3, exp_num: 2, scaler: MinMaxScaler, scaler_clip: True\n",
      "raw exp2 samples of owner: 4 are scaled already so we extracte WACA features\n",
      "fit_transform waca features using scaler of type: MinMaxScaler, for profile_windows of owner: 4\n",
      "owner: 4, exp_num: 2, scaler: MinMaxScaler, scaler_clip: True\n",
      "raw exp2 samples of owner: 5 are scaled already so we extracte WACA features\n",
      "fit_transform waca features using scaler of type: MinMaxScaler, for profile_windows of owner: 5\n",
      "owner: 5, exp_num: 2, scaler: MinMaxScaler, scaler_clip: True\n",
      "raw exp2 samples of owner: 6 are scaled already so we extracte WACA features\n",
      "fit_transform waca features using scaler of type: MinMaxScaler, for profile_windows of owner: 6\n",
      "owner: 6, exp_num: 2, scaler: MinMaxScaler, scaler_clip: True\n",
      "raw exp2 samples of owner: 7 are scaled already so we extracte WACA features\n",
      "fit_transform waca features using scaler of type: MinMaxScaler, for profile_windows of owner: 7\n",
      "owner: 7, exp_num: 2, scaler: MinMaxScaler, scaler_clip: True\n",
      "raw exp2 samples of owner: 8 are scaled already so we extracte WACA features\n",
      "fit_transform waca features using scaler of type: MinMaxScaler, for profile_windows of owner: 8\n",
      "owner: 8, exp_num: 2, scaler: MinMaxScaler, scaler_clip: True\n",
      "raw exp2 samples of owner: 9 are scaled already so we extracte WACA features\n",
      "fit_transform waca features using scaler of type: MinMaxScaler, for profile_windows of owner: 9\n",
      "owner: 9, exp_num: 2, scaler: MinMaxScaler, scaler_clip: True\n",
      "scaling exp1 unknown windows for when user: 0, is owner\n",
      "scaling exp1 unknown windows for when user: 1, is owner\n",
      "scaling exp1 unknown windows for when user: 2, is owner\n",
      "scaling exp1 unknown windows for when user: 3, is owner\n",
      "scaling exp1 unknown windows for when user: 4, is owner\n",
      "scaling exp1 unknown windows for when user: 5, is owner\n",
      "scaling exp1 unknown windows for when user: 6, is owner\n",
      "scaling exp1 unknown windows for when user: 7, is owner\n",
      "scaling exp1 unknown windows for when user: 8, is owner\n",
      "scaling exp1 unknown windows for when user: 9, is owner\n",
      "raw exp2 samples of owner: 0 are scaled already so we extracte WACA features\n",
      "fit_transform waca features using scaler of type: MinMaxScaler, for profile_windows of owner: 0\n",
      "owner: 0, exp_num: 2, scaler: MinMaxScaler, scaler_clip: True\n",
      "raw exp2 samples of owner: 1 are scaled already so we extracte WACA features\n",
      "fit_transform waca features using scaler of type: MinMaxScaler, for profile_windows of owner: 1\n",
      "owner: 1, exp_num: 2, scaler: MinMaxScaler, scaler_clip: True\n",
      "raw exp2 samples of owner: 2 are scaled already so we extracte WACA features\n",
      "fit_transform waca features using scaler of type: MinMaxScaler, for profile_windows of owner: 2\n",
      "owner: 2, exp_num: 2, scaler: MinMaxScaler, scaler_clip: True\n",
      "raw exp2 samples of owner: 3 are scaled already so we extracte WACA features\n",
      "fit_transform waca features using scaler of type: MinMaxScaler, for profile_windows of owner: 3\n",
      "owner: 3, exp_num: 2, scaler: MinMaxScaler, scaler_clip: True\n",
      "raw exp2 samples of owner: 4 are scaled already so we extracte WACA features\n",
      "fit_transform waca features using scaler of type: MinMaxScaler, for profile_windows of owner: 4\n",
      "owner: 4, exp_num: 2, scaler: MinMaxScaler, scaler_clip: True\n",
      "raw exp2 samples of owner: 5 are scaled already so we extracte WACA features\n",
      "fit_transform waca features using scaler of type: MinMaxScaler, for profile_windows of owner: 5\n",
      "owner: 5, exp_num: 2, scaler: MinMaxScaler, scaler_clip: True\n",
      "raw exp2 samples of owner: 6 are scaled already so we extracte WACA features\n",
      "fit_transform waca features using scaler of type: MinMaxScaler, for profile_windows of owner: 6\n",
      "owner: 6, exp_num: 2, scaler: MinMaxScaler, scaler_clip: True\n",
      "raw exp2 samples of owner: 7 are scaled already so we extracte WACA features\n",
      "fit_transform waca features using scaler of type: MinMaxScaler, for profile_windows of owner: 7\n",
      "owner: 7, exp_num: 2, scaler: MinMaxScaler, scaler_clip: True\n",
      "raw exp2 samples of owner: 8 are scaled already so we extracte WACA features\n",
      "fit_transform waca features using scaler of type: MinMaxScaler, for profile_windows of owner: 8\n",
      "owner: 8, exp_num: 2, scaler: MinMaxScaler, scaler_clip: True\n",
      "raw exp2 samples of owner: 9 are scaled already so we extracte WACA features\n",
      "fit_transform waca features using scaler of type: MinMaxScaler, for profile_windows of owner: 9\n",
      "owner: 9, exp_num: 2, scaler: MinMaxScaler, scaler_clip: True\n",
      "scaling exp1 unknown windows for when user: 0, is owner\n",
      "scaling exp1 unknown windows for when user: 1, is owner\n",
      "scaling exp1 unknown windows for when user: 2, is owner\n",
      "scaling exp1 unknown windows for when user: 3, is owner\n",
      "scaling exp1 unknown windows for when user: 4, is owner\n",
      "scaling exp1 unknown windows for when user: 5, is owner\n",
      "scaling exp1 unknown windows for when user: 6, is owner\n",
      "scaling exp1 unknown windows for when user: 7, is owner\n",
      "scaling exp1 unknown windows for when user: 8, is owner\n",
      "scaling exp1 unknown windows for when user: 9, is owner\n",
      "EER: 0.192857143, owner_id: 0, adv_user_id: 1, Threshold: 0.617727637\n",
      "EER: 0.273809524, owner_id: 0, adv_user_id: 2, Threshold: 0.712042907\n",
      "EER: 0.178571429, owner_id: 0, adv_user_id: 3, Threshold: 0.770886922\n",
      "EER: 0.119047619, owner_id: 0, adv_user_id: 4, Threshold: 0.653006171\n",
      "EER: 0.154761905, owner_id: 0, adv_user_id: 5, Threshold: 0.618900859\n",
      "EER: 0.501700680, owner_id: 0, adv_user_id: 6, Threshold: 0.765379485\n",
      "EER: 0.214285714, owner_id: 0, adv_user_id: 7, Threshold: 0.774610735\n",
      "EER: 0.261904762, owner_id: 0, adv_user_id: 8, Threshold: 0.811226321\n",
      "EER: 0.261904762, owner_id: 0, adv_user_id: 9, Threshold: 0.681996816\n",
      "EER: 0.360119048, owner_id: 1, adv_user_id: 0, Threshold: 0.598295458\n",
      "EER: 0.261904762, owner_id: 1, adv_user_id: 2, Threshold: 0.609056679\n",
      "EER: 0.130952381, owner_id: 1, adv_user_id: 3, Threshold: 0.766655449\n",
      "EER: 0.226190476, owner_id: 1, adv_user_id: 4, Threshold: 0.770043499\n",
      "EER: 0.630952381, owner_id: 1, adv_user_id: 5, Threshold: 0.646190709\n",
      "EER: 0.464285714, owner_id: 1, adv_user_id: 6, Threshold: 0.657475045\n",
      "EER: 0.577380952, owner_id: 1, adv_user_id: 7, Threshold: 0.872114153\n",
      "EER: 0.226190476, owner_id: 1, adv_user_id: 8, Threshold: 0.856527004\n",
      "EER: 0.503968254, owner_id: 1, adv_user_id: 9, Threshold: 0.768322575\n",
      "EER: 0.195238095, owner_id: 2, adv_user_id: 0, Threshold: 0.522629085\n",
      "EER: 0.178571429, owner_id: 2, adv_user_id: 1, Threshold: 0.553509042\n",
      "EER: 0.166666667, owner_id: 2, adv_user_id: 3, Threshold: 0.638295230\n",
      "EER: 0.113095238, owner_id: 2, adv_user_id: 4, Threshold: 0.434048826\n",
      "EER: 0.342857143, owner_id: 2, adv_user_id: 5, Threshold: 0.564536748\n",
      "EER: 0.288690476, owner_id: 2, adv_user_id: 6, Threshold: 0.640365780\n",
      "EER: 0.285714286, owner_id: 2, adv_user_id: 7, Threshold: 0.618242259\n",
      "EER: 0.333333333, owner_id: 2, adv_user_id: 8, Threshold: 0.700545256\n",
      "EER: 0.208333333, owner_id: 2, adv_user_id: 9, Threshold: 0.555369421\n",
      "EER: 0.630952381, owner_id: 3, adv_user_id: 0, Threshold: 0.790082233\n",
      "EER: 0.592261905, owner_id: 3, adv_user_id: 1, Threshold: 0.785058947\n",
      "EER: 0.678571429, owner_id: 3, adv_user_id: 2, Threshold: 0.816974851\n",
      "EER: 0.535714286, owner_id: 3, adv_user_id: 4, Threshold: 0.766960392\n",
      "EER: 0.547619048, owner_id: 3, adv_user_id: 5, Threshold: 0.770749549\n",
      "EER: 0.657738095, owner_id: 3, adv_user_id: 6, Threshold: 0.800250205\n",
      "EER: 0.616666667, owner_id: 3, adv_user_id: 7, Threshold: 0.803311635\n",
      "EER: 0.642857143, owner_id: 3, adv_user_id: 8, Threshold: 0.830372376\n",
      "EER: 0.583333333, owner_id: 3, adv_user_id: 9, Threshold: 0.784209432\n",
      "EER: 0.250000000, owner_id: 4, adv_user_id: 0, Threshold: 0.512468797\n",
      "EER: 0.392857143, owner_id: 4, adv_user_id: 1, Threshold: 0.686295194\n",
      "EER: 0.373809524, owner_id: 4, adv_user_id: 2, Threshold: 0.663197984\n",
      "EER: 0.190476190, owner_id: 4, adv_user_id: 3, Threshold: 0.659014154\n",
      "EER: 0.404761905, owner_id: 4, adv_user_id: 5, Threshold: 0.617684241\n",
      "EER: 0.327380952, owner_id: 4, adv_user_id: 6, Threshold: 0.700883639\n",
      "EER: 0.488095238, owner_id: 4, adv_user_id: 7, Threshold: 0.765346414\n",
      "EER: 0.335034014, owner_id: 4, adv_user_id: 8, Threshold: 0.768286981\n",
      "EER: 0.428571429, owner_id: 4, adv_user_id: 9, Threshold: 0.742577601\n",
      "EER: 0.166666667, owner_id: 5, adv_user_id: 0, Threshold: 0.515611983\n",
      "EER: 0.345238095, owner_id: 5, adv_user_id: 1, Threshold: 0.670692489\n",
      "EER: 0.345238095, owner_id: 5, adv_user_id: 2, Threshold: 0.665211587\n",
      "EER: 0.130952381, owner_id: 5, adv_user_id: 3, Threshold: 0.672948531\n",
      "EER: 0.059523810, owner_id: 5, adv_user_id: 4, Threshold: 0.563008907\n"
     ]
    },
    {
     "name": "stderr",
     "output_type": "stream",
     "text": [
      "100%|██████████| 1/1 [02:28<00:00, 148.17s/it]"
     ]
    },
    {
     "name": "stdout",
     "output_type": "stream",
     "text": [
      "EER: 0.261904762, owner_id: 5, adv_user_id: 6, Threshold: 0.600231691\n",
      "EER: 0.452380952, owner_id: 5, adv_user_id: 7, Threshold: 0.756121393\n",
      "EER: 0.238095238, owner_id: 5, adv_user_id: 8, Threshold: 0.738954387\n",
      "EER: 0.333333333, owner_id: 5, adv_user_id: 9, Threshold: 0.633324931\n",
      "EER: 0.250000000, owner_id: 6, adv_user_id: 0, Threshold: 0.511390943\n",
      "EER: 0.190476190, owner_id: 6, adv_user_id: 1, Threshold: 0.464234748\n",
      "EER: 0.226190476, owner_id: 6, adv_user_id: 2, Threshold: 0.500729923\n",
      "EER: 0.180555556, owner_id: 6, adv_user_id: 3, Threshold: 0.556330408\n",
      "EER: 0.071428571, owner_id: 6, adv_user_id: 4, Threshold: 0.379263078\n",
      "EER: 0.214285714, owner_id: 6, adv_user_id: 5, Threshold: 0.485005770\n",
      "EER: 0.285714286, owner_id: 6, adv_user_id: 7, Threshold: 0.659409081\n",
      "EER: 0.290476190, owner_id: 6, adv_user_id: 8, Threshold: 0.649495719\n",
      "EER: 0.250000000, owner_id: 6, adv_user_id: 9, Threshold: 0.576708882\n",
      "EER: 0.192857143, owner_id: 7, adv_user_id: 0, Threshold: 0.634331878\n",
      "EER: 0.282738095, owner_id: 7, adv_user_id: 1, Threshold: 0.684895181\n",
      "EER: 0.226190476, owner_id: 7, adv_user_id: 2, Threshold: 0.652693177\n",
      "EER: 0.154761905, owner_id: 7, adv_user_id: 3, Threshold: 0.668337352\n",
      "EER: 0.087301587, owner_id: 7, adv_user_id: 4, Threshold: 0.533095338\n",
      "EER: 0.309523810, owner_id: 7, adv_user_id: 5, Threshold: 0.690734554\n",
      "EER: 0.321428571, owner_id: 7, adv_user_id: 6, Threshold: 0.698365757\n",
      "EER: 0.261904762, owner_id: 7, adv_user_id: 8, Threshold: 0.782822337\n",
      "EER: 0.351190476, owner_id: 7, adv_user_id: 9, Threshold: 0.723809218\n",
      "EER: 0.285714286, owner_id: 8, adv_user_id: 0, Threshold: 0.795865118\n",
      "EER: 0.202380952, owner_id: 8, adv_user_id: 1, Threshold: 0.757538023\n",
      "EER: 0.345238095, owner_id: 8, adv_user_id: 2, Threshold: 0.810384665\n",
      "EER: 0.238095238, owner_id: 8, adv_user_id: 3, Threshold: 0.779805761\n",
      "EER: 0.210317460, owner_id: 8, adv_user_id: 4, Threshold: 0.754402268\n",
      "EER: 0.211904762, owner_id: 8, adv_user_id: 5, Threshold: 0.762685307\n",
      "EER: 0.361111111, owner_id: 8, adv_user_id: 6, Threshold: 0.811743278\n",
      "EER: 0.238095238, owner_id: 8, adv_user_id: 7, Threshold: 0.772366946\n",
      "EER: 0.255952381, owner_id: 8, adv_user_id: 9, Threshold: 0.782158966\n",
      "EER: 0.303571429, owner_id: 9, adv_user_id: 0, Threshold: 0.603895161\n",
      "EER: 0.380952381, owner_id: 9, adv_user_id: 1, Threshold: 0.621669413\n",
      "EER: 0.276190476, owner_id: 9, adv_user_id: 2, Threshold: 0.591219119\n",
      "EER: 0.190476190, owner_id: 9, adv_user_id: 3, Threshold: 0.570220213\n",
      "EER: 0.130952381, owner_id: 9, adv_user_id: 4, Threshold: 0.448551096\n",
      "EER: 0.325396825, owner_id: 9, adv_user_id: 5, Threshold: 0.616791352\n",
      "EER: 0.357142857, owner_id: 9, adv_user_id: 6, Threshold: 0.624756932\n",
      "EER: 0.577380952, owner_id: 9, adv_user_id: 7, Threshold: 0.657848321\n",
      "EER: 0.321428571, owner_id: 9, adv_user_id: 8, Threshold: 0.710003984\n"
     ]
    },
    {
     "name": "stderr",
     "output_type": "stream",
     "text": [
      "\n"
     ]
    }
   ],
   "source": [
    "EER_distro_df_dict = {}\n",
    "window_size_lst = [125]#, 250, 500, 750, 1000, 1250, 1500, 1750, 2000]\n",
    "scaler_clip = True\n",
    "columns = ['window_size', \"step_width\", \"scaler_clip\", \"Mean_EER\"]\n",
    "Mean_EER_df = pd.DataFrame(columns = columns)\n",
    "for window_size in tqdm(window_size_lst):\n",
    "    print(window_size)\n",
    "    # blockPrint()\n",
    "    step_width = 250\n",
    "    X_exp1_train_dic, X_exp2_train_dic, fitted_scaler_ocsvm_exp2_train_dic, X_exp1_test_dic, X_exp2_test_dic, fitted_scaler_ocsvm_exp2_test_dic = \\\n",
    "        get_raw_windows(window_size, step_width)\n",
    "    X_exp_train_dic, X_exp_test_dic = \\\n",
    "        extract_features(X_exp1_train_dic, X_exp2_train_dic, fitted_scaler_ocsvm_exp2_train_dic, X_exp1_test_dic, X_exp2_test_dic, fitted_scaler_ocsvm_exp2_test_dic)\n",
    " \n",
    "    EER_distro_df = make_EER_distro_df(X_exp_train_dic)\n",
    "    EER_distro_df_dict[f\"window_size: {window_size}, step_width: {step_width}, scaler_clip: {scaler_clip}\"] = EER_distro_df\n",
    "    \n",
    "    y_col = \"EER\"\n",
    "    mean_col = EER_distro_df[y_col].mean()\n",
    "    Mean_EER = mean_col\n",
    "    \n",
    "    new_row = pd.DataFrame([[window_size, step_width, scaler_clip, Mean_EER]], columns=columns)\n",
    "    Mean_EER_df = pd.concat([Mean_EER_df, new_row])\n",
    "    # enablePrint()\n"
   ]
  },
  {
   "cell_type": "code",
   "execution_count": 276,
   "metadata": {},
   "outputs": [],
   "source": [
    "import seaborn as sns; sns.set()\n",
    "\n",
    "def plot_EER_vs_Windows_Size_graph_per_user():\n",
    "    y_col = \"EER\"\n",
    "    figsize=(30, 6)\n",
    "    fontsize=11\n",
    "    n_subject = len(EER_distro_df.columns)\n",
    "    mean_col = EER_distro_df[y_col].mean()\n",
    "\n",
    "    fig = plt.figure(figsize=figsize, dpi=180)\n",
    "    ax = sns.boxplot(x=\"gen_user_id\", y=y_col, data=EER_distro_df)#, **utils_boxplot_style)\n",
    "    ax.set_ylim((0, 1))\n",
    "    sns.swarmplot(x=\"gen_user_id\", y=y_col, data=EER_distro_df, color=\".25\")\n",
    "\n",
    "    plt.plot(\n",
    "        [-0.6, figsize[0] + 0.6],\n",
    "        [mean_col, mean_col],\n",
    "        linestyle=\"dashed\",\n",
    "        linewidth=1,\n",
    "        color=MAGENTA,\n",
    "        alpha=0.7,\n",
    "    )\n",
    "    plt.text(n_subject + 0.6, mean_col, f\"mean\", fontsize=fontsize, color=MAGENTA)\n",
    "    plt.text(\n",
    "        n_subject + 0.6, mean_col - 0.04, f\"{mean_col:.3f}\", fontsize=fontsize, color=MAGENTA\n",
    "    )\n",
    "    plt.xticks(rotation=45)\n",
    "    fig.tight_layout()\n",
    "    plt.title(discription)\n",
    "    \n",
    "#     plt.savefig(f'{save_file_name}.png', bbox_inches='tight')\n",
    "    \n",
    "    fmri = sns.load_dataset(\"fmri\")\n",
    "    fmri_stats = fmri.groupby(['timepoint']).describe()\n",
    "\n",
    "    x = fmri_stats.index\n",
    "    medians = fmri_stats[('signal', '50%')]\n",
    "    medians.name = 'signal'\n",
    "    quartiles1 = fmri_stats[('signal', '25%')]\n",
    "    quartiles3 = fmri_stats[('signal', '75%')]\n",
    "\n",
    "    ax = sns.lineplot(x, medians) \n",
    "    ax.fill_between(x, quartiles1, quartiles3, alpha=0.3); "
   ]
  },
  {
   "cell_type": "code",
   "execution_count": 224,
   "metadata": {},
   "outputs": [],
   "source": [
    "eer_vs_window_size_per_user_dict = {}\n",
    "for owner in X_exp_train_dic.keys():\n",
    "    eer_vs_window_size_per_user_dict[owner] = {}\n",
    "    \n",
    "for k in EER_distro_df_dict.keys():\n",
    "    \n",
    "    eer_vs_window_df = EER_distro_df_dict[k].groupby(\"gen_user_id\").describe()\n",
    "    for owner in X_exp_train_dic.keys():\n",
    "        eer_vs_window_size_per_user_dict[owner][k.split()[1].strip(',')] = eer_vs_window_df.iloc[owner]"
   ]
  },
  {
   "cell_type": "code",
   "execution_count": null,
   "metadata": {},
   "outputs": [],
   "source": [
    "# fmri = sns.load_dataset(\"fmri\")\n",
    "# fmri_stats = fmri.groupby(['timepoint']).describe()\n",
    "\n",
    "x = list(eer_vs_window_size_per_user_dict[owner].keys())\n",
    "medians = fmri_stats[('signal', '50%')]\n",
    "medians.name = 'signal'\n",
    "quartiles1 = fmri_stats[('signal', '25%')]\n",
    "quartiles3 = fmri_stats[('signal', '75%')]\n",
    "\n",
    "ax = sns.lineplot(x, medians) \n",
    "ax.fill_between(x, quartiles1, quartiles3, alpha=0.3); "
   ]
  },
  {
   "cell_type": "code",
   "execution_count": 242,
   "metadata": {},
   "outputs": [],
   "source": [
    "eer_vs_window_size_per_user_dict[0].keys()\n",
    "eer_vs_window_size_per_user_dict[0][\"125\"]\n",
    "mean_owner_dic = {}\n",
    "for owner in eer_vs_window_size_per_user_dict:\n",
    "    mean_owner_dic[owner] = {}\n",
    "    mean_owner_dic[owner][\"mean\"] = {}\n",
    "    for window_size in eer_vs_window_size_per_user_dict[owner]:\n",
    "        mean_owner_dic[owner][\"mean\"][window_size] = (eer_vs_window_size_per_user_dict[owner][window_size].EER.loc['mean'])\n",
    "\n",
    "\n",
    "# def extract_stats_eer_vs_window_size_per_user_dict(eer_vs_window_size_per_user_dict:\n",
    "#     eer_vs_window_size_per_user_dict[0].keys()"
   ]
  },
  {
   "cell_type": "code",
   "execution_count": 249,
   "metadata": {},
   "outputs": [
    {
     "data": {
      "image/png": "[encoded data removed]",
      "text/plain": [
       "<Figure size 5400x1080 with 1 Axes>"
      ]
     },
     "metadata": {
      "needs_background": "light"
     },
     "output_type": "display_data"
    }
   ],
   "source": [
    "figsize=(30, 6)\n",
    "fontsize=11\n",
    "fig = plt.figure(figsize=figsize, dpi=180)\n",
    "for owner in mean_owner_dic:\n",
    "    ax = sns.lineplot(list(mean_owner_dic[owner]['mean'].keys()), list(mean_owner_dic[owner]['mean'].values()), label=owner, linestyle=\"-\")\n"
   ]
  },
  {
   "cell_type": "code",
   "execution_count": 245,
   "metadata": {},
   "outputs": [
    {
     "data": {
      "text/plain": [
       "dict_values([0.23987150415729216, 0.18945263290489744, 0.09616242748783113, 0.0723471650302376, 0.07133058984898379, 0.054166666666610325, 0.05414908579476643, 0.04985754985756782, 0.046031746031718924])"
      ]
     },
     "execution_count": 245,
     "metadata": {},
     "output_type": "execute_result"
    }
   ],
   "source": [
    "mean_owner_dic[0]['mean'].values()"
   ]
  },
  {
   "cell_type": "code",
   "execution_count": 238,
   "metadata": {},
   "outputs": [
    {
     "data": {
      "text/plain": [
       "{'125': EER  count    9.000000\n",
       "      mean     0.239872\n",
       "      std      0.111323\n",
       "      min      0.119048\n",
       "      25%      0.178571\n",
       "      50%      0.214286\n",
       "      75%      0.261905\n",
       "      max      0.501701\n",
       " Name: 0, dtype: float64,\n",
       " '250': EER  count    9.000000\n",
       "      mean     0.189453\n",
       "      std      0.084078\n",
       "      min      0.071429\n",
       "      25%      0.150794\n",
       "      50%      0.202381\n",
       "      75%      0.229167\n",
       "      max      0.346939\n",
       " Name: 0, dtype: float64,\n",
       " '500': EER  count    9.000000\n",
       "      mean     0.096162\n",
       "      std      0.072292\n",
       "      min      0.024096\n",
       "      25%      0.048193\n",
       "      50%      0.060241\n",
       "      75%      0.150602\n",
       "      max      0.228916\n",
       " Name: 0, dtype: float64,\n",
       " '750': EER  count    9.000000\n",
       "      mean     0.072347\n",
       "      std      0.067457\n",
       "      min      0.000000\n",
       "      25%      0.024390\n",
       "      50%      0.048780\n",
       "      75%      0.117073\n",
       "      max      0.187361\n",
       " Name: 0, dtype: float64,\n",
       " '1000': EER  count    9.000000\n",
       "      mean     0.071331\n",
       "      std      0.063786\n",
       "      min      0.000000\n",
       "      25%      0.012346\n",
       "      50%      0.061728\n",
       "      75%      0.111111\n",
       "      max      0.172840\n",
       " Name: 0, dtype: float64,\n",
       " '1250': EER  count    9.000000\n",
       "      mean     0.054167\n",
       "      std      0.074477\n",
       "      min      0.000000\n",
       "      25%      0.000000\n",
       "      50%      0.025000\n",
       "      75%      0.050000\n",
       "      max      0.200000\n",
       " Name: 0, dtype: float64,\n",
       " '1500': EER  count    9.000000\n",
       "      mean     0.054149\n",
       "      std      0.080127\n",
       "      min      0.000000\n",
       "      25%      0.000000\n",
       "      50%      0.025316\n",
       "      75%      0.063291\n",
       "      max      0.240506\n",
       " Name: 0, dtype: float64,\n",
       " '1750': EER  count    9.000000\n",
       "      mean     0.049858\n",
       "      std      0.076775\n",
       "      min      0.000000\n",
       "      25%      0.000000\n",
       "      50%      0.000000\n",
       "      75%      0.064103\n",
       "      max      0.192308\n",
       " Name: 0, dtype: float64,\n",
       " '2000': EER  count    9.000000\n",
       "      mean     0.046032\n",
       "      std      0.066529\n",
       "      min      0.000000\n",
       "      25%      0.000000\n",
       "      50%      0.012987\n",
       "      75%      0.063636\n",
       "      max      0.194805\n",
       " Name: 0, dtype: float64}"
      ]
     },
     "execution_count": 238,
     "metadata": {},
     "output_type": "execute_result"
    }
   ],
   "source": [
    "eer_vs_window_size_per_user_dict[0]"
   ]
  },
  {
   "cell_type": "code",
   "execution_count": 214,
   "metadata": {},
   "outputs": [],
   "source": [
    "# eer_vs_window_df=EER_distro_df_dict[k].groupby(\"gen_user_id\").describe()\n",
    "# eer_vs_window_df[\"x\"] = k\n",
    "# for k in list(EER_distro_df_dict.keys())[1:]:\n",
    "#     new_row = EER_distro_df_dict[k].groupby(\"gen_user_id\").describe()\n",
    "#     new_row[\"x\"] = k\n",
    "#     eer_vs_window_df = pd.concat([eer_vs_window_df, new_row])\n"
   ]
  },
  {
   "cell_type": "code",
   "execution_count": 250,
   "metadata": {},
   "outputs": [
    {
     "data": {
      "text/plain": [
       "1"
      ]
     },
     "execution_count": 250,
     "metadata": {},
     "output_type": "execute_result"
    }
   ],
   "source": [
    "1"
   ]
  },
  {
   "cell_type": "code",
   "execution_count": 180,
   "metadata": {},
   "outputs": [
    {
     "data": {
      "text/plain": [
       "[0, 1, 2, 3, 4, 5, 6, 7, 8, 9]"
      ]
     },
     "execution_count": 180,
     "metadata": {},
     "output_type": "execute_result"
    }
   ],
   "source": []
  },
  {
   "cell_type": "code",
   "execution_count": 163,
   "metadata": {},
   "outputs": [
    {
     "data": {
      "text/plain": [
       "0.23987150415729216"
      ]
     },
     "execution_count": 163,
     "metadata": {},
     "output_type": "execute_result"
    }
   ],
   "source": [
    "temp_df_result = EER_distro_df_dict[\"window_size: 125, step_width: 250, scaler_clip: True\"]\n",
    "temp_df_result[temp_df_result.gen_user_id==0][\"EER\"].mean()"
   ]
  },
  {
   "cell_type": "code",
   "execution_count": 154,
   "metadata": {},
   "outputs": [
    {
     "data": {
      "text/html": [
       "<div>\n",
       "<style scoped>\n",
       "    .dataframe tbody tr th:only-of-type {\n",
       "        vertical-align: middle;\n",
       "    }\n",
       "\n",
       "    .dataframe tbody tr th {\n",
       "        vertical-align: top;\n",
       "    }\n",
       "\n",
       "    .dataframe thead th {\n",
       "        text-align: right;\n",
       "    }\n",
       "</style>\n",
       "<table border=\"1\" class=\"dataframe\">\n",
       "  <thead>\n",
       "    <tr style=\"text-align: right;\">\n",
       "      <th></th>\n",
       "      <th>gen_user_id</th>\n",
       "      <th>adv_user_id</th>\n",
       "      <th>EER</th>\n",
       "    </tr>\n",
       "  </thead>\n",
       "  <tbody>\n",
       "    <tr>\n",
       "      <th>0</th>\n",
       "      <td>0</td>\n",
       "      <td>1</td>\n",
       "      <td>0.192857</td>\n",
       "    </tr>\n",
       "    <tr>\n",
       "      <th>0</th>\n",
       "      <td>0</td>\n",
       "      <td>2</td>\n",
       "      <td>0.273810</td>\n",
       "    </tr>\n",
       "    <tr>\n",
       "      <th>0</th>\n",
       "      <td>0</td>\n",
       "      <td>3</td>\n",
       "      <td>0.178571</td>\n",
       "    </tr>\n",
       "    <tr>\n",
       "      <th>0</th>\n",
       "      <td>0</td>\n",
       "      <td>4</td>\n",
       "      <td>0.119048</td>\n",
       "    </tr>\n",
       "    <tr>\n",
       "      <th>0</th>\n",
       "      <td>0</td>\n",
       "      <td>5</td>\n",
       "      <td>0.154762</td>\n",
       "    </tr>\n",
       "    <tr>\n",
       "      <th>0</th>\n",
       "      <td>0</td>\n",
       "      <td>6</td>\n",
       "      <td>0.501701</td>\n",
       "    </tr>\n",
       "    <tr>\n",
       "      <th>0</th>\n",
       "      <td>0</td>\n",
       "      <td>7</td>\n",
       "      <td>0.214286</td>\n",
       "    </tr>\n",
       "    <tr>\n",
       "      <th>0</th>\n",
       "      <td>0</td>\n",
       "      <td>8</td>\n",
       "      <td>0.261905</td>\n",
       "    </tr>\n",
       "    <tr>\n",
       "      <th>0</th>\n",
       "      <td>0</td>\n",
       "      <td>9</td>\n",
       "      <td>0.261905</td>\n",
       "    </tr>\n",
       "    <tr>\n",
       "      <th>0</th>\n",
       "      <td>1</td>\n",
       "      <td>0</td>\n",
       "      <td>0.360119</td>\n",
       "    </tr>\n",
       "  </tbody>\n",
       "</table>\n",
       "</div>"
      ],
      "text/plain": [
       "  gen_user_id adv_user_id       EER\n",
       "0           0           1  0.192857\n",
       "0           0           2  0.273810\n",
       "0           0           3  0.178571\n",
       "0           0           4  0.119048\n",
       "0           0           5  0.154762\n",
       "0           0           6  0.501701\n",
       "0           0           7  0.214286\n",
       "0           0           8  0.261905\n",
       "0           0           9  0.261905\n",
       "0           1           0  0.360119"
      ]
     },
     "execution_count": 154,
     "metadata": {},
     "output_type": "execute_result"
    }
   ],
   "source": [
    "EER_distro_df_dict[\"window_size: 125, step_width: 250, scaler_clip: True\"].head(10)"
   ]
  },
  {
   "cell_type": "code",
   "execution_count": 142,
   "metadata": {},
   "outputs": [
    {
     "data": {
      "text/plain": [
       "dict_keys(['window_size: 125, step_width: 250, scaler_clip: True', 'window_size: 250, step_width: 250, scaler_clip: True', 'window_size: 500, step_width: 250, scaler_clip: True', 'window_size: 750, step_width: 250, scaler_clip: True', 'window_size: 1000, step_width: 250, scaler_clip: True', 'window_size: 1250, step_width: 250, scaler_clip: True', 'window_size: 1500, step_width: 250, scaler_clip: True', 'window_size: 1750, step_width: 250, scaler_clip: True', 'window_size: 2000, step_width: 250, scaler_clip: True'])"
      ]
     },
     "execution_count": 142,
     "metadata": {},
     "output_type": "execute_result"
    }
   ],
   "source": [
    "EER_distro_df_dict.keys()"
   ]
  },
  {
   "cell_type": "code",
   "execution_count": 114,
   "metadata": {
    "tags": []
   },
   "outputs": [
    {
     "name": "stdout",
     "output_type": "stream",
     "text": [
      "0    0.311363\n",
      "0    0.235292\n",
      "0    0.167712\n",
      "0    0.156379\n",
      "0    0.163357\n",
      "0    0.167944\n",
      "0    0.169635\n",
      "0    0.171837\n",
      "0    0.185374\n",
      "Name: Mean_EER, dtype: float64\n"
     ]
    }
   ],
   "source": [
    "print(Mean_EER_df[\"Mean_EER\"])"
   ]
  },
  {
   "cell_type": "code",
   "execution_count": 134,
   "metadata": {
    "tags": []
   },
   "outputs": [
    {
     "name": "stdout",
     "output_type": "stream",
     "text": [
      "window_size: 125, step_width: 250, scaler_clip: True\n",
      "window_size: 250, step_width: 250, scaler_clip: True\n",
      "window_size: 500, step_width: 250, scaler_clip: True\n",
      "window_size: 750, step_width: 250, scaler_clip: True\n",
      "window_size: 1000, step_width: 250, scaler_clip: True\n",
      "window_size: 1250, step_width: 250, scaler_clip: True\n",
      "window_size: 1500, step_width: 250, scaler_clip: True\n",
      "window_size: 1750, step_width: 250, scaler_clip: True\n",
      "window_size: 2000, step_width: 250, scaler_clip: True\n"
     ]
    }
   ],
   "source": [
    "for k in EER_distro_df_dict.keys():\n",
    "    print(k)\n",
    "#     plot_EER_distro(EER_distro_df_dict[k], k, save_file_name=f'WACA-NN1-{ \"\".join(\"-\".join(k.split(\", \")).split())}')"
   ]
  },
  {
   "cell_type": "code",
   "execution_count": 132,
   "metadata": {},
   "outputs": [
    {
     "data": {
      "text/plain": [
       "'window_size:2000-step_width:250-scaler_clip:True'"
      ]
     },
     "execution_count": 132,
     "metadata": {},
     "output_type": "execute_result"
    }
   ],
   "source": [
    " \"\".join(\"-\".join(k.split(\", \")).split())"
   ]
  },
  {
   "cell_type": "code",
   "execution_count": null,
   "metadata": {},
   "outputs": [],
   "source": [
    "y_col = \"EER\"\n",
    "mean_col = EER_distro_df[y_col].mean()\n",
    "mean_col"
   ]
  },
  {
   "cell_type": "code",
   "execution_count": null,
   "metadata": {},
   "outputs": [],
   "source": [
    "print(len(X_exp2_train_dic[0]))"
   ]
  },
  {
   "cell_type": "code",
   "execution_count": null,
   "metadata": {},
   "outputs": [],
   "source": [
    "# X_exp1_train_dic2[0]"
   ]
  },
  {
   "cell_type": "code",
   "execution_count": null,
   "metadata": {},
   "outputs": [],
   "source": [
    "OCSVM_train_train_WACA_features_dic[0].shape"
   ]
  },
  {
   "cell_type": "code",
   "execution_count": null,
   "metadata": {},
   "outputs": [],
   "source": [
    "get_new_scaler_dict[\"MinMaxScaler\"]().clip"
   ]
  },
  {
   "cell_type": "code",
   "execution_count": null,
   "metadata": {},
   "outputs": [],
   "source": [
    "# from sklearn.neighbors import NearestNeighbors\n",
    "# # X = np.array([[-1, -1], [-2, -1], [-3, -2], [1, 1], [2, 1], [3, 2]])\n",
    "# # nbrs = NearestNeighbors(n_neighbors=2, algorithm='ball_tree').fit(X)\n",
    "# gen_user_id = 0\n",
    "# nbrs = NearestNeighbors(n_neighbors=1, algorithm='ball_tree').fit(OCSVM_train_train_WACA_features_dic[gen_user_id])\n",
    "# # distances, indices = nbrs.kneighbors(X)\n",
    "# distFRR, indices = nbrs.kneighbors(OCSVM_train_valid_WACA_features_dic[gen_user_id])\n",
    "# distFRR = distFRR.mean(axis=1).reshape(distFRR.shape[0], 1)\n",
    "\n",
    "# adv_user_id = 16\n",
    "# distFAR, indices = nbrs.kneighbors(OCSVM_train_valid_WACA_features_dic[adv_user_id])\n",
    "# distFAR = distFAR.mean(axis=1).reshape(distFAR.shape[0], 1)\n",
    "# # distFAR"
   ]
  },
  {
   "cell_type": "code",
   "execution_count": null,
   "metadata": {},
   "outputs": [],
   "source": [
    "# df_EER = pd.DataFrame()\n",
    "# df_EER[\"dist_FAR\"], df_EER['dist_FRR'] = distFAR.ravel(), distFRR.ravel()"
   ]
  },
  {
   "cell_type": "code",
   "execution_count": null,
   "metadata": {},
   "outputs": [],
   "source": [
    "# r = getEER(distFRR, distFAR, thresholdList=np.arange(0, 1, 0.0001))\n",
    "# print(r['EER'])\n",
    "# r['EER_threshold']"
   ]
  },
  {
   "cell_type": "code",
   "execution_count": null,
   "metadata": {},
   "outputs": [],
   "source": [
    "# df_EER.plot()"
   ]
  },
  {
   "cell_type": "code",
   "execution_count": null,
   "metadata": {},
   "outputs": [],
   "source": [
    "# df_FRR.plot()"
   ]
  },
  {
   "cell_type": "code",
   "execution_count": null,
   "metadata": {},
   "outputs": [],
   "source": [
    "# all_dist = np.concatenate([distFAR, distFRR])\n",
    "# print(all_dist.shape)\n",
    "# scaler = MinMaxScaler().fit(all_dist)"
   ]
  },
  {
   "cell_type": "code",
   "execution_count": null,
   "metadata": {},
   "outputs": [],
   "source": [
    "# scaled_distFRR, scaled_distFAR = scaler.transform(distFRR), scaler.transform(distFAR)\n",
    "# r = getEER(scaled_distFRR, scaled_distFAR, thresholdList=np.arange(0, 1, 0.00001))\n",
    "# # r = getEER(scaled_distFRR, scaled_distFAR, thresholdList=[0.2])\n",
    "# print(r['EER'])\n",
    "# r['EER_threshold']"
   ]
  },
  {
   "cell_type": "code",
   "execution_count": null,
   "metadata": {},
   "outputs": [],
   "source": [
    "# plt.plot(scaled_distFRR)\n",
    "# plt.plot(np.where(scaled_distFAR<.01))"
   ]
  },
  {
   "cell_type": "code",
   "execution_count": null,
   "metadata": {},
   "outputs": [],
   "source": [
    "# temp_eer, tres = utils_eer(\n",
    "#         [-1, -1, -1, 1, 1, 1], [0, 0.9, 0.1, 0.74, 0.8, .9], return_threshold=True\n",
    "#     )\n",
    "# print(f\"EER: {temp_eer:.3f}, Threshold: {tres:.3f} <-- Arbitrary case\")"
   ]
  },
  {
   "cell_type": "code",
   "execution_count": null,
   "metadata": {},
   "outputs": [],
   "source": [
    "# getEER([-0.74, -0.8, -.9], [0, -0.9, -0.1], thresholdList=np.arange(-1, 1, 0.0001))['EER']"
   ]
  },
  {
   "cell_type": "code",
   "execution_count": null,
   "metadata": {},
   "outputs": [],
   "source": [
    "# y = [1]*distFRR.shape[0] + [-1]*distFAR.shape[0]\n",
    "# y_pred = 1-np.concatenate([scaled_distFRR, scaled_distFAR]).ravel() \n",
    "# y_pred.shape"
   ]
  },
  {
   "cell_type": "code",
   "execution_count": null,
   "metadata": {},
   "outputs": [],
   "source": [
    "# plt.plot(y_pred)"
   ]
  },
  {
   "cell_type": "code",
   "execution_count": null,
   "metadata": {},
   "outputs": [],
   "source": [
    "# temp_eer, tres = utils_eer(\n",
    "#         y, y_pred, return_threshold=True\n",
    "#     )\n",
    "# print(f\"EER: {temp_eer:.9f}, Threshold: {tres:.9f} <-- Arbitrary case\")"
   ]
  },
  {
   "cell_type": "code",
   "execution_count": null,
   "metadata": {},
   "outputs": [],
   "source": [
    "# EER_distro_df[\"gen_user_id\"].tail(50)"
   ]
  },
  {
   "cell_type": "code",
   "execution_count": null,
   "metadata": {},
   "outputs": [],
   "source": [
    "OCSVM_train_valid_WACA_features_dic[16][0]"
   ]
  },
  {
   "cell_type": "code",
   "execution_count": null,
   "metadata": {},
   "outputs": [],
   "source": [
    "OCSVM_train_valid_WACA_features_dic[16][0]"
   ]
  },
  {
   "cell_type": "code",
   "execution_count": null,
   "metadata": {},
   "outputs": [],
   "source": [
    "OCSVM_train_train_WACA_features_dic[8][0]"
   ]
  },
  {
   "cell_type": "code",
   "execution_count": null,
   "metadata": {},
   "outputs": [],
   "source": [
    "OCSVM_train_valid_WACA_features_dic[8][0]"
   ]
  },
  {
   "cell_type": "code",
   "execution_count": null,
   "metadata": {},
   "outputs": [],
   "source": [
    "OCSVM_train_valid_WACA_features_dic2[8][0][0]"
   ]
  },
  {
   "cell_type": "code",
   "execution_count": null,
   "metadata": {},
   "outputs": [],
   "source": [
    "OCSVM_train_train_WACA_features_dic2[8][0][0]"
   ]
  },
  {
   "cell_type": "code",
   "execution_count": null,
   "metadata": {},
   "outputs": [],
   "source": [
    "OCSVM_train_valid_WACA_features_dic[0][0]"
   ]
  },
  {
   "cell_type": "code",
   "execution_count": null,
   "metadata": {},
   "outputs": [],
   "source": [
    "OCSVM_train_valid_WACA_features_dic[28][0]"
   ]
  },
  {
   "cell_type": "code",
   "execution_count": null,
   "metadata": {},
   "outputs": [],
   "source": [
    "nbrs.kneighbors(OCSVM_train_valid_WACA_features_dic[16])"
   ]
  },
  {
   "cell_type": "code",
   "execution_count": null,
   "metadata": {},
   "outputs": [],
   "source": [
    "OCSVM_train_train_WACA_features_dic.keys()"
   ]
  },
  {
   "cell_type": "code",
   "execution_count": null,
   "metadata": {},
   "outputs": [],
   "source": [
    "np.arange(9).reshape(1,9)"
   ]
  },
  {
   "cell_type": "code",
   "execution_count": null,
   "metadata": {},
   "outputs": [],
   "source": [
    "# for k in OCSVM_train_valid_WACA_features_dic.keys():\n",
    "#     distances, indices = nbrs.kneighbors(OCSVM_train_valid_WACA_features_dic[k])\n",
    "#     plt.title(k)\n",
    "#     fig = plt.plot(distances.mean(axis=1))"
   ]
  },
  {
   "cell_type": "code",
   "execution_count": null,
   "metadata": {},
   "outputs": [],
   "source": [
    "OCSVM_train_valid_WACA_features_dic[0].shape"
   ]
  },
  {
   "cell_type": "code",
   "execution_count": null,
   "metadata": {},
   "outputs": [],
   "source": [
    "# indices"
   ]
  },
  {
   "cell_type": "code",
   "execution_count": null,
   "metadata": {},
   "outputs": [],
   "source": [
    "distances.shape"
   ]
  },
  {
   "cell_type": "code",
   "execution_count": null,
   "metadata": {},
   "outputs": [],
   "source": [
    "utils_ppp(P)"
   ]
  },
  {
   "cell_type": "code",
   "execution_count": null,
   "metadata": {},
   "outputs": [],
   "source": [
    "len(np.linspace(0.0001, 0.3))*len(np.logspace(-3, 3)) * 18"
   ]
  },
  {
   "cell_type": "code",
   "execution_count": null,
   "metadata": {},
   "outputs": [],
   "source": [
    "param_dist = {\n",
    "    \"model__gamma\": np.logspace(-3, 3), \n",
    "    \"model__nu\": np.linspace(0.0001, 0.3),\n",
    "#     'scaler': [StandardScaler(), MinMaxScaler(),\n",
    "#         Normalizer(), MaxAbsScaler()],\n",
    "#     \"selector__threshold\": np.linspace(0, 2, num=1000),\n",
    "\n",
    "}\n",
    "import warnings\n",
    "warnings.filterwarnings(\"ignore\")\n",
    "\n",
    "\n",
    "df_results = None  # Will be filled with randomsearch scores\n",
    "\n",
    "\n",
    "# Don't need to loop over to find the best PCA.\n",
    "for run in tqdm(range(3)):\n",
    "#     df_results[run] = {}\n",
    "    \n",
    "    for owner_idx in tqdm(\n",
    "        range(len(train_set)),\n",
    "        desc=\"Owner\",\n",
    "    ):\n",
    "        run_seed = SEED + run\n",
    "        train_dic, valid_test_dic = OCSVM_train_train_WACA_features_dic, OCSVM_train_valid_WACA_features_dic\n",
    "        X_vals_owner_idx = utils_create_cv_splits(owner_idx, train_dic, valid_test_dic, seed=run_seed)\n",
    "\n",
    "        X_test_regular = X_vals_owner_idx['X_test_regular'].copy()\n",
    "        X_test_anomalous = X_vals_owner_idx['X_test_anomalous'].copy()\n",
    "        \n",
    "#         print(X_vals_owner_idx['cv_splits'])\n",
    "        cv_splits = X_vals_owner_idx['cv_splits']\n",
    "        \n",
    "#         pca = PCA(n_components = run)\n",
    "#         X_train = pca.fit_transform(X_train)\n",
    "#         X_test_regular = pca.transform(X_test_regular)\n",
    "#         X_test_anomalous = pca.transform(X_test_anomalous)\n",
    "        \n",
    "#         pca_fs.add_user_pca(owner_idx, pca)\n",
    "        \n",
    "        clf = svm.OneClassSVM(kernel=P.ocsvm_kernel)\n",
    "        \n",
    "        pipeline = Pipeline([\n",
    "#                             ('scaler', StandardScaler()), \n",
    "                            ('scaler', get_new_scaler_dict[P.scaler]()), \n",
    "#                             ('scaler', Normalizer()),\n",
    "#                              ('pca', pca), \n",
    "#                              ('selector', VarianceThreshold()), \n",
    "                             ('model', clf)\n",
    "                            ])\n",
    "        \n",
    "        search = RandomizedSearchCV(\n",
    "            pipeline,\n",
    "            param_distributions=param_dist,\n",
    "            cv=cv_splits,\n",
    "#             n_iter=120,\n",
    "            n_iter=80,\n",
    "#             n_iter=480,\n",
    "            n_jobs=CORES,\n",
    "            refit=False,\n",
    "            scoring={\"eer\": utils_eer_scorer, \"accuracy\": \"accuracy\"},\n",
    "            verbose=1,\n",
    "            return_train_score=False,\n",
    "            iid=False,\n",
    "            error_score=\"raise\",\n",
    "            random_state=run_seed\n",
    "        )\n",
    "#         search = GridSearchCV(\n",
    "#             pipeline,\n",
    "#             param_grid=param_dist,\n",
    "#             cv=cv_splits,\n",
    "#             n_jobs=CORES,\n",
    "#             refit=False,\n",
    "#             scoring={\"eer\": utils_eer_scorer, \"accuracy\": \"accuracy\"},\n",
    "#             verbose=1,\n",
    "#             return_train_score=False,\n",
    "#             iid=False,\n",
    "#             error_score=\"raise\",\n",
    "#         )\n",
    "#         print(X_train.shape)\n",
    "#         print(X_test_anomalous.shape)\n",
    "\n",
    "        \n",
    "        search.fit(X_vals_owner_idx['X_train'], X_vals_owner_idx['y_train'])\n",
    "        impostors = [idx for idx in range(len(train_set)) if idx != owner_idx]\n",
    "\n",
    "        df_report = utils_cv_report(search, owner_idx, impostors)\n",
    "        df_report[\"run\"] = run\n",
    "        df_results = pd.concat([df_results, df_report], sort=False)\n",
    "        \n",
    "\n",
    "\n",
    "df_results"
   ]
  },
  {
   "cell_type": "code",
   "execution_count": null,
   "metadata": {},
   "outputs": [],
   "source": [
    "380*3"
   ]
  },
  {
   "cell_type": "code",
   "execution_count": null,
   "metadata": {},
   "outputs": [],
   "source": [
    "pd.set_option('display.max_columns', None)\n",
    "df_results[df_results['run']==1 ].groupby('owner').head(40)[6*20:8*20]"
   ]
  },
  {
   "cell_type": "code",
   "execution_count": null,
   "metadata": {},
   "outputs": [],
   "source": [
    "len(df_results[(df_results.rank_test_eer == 1) & (df_results.rank_test_accuracy == 1)])"
   ]
  },
  {
   "cell_type": "code",
   "execution_count": null,
   "metadata": {},
   "outputs": [],
   "source": [
    "pd.set_option('display.max_rows', None)\n",
    "df_results[(df_results.rank_test_eer == 1) & (df_results.rank_test_accuracy == 1)].groupby('owner').head(40)[:269]"
   ]
  },
  {
   "cell_type": "code",
   "execution_count": null,
   "metadata": {},
   "outputs": [],
   "source": [
    "1*19*3"
   ]
  },
  {
   "cell_type": "code",
   "execution_count": null,
   "metadata": {},
   "outputs": [],
   "source": [
    "df_results[df_results[\"owner\"] == 14].shape"
   ]
  },
  {
   "cell_type": "code",
   "execution_count": null,
   "metadata": {},
   "outputs": [],
   "source": [
    "# df_results[df_results[\"owner\"] == 14][ df_results[\"rank_test_eer\"] == 1]"
   ]
  },
  {
   "cell_type": "code",
   "execution_count": null,
   "metadata": {},
   "outputs": [],
   "source": [
    "display(\n",
    "    df_results[df_results[\"rank_test_eer\"] == 1]\n",
    "    .sort_values(\"mean_test_eer\")\n",
    "    .head(30)\n",
    ")"
   ]
  },
  {
   "cell_type": "code",
   "execution_count": null,
   "metadata": {},
   "outputs": [],
   "source": [
    "display(\n",
    "    df_results[df_results[\"rank_test_eer\"] == 1][\n",
    "        [\n",
    "            \"mean_fit_time\",\n",
    "            \"param_model__nu\",\n",
    "            \"param_model__gamma\",\n",
    "            \"mean_test_accuracy\",\n",
    "            \"std_test_accuracy\",\n",
    "            \"mean_test_eer\",\n",
    "            \"std_test_eer\",\n",
    "        ]\n",
    "    ].describe()\n",
    ")"
   ]
  },
  {
   "cell_type": "code",
   "execution_count": null,
   "metadata": {},
   "outputs": [],
   "source": [
    "fig = utils_plot_randomsearch_results(df_results, n_top=1)\n"
   ]
  },
  {
   "cell_type": "code",
   "execution_count": null,
   "metadata": {},
   "outputs": [],
   "source": [
    "P.ocsvm_nu, P.ocsvm_gamma = 0.098, 0.002\n",
    "# NORMALIZER-SCALER\n",
    "# P.ocsvm_nu, P.ocsvm_gamma = 0.074, 0.029\n",
    "# ROBUST-SCALER-250\n",
    "# P.ocsvm_nu, P.ocsvm_gamma = 0.037, 0.001\n",
    "# ROBUST-SCALER-1000-1000\n",
    "# P.ocsvm_nu, P.ocsvm_gamma = 0.141, 0.494\n",
    "# ROBUST-SCALER-1000-250\n",
    "# P.ocsvm_nu, P.ocsvm_gamma = 0.147, 0.655\n",
    "# P.ocsvm_nu, P.ocsvm_gamma = 0.098, 0.003"
   ]
  },
  {
   "cell_type": "code",
   "execution_count": null,
   "metadata": {},
   "outputs": [],
   "source": [
    "utils_ppp(P)"
   ]
  },
  {
   "cell_type": "code",
   "execution_count": null,
   "metadata": {},
   "outputs": [],
   "source": [
    "# utils_plot_acc_eer_dist(df_plot, \"Test Accuracy\")"
   ]
  },
  {
   "cell_type": "code",
   "execution_count": null,
   "metadata": {},
   "outputs": [],
   "source": [
    "# utils_plot_acc_eer_dist(df_results, \"Test EER\")"
   ]
  },
  {
   "cell_type": "code",
   "execution_count": null,
   "metadata": {},
   "outputs": [],
   "source": [
    "from sklearn.model_selection import KFold \n",
    "temp_split = KFold(n_splits=5, shuffle=False, random_state=None)\n",
    "temp_split.get_n_splits(X_exp2_test_dic[0])"
   ]
  },
  {
   "cell_type": "code",
   "execution_count": null,
   "metadata": {},
   "outputs": [],
   "source": [
    "for train_index, test_index in temp_split.split(X_exp2_test_dic[0]):\n",
    "    print(train_index, test_index)\n",
    "    print('---')"
   ]
  },
  {
   "cell_type": "code",
   "execution_count": null,
   "metadata": {},
   "outputs": [],
   "source": [
    "X_vals_owner_idx['X_train'][162: 243].sum()"
   ]
  },
  {
   "cell_type": "code",
   "execution_count": null,
   "metadata": {},
   "outputs": [],
   "source": [
    "X_vals_owner_idx['X_train'][243: 324].sum()"
   ]
  },
  {
   "cell_type": "code",
   "execution_count": null,
   "metadata": {},
   "outputs": [],
   "source": [
    "train_test_cv_splits[1]"
   ]
  },
  {
   "cell_type": "code",
   "execution_count": null,
   "metadata": {},
   "outputs": [],
   "source": [
    "test_df_results = None  # Will be filled with randomsearch scores\n",
    "for run in tqdm(range(5)):\n",
    "\n",
    "\n",
    "    for owner_idx in tqdm(\n",
    "        range(len(test_set)),\n",
    "        desc=\"Owner\",\n",
    "    ):\n",
    "\n",
    "        \n",
    "        run_seed = SEED + run\n",
    "        train_dic, valid_test_dic = OCSVM_test_train_WACA_features_dic, OCSVM_test_test_WACA_features_dic\n",
    "        X_vals_owner_idx = utils_create_cv_splits(owner_idx, train_dic, valid_test_dic, seed=run_seed)\n",
    "        \n",
    "        X_test_regular = X_vals_owner_idx['X_test_regular']\n",
    "        X_test_anomalous = X_vals_owner_idx['X_test_anomalous']\n",
    "\n",
    "        train_test_cv_splits = X_vals_owner_idx['cv_splits']\n",
    "        \n",
    "        \n",
    "        pca = PCA(n_components = run+3)\n",
    "#         X_train = pca.fit_transform(X_train)\n",
    "#         X_test_regular = pca.transform(X_test_regular)\n",
    "#         X_test_anomalous = pca.transform(X_test_anomalous)\n",
    "        \n",
    "        clf = svm.OneClassSVM(kernel=P.ocsvm_kernel, nu=P.ocsvm_nu, gamma=P.ocsvm_gamma)\n",
    "        pipeline = Pipeline([\n",
    "                            ('scaler', get_new_scaler_dict[P.scaler]()), \n",
    "#                             ('scaler2', Normalizer()),#best result\n",
    "#                              ('pca', pca), \n",
    "#                              ('selector', VarianceThreshold()), \n",
    "                            ('model', clf)\n",
    "                            ])\n",
    "        \n",
    "        scores = cross_validate(\n",
    "            pipeline,\n",
    "            X_vals_owner_idx['X_train'],\n",
    "            X_vals_owner_idx['y_train'],\n",
    "            cv=train_test_cv_splits,\n",
    "            scoring={\n",
    "                \"eer\": utils_eer_scorer,\n",
    "                \"accuracy\": \"accuracy\",\n",
    "                \"precision\": \"precision\",\n",
    "                \"recall\": \"recall\",\n",
    "            },\n",
    "            n_jobs=CORES,\n",
    "            verbose=1,\n",
    "            return_train_score=True,\n",
    "        )\n",
    "#         print(df_score[\"test_eer\"])\n",
    "        df_score = pd.DataFrame(scores)\n",
    "        df_score[\"owner\"] = test_set[owner_idx]\n",
    "        df_score[\"train_eer\"] = df_score[\"train_eer\"].abs()  # Revert scorer's signflip\n",
    "        df_score[\"test_eer\"] = df_score[\"test_eer\"].abs()\n",
    "        test_df_results = pd.concat([test_df_results, df_score], axis=0)\n",
    "        \n",
    "\n",
    "test_df_results.head()"
   ]
  },
  {
   "cell_type": "code",
   "execution_count": null,
   "metadata": {},
   "outputs": [],
   "source": [
    "test_df_plot = test_df_results.rename(\n",
    "    columns={\"test_accuracy\": \"Test Accuracy\", \"test_eer\": \"Test EER\", \"owner\": \"Owner\"}\n",
    ").astype({\"Owner\": str})"
   ]
  },
  {
   "cell_type": "code",
   "execution_count": null,
   "metadata": {},
   "outputs": [],
   "source": [
    "# test_df_plot[test_df_plot[\"Owner\"]==\"9\"]"
   ]
  },
  {
   "cell_type": "code",
   "execution_count": null,
   "metadata": {},
   "outputs": [],
   "source": [
    "fig = utils_plot_acc_eer_dist(test_df_plot, \"Test Accuracy\")"
   ]
  },
  {
   "cell_type": "code",
   "execution_count": null,
   "metadata": {},
   "outputs": [],
   "source": [
    "fig = utils_plot_acc_eer_dist(test_df_plot, \"Test EER\")\n"
   ]
  },
  {
   "cell_type": "code",
   "execution_count": null,
   "metadata": {},
   "outputs": [],
   "source": [
    "data = []\n",
    "total = None\n",
    "for k in tqdm(test_pca_results):\n",
    "    total = list(test_pca_results[k][\"total\"].values())\n",
    "    data.append([k] + total)\n",
    "    \n",
    "# Create the pandas DataFrame\n",
    "columns = [\"pca_n_components\"] + list(test_pca_results[k][\"total\"].keys())\n",
    "df = pd.DataFrame(data, columns = columns)\n",
    "df"
   ]
  },
  {
   "cell_type": "code",
   "execution_count": null,
   "metadata": {},
   "outputs": [],
   "source": [
    "fig, ax =plt.subplots(1,1, figsize=(8,8))\n",
    "\n",
    "ax.set_title('different pca_n_component values on test_set')\n",
    "g = sns.lineplot(x=df.pca_n_components, y=df.FAR, label = 'FAR', ax = ax)\n",
    "g = sns.lineplot(x=df.pca_n_components, y=df.FRR, label = 'FRR', ax = ax)\n",
    "g = sns.lineplot(x=df.pca_n_components, y=df.train_err_rate, label = 'train_err_rate', ax = ax)\n",
    "\n",
    "\n",
    "\n",
    "\n",
    "# g.set_xticks(y_ticks)\n",
    "ax.set_xlabel('n_components')\n",
    "\n",
    "\n",
    "fig.show()"
   ]
  },
  {
   "cell_type": "code",
   "execution_count": null,
   "metadata": {},
   "outputs": [],
   "source": [
    "# df_results[0]"
   ]
  },
  {
   "cell_type": "code",
   "execution_count": null,
   "metadata": {},
   "outputs": [],
   "source": [
    "data = []\n",
    "total = None\n",
    "for k in tqdm(train_pca_results):\n",
    "    total = list(train_pca_results[k][\"total\"].values())\n",
    "    data.append([k] + total)\n",
    "    \n",
    "# Create the pandas DataFrame\n",
    "columns = [\"pca_n_components\"] + list(train_pca_results[k][\"total\"].keys())\n",
    "df = pd.DataFrame(data, columns = columns)\n",
    "df"
   ]
  },
  {
   "cell_type": "code",
   "execution_count": null,
   "metadata": {},
   "outputs": [],
   "source": [
    "fig, ax =plt.subplots(1,1, figsize=(8,8))\n",
    "\n",
    "ax.set_title('different pca_n_component values on train_set')\n",
    "g = sns.lineplot(x=df.pca_n_components, y=df.FAR, label = 'FAR', ax = ax)\n",
    "g = sns.lineplot(x=df.pca_n_components, y=df.FRR, label = 'FRR', ax = ax)\n",
    "g = sns.lineplot(x=df.pca_n_components, y=df.train_err_rate, label = 'train_err_rate', ax = ax)\n",
    "\n",
    "\n",
    "\n",
    "\n",
    "# g.set_xticks(y_ticks)\n",
    "ax.set_xlabel('n_components')\n",
    "\n",
    "\n",
    "fig.show()"
   ]
  }
 ],
 "metadata": {
  "kernelspec": {
   "display_name": "Python 3 (ipykernel)",
   "language": "python",
   "name": "python3"
  },
  "language_info": {
   "codemirror_mode": {
    "name": "ipython",
    "version": 3
   },
   "file_extension": ".py",
   "mimetype": "text/x-python",
   "name": "python",
   "nbconvert_exporter": "python",
   "pygments_lexer": "ipython3",
   "version": "3.8.6"
  }
 },
 "nbformat": 4,
 "nbformat_minor": 4
}
