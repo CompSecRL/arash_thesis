{
 "cells": [
  {
   "cell_type": "code",
   "execution_count": 16,
   "metadata": {
    "_cell_guid": "3ae86968-b273-4857-a4fd-537b178d854b",
    "_uuid": "bcec77b5-0738-4d15-8aad-f6b59b3ac023",
    "collapsed": false,
    "jupyter": {
     "outputs_hidden": false
    },
    "tags": []
   },
   "outputs": [],
   "source": [
    "# !pip install --upgrade pip\n",
    "\n",
    "import pandas as pd # data processing, CSV file I/O (e.g. pd.read_csv)\n",
    "\n",
    "pd.plotting.register_matplotlib_converters()\n",
    "import matplotlib.pyplot as plt\n",
    "import seaborn as sns\n",
    "import numpy as np # linear algebra\n",
    "import tensorflow as tf\n",
    "import json\n",
    "import random\n",
    "\n",
    "# from scipy.special import entr\n",
    "from sklearn.preprocessing import StandardScaler, MinMaxScaler, Normalizer, MaxAbsScaler, RobustScaler, PowerTransformer"
   ]
  },
  {
   "cell_type": "code",
   "execution_count": 17,
   "metadata": {},
   "outputs": [
    {
     "name": "stdout",
     "output_type": "stream",
     "text": [
      "\u001b[32mSEED: 567\u001b[0m\n"
     ]
    }
   ],
   "source": [
    "CORES = -1\n",
    "SEED = 567\n",
    "\n",
    "# FINAL_EXP_RESULTS_PATH=\"final_experiments_results\"\n",
    "FINAL_EXP_RESULTS_PATH=\"clip=False_experiments_results\"\n",
    "\n",
    "print(f\"\\x1b[32mSEED: {SEED}\\x1b[0m\")\n",
    "\n",
    "# set up macros\n",
    "EXP_NUM_0=0\n",
    "EXP_NUM_1_1=1.1\n",
    "EXP_NUM_1_2=1.2\n",
    "EXP_NUM_2_1=2.1\n",
    "EXP_NUM_2_2=2.2\n",
    "EXP_NUM_3_1=3.1\n",
    "EXP_NUM_3_2=3.2\n",
    "EXP_NUM_4_1=4.1\n",
    "EXP_NUM_4_2=4.2\n",
    "EXP_NUM_5_1=5.1\n",
    "EXP_NUM_5_2=5.2\n",
    "EXP_NUM_6=6\n",
    "\n",
    "# to be added to the seed when reseting the np and tf\n",
    "EXP_NUM_2=2\n",
    "EXP_NUM_5=5\n",
    "\n",
    "CUT_OFF_FREQ_RANGE=list(range(1, 50, 4))\n",
    "EMA_SPAN_RANGE=list(range(1, 50, 4))\n",
    "SMA_WINSIZE_RANGE=list(range(1, 50, 4))\n",
    "OVERLAP_EXP_RANGE=list(range(1, 100, 4))\n",
    "\n",
    "\n",
    "# FOR EXP 2 AND 5 ACROSS NOTEBOOKS\n",
    "CHOICE_NUM_PAIRS=len(list(range(1, 50, 4)))\n",
    "\n",
    "WINDOW_SIZE_LST = [125, 250, 500, 750, 1000, 1250, 1500, 1750, 2000]\n",
    "WINDOW_SIZE_LST_NN = [125, 250, 500, 750, 1000]\n",
    "\n",
    "OVERLAP=0.5\n",
    "\n",
    "FILTER_ORDER=10\n",
    "SAMPLING_FREQ=100\n",
    "FILTFILT=1\n",
    "\n",
    "DASH_MACRO_NUM=-99999\n",
    "\n",
    "SAVE_PATH_NAME=\"SCNN_trained_models\"\n",
    "CLASSIFIER_TYPE_LST=[\"OCSVM\", \"kNN\", \"IF\", \"LOF\"]\n",
    "    \n",
    "\n",
    "\n",
    "def init_experiment_params(exp_config, exp_num=0):\n",
    "    \n",
    "    np.random.seed(SEED+exp_num)\n",
    "    tf.random.set_seed(SEED+exp_num)\n",
    "\n",
    "    exp_config.SMA_per_win_winsize=None\n",
    "    exp_config.EMA_per_win_span=None\n",
    "    exp_config.Butter_per_win_argdict=None\n",
    "    exp_config.cut_off_freq=None\n",
    "    exp_config.winsize=None\n",
    "    exp_config.span=None\n",
    "\n",
    "    exp_config.filter_order = FILTER_ORDER\n",
    "    exp_config.sampling_freq = SAMPLING_FREQ\n",
    "    exp_config.filtfilt = FILTFILT\n",
    "\n",
    "    print(\"reseting experiment params successful!\")"
   ]
  },
  {
   "cell_type": "code",
   "execution_count": 18,
   "metadata": {},
   "outputs": [],
   "source": [
    "NUM_PAIR_LIMIT_TRAIN_1000 = 43693\n",
    "NUM_PAIR_LIMIT_VALID_1000 = 23527\n",
    "\n",
    "NUM_PAIR_LIMIT_TRAIN_1500 = 18993\n",
    "NUM_PAIR_LIMIT_VALID_1500 = 10227\n",
    "\n",
    "NUM_PAIR_LIMIT_TRAIN_2000 = 10348\n",
    "NUM_PAIR_LIMIT_VALID_2000 = 5614"
   ]
  },
  {
   "cell_type": "code",
   "execution_count": 19,
   "metadata": {},
   "outputs": [
    {
     "data": {
      "text/plain": [
       "[({0, 1, 2, 3, 4, 5, 6, 9, 10, 12, 14, 15, 16, 18, 19, 22, 23, 24, 25, 28},\n",
       "  {7, 8, 11, 13, 17, 20, 21, 26, 27, 29}),\n",
       " ({0, 2, 4, 7, 8, 9, 10, 11, 12, 13, 14, 15, 17, 18, 20, 21, 23, 26, 27, 29},\n",
       "  {1, 3, 5, 6, 16, 19, 22, 24, 25, 28}),\n",
       " ({1, 3, 5, 6, 7, 8, 11, 13, 16, 17, 19, 20, 21, 22, 24, 25, 26, 27, 28, 29},\n",
       "  {0, 2, 4, 9, 10, 12, 14, 15, 18, 23})]"
      ]
     },
     "execution_count": 19,
     "metadata": {},
     "output_type": "execute_result"
    }
   ],
   "source": [
    "# user 47 is assumed to be the last element and take the index of 29 and this affects the code in making windows and preprocessing\n",
    "# as user 47 has shorter length time series and has to be handled separately\n",
    "user_ids = [1, 2, 3, 4, 5, 6, 7, 8, 19, 21, 22, 26, 27, 28, 29, 35, 36, 37, 38, 39, 40, 41, 42, 43, 44, 45, 46, 48, 49, 47]\n",
    "randomized_data_idx = list(range(len(user_ids)))\n",
    "random.Random(SEED).shuffle(randomized_data_idx)\n",
    "# split_idx = 2 * (len(randomized_data_idx)//3) + 1\n",
    "# train_set = randomized_data_idx[: split_idx]\n",
    "# test_set = randomized_data_idx[split_idx: ]\n",
    "# # train_set = randomized_data_idx\n",
    "# print(f\"train_set: {train_set}\\ntest_set: {test_set}\")\n",
    "# # train_set = test_set\n",
    "# # test_set = train_set\n",
    "# print(f\"train_set: {train_set}\\ntest_set: {test_set}\")\n",
    "\n",
    "# Split the data into 3 equal parts\n",
    "n = len(randomized_data_idx)\n",
    "fold_size = n // 3\n",
    "\n",
    "THREE_FOLD_CV=[]\n",
    "for i in range(3):\n",
    "    test = set(randomized_data_idx[i * fold_size: (i + 1) * fold_size])\n",
    "    train = set([x for x in randomized_data_idx if x not in test])\n",
    "    THREE_FOLD_CV.append((train, test))\n",
    "    \n",
    "THREE_FOLD_CV"
   ]
  },
  {
   "cell_type": "code",
   "execution_count": 33,
   "metadata": {},
   "outputs": [
    {
     "data": {
      "text/plain": [
       "dict_keys(['SCNN_3_1_conv_1_dense_arg_dict_default', 'SCNN_3_2_conv_1_dense_arg_dict_default', 'SCNN_1_3_conv_1_dense_arg_dict_default', 'SCNN_3_123_conv_1_dense_arg_dict_default'])"
      ]
     },
     "execution_count": 33,
     "metadata": {},
     "output_type": "execute_result"
    }
   ],
   "source": [
    "TRAINING_CONFIG_DICT_FILE_NAME_CV_DICT={\\\n",
    "                                        \"Butter\":\n",
    "                                        {0: \"results_dict_Butter33-cv0-1000-SCNN_3_123_conv_1_dense_arg_dict_default_thesis.json\",\n",
    "                                         1: \"results_dict_Butter33-cv1-1000-SCNN_3_123_conv_1_dense_arg_dict_default_thesis.json\",\n",
    "                                         2: \"results_dict_Butter33-cv2-1000-SCNN_3_123_conv_1_dense_arg_dict_default_thesis.json\",\n",
    "                                        },\n",
    "                                        \"Butter-EMA\":\n",
    "                                        {0: \"results_dict_Butter33-EMA20-cv0-1000-SCNN_3_123_conv_1_dense_arg_dict_default_thesis.json\",\n",
    "                                         1: \"results_dict_Butter33-EMA20-cv1-1000-SCNN_3_123_conv_1_dense_arg_dict_default_thesis.json\",\n",
    "                                         2: \"results_dict_Butter33-EMA20-cv2-1000-SCNN_3_123_conv_1_dense_arg_dict_default_thesis.json\",\n",
    "                                        },\n",
    "                                        \"Butter-SMA\":\n",
    "                                        {0: \"results_dict_Butter33-SMA20-cv0-1000-SCNN_3_123_conv_1_dense_arg_dict_default_thesis.json\",\n",
    "                                         1: \"results_dict_Butter33-SMA20-cv1-1000-SCNN_3_123_conv_1_dense_arg_dict_default_thesis.json\",\n",
    "                                         2: \"results_dict_Butter33-SMA20-cv2-1000-SCNN_3_123_conv_1_dense_arg_dict_default_thesis.json\",\n",
    "                                        },\n",
    "                                        \n",
    "}\n",
    "\n",
    "# TRAINING_CONFIG_DICT_FILE_NAME=\"model_archi_performance_lr_dict.json\"\n",
    "TRAINING_CONFIG_DICT_FOLDER_PATH=\"siamese_cnn_results_final\"\n",
    "\n",
    "TRAINING_CONFIG_CV_DICT={\"Butter\": {},\n",
    "                         \"Butter-EMA\": {},\n",
    "                         \"Butter-SMA\": {},\n",
    "                        }\n",
    "\n",
    "for prep_key in TRAINING_CONFIG_CV_DICT:\n",
    "    \n",
    "    for cv_split_idx in range(len(THREE_FOLD_CV)):\n",
    "        \n",
    "        training_config_dict_file_name = TRAINING_CONFIG_DICT_FILE_NAME_CV_DICT[prep_key][cv_split_idx]\n",
    "        # print(training_config_dict_file_name)\n",
    "        \n",
    "        with open(f\"{TRAINING_CONFIG_DICT_FOLDER_PATH}/{training_config_dict_file_name}\", 'r') as file:\n",
    "            \n",
    "            training_config_dict=json.load(file)\n",
    "            \n",
    "        TRAINING_CONFIG_CV_DICT[prep_key][cv_split_idx]=training_config_dict\n",
    "        \n",
    "TRAINING_CONFIG_CV_DICT[\"Butter\"][0]['1000'].keys()"
   ]
  },
  {
   "cell_type": "code",
   "execution_count": 1,
   "metadata": {},
   "outputs": [
    {
     "data": {
      "text/plain": [
       "[1, 5, 9, 13, 17, 21, 25, 29, 33, 37, 41, 45, 49]"
      ]
     },
     "execution_count": 1,
     "metadata": {},
     "output_type": "execute_result"
    }
   ],
   "source": [
    "list(range(1, 50, 4))"
   ]
  },
  {
   "cell_type": "code",
   "execution_count": 16,
   "metadata": {},
   "outputs": [],
   "source": [
    "MAGENTA = (202/255, 18/255, 125/255)"
   ]
  },
  {
   "cell_type": "code",
   "execution_count": null,
   "metadata": {},
   "outputs": [],
   "source": [
    "METRIC_WINSIZE_TABLE_COLS = [(\"Window Size\", 125), (\"Window Size\", 250), (\"Window Size\", 500), (\"Window Size\", 750), (\"Window Size\", 1000), \n",
    "                 (\"Window Size\", 1250), (\"Window Size\", 1500), (\"Window Size\", 1750), (\"Window Size\", 2000), (\"\", 'mean'), (\"\", 'variance')]\n",
    "\n",
    "STYLER_ERR_FORMAT_DICT={key: \"{:.4f}\" for key in METRIC_WINSIZE_TABLE_COLS}\n",
    "STYLER_IMPROVEMENT_FORMAT_DICT={key: \"{:.2f}\" for key in METRIC_WINSIZE_TABLE_COLS}"
   ]
  },
  {
   "cell_type": "code",
   "execution_count": 17,
   "metadata": {},
   "outputs": [],
   "source": [
    "get_new_scaler_dict = {\"StandardScaler\": StandardScaler, \"MinMaxScaler\": MinMaxScaler, \"Normalizer\": Normalizer, \n",
    "                       \"MaxAbsScaler\": MaxAbsScaler, \"RobustScaler\": RobustScaler, \"PowerTransformer\": PowerTransformer}\n",
    "\n",
    "sns.set(rc={'figure.figsize':(12,8), 'figure.dpi': 180, \"legend.fontsize\": 26, \"axes.labelsize\": 26, #\"xtick.fontsize\": 26, \"ytick.fontsize\": 20, \n",
    "            \"xtick.labelsize\": 20, \"ytick.labelsize\": 20})\n",
    "\n",
    "err_distro_rc={'figure.figsize':(20,10), 'figure.dpi': 180, \"legend.fontsize\": 30, \"axes.labelsize\": 30, #\"xtick.fontsize\": 26, \"ytick.fontsize\": 20, \n",
    "            \"xtick.labelsize\": 25, \"ytick.labelsize\": 25}"
   ]
  },
  {
   "cell_type": "code",
   "execution_count": 18,
   "metadata": {},
   "outputs": [],
   "source": [
    "sns.set(rc={'figure.figsize':(12,8), 'figure.dpi': 180, \"legend.fontsize\": 9, \"axes.labelsize\": 11, #\"xtick.fontsize\": 26, \"ytick.fontsize\": 20, \n",
    "            \"xtick.labelsize\": 11, \"ytick.labelsize\": 11})\n",
    "# sns.set(rc={'figure.figsize':(12,8), 'figure.dpi': 180, \"legend.fontsize\":11, \"axes.labelsize\": 11, #\"xtick.fontsize\": 26, \"ytick.fontsize\": 20, \n",
    "#             \"xtick.labelsize\": 11, \"ytick.labelsize\": 11})\n",
    "\n",
    "sns.set_style(\"darkgrid\")\n",
    "sns.set_context(\"paper\")\n",
    "sns.set(font=\"sans\")\n",
    "sns.set_palette(\"tab10\")\n",
    "\n",
    "# for plain matplotlib:\n",
    "plt.style.use([\"seaborn-darkgrid\", \"seaborn-paper\"])\n",
    "plt.rc(\"font\", family=\"sans\", size=8)\n",
    "plt.rc(\"axes\", titlesize=6)\n",
    "plt.rc(\"axes\", labelsize=6)\n",
    "plt.rc(\"xtick\", labelsize=6)\n",
    "plt.rc(\"ytick\", labelsize=6)\n",
    "plt.rc(\"xtick.major\", pad=1)\n",
    "plt.rc(\"ytick.major\", pad=3)\n",
    "plt.rc(\"legend\", fontsize=6)\n",
    "plt.rc(\"figure\", titlesize=6)"
   ]
  },
  {
   "cell_type": "code",
   "execution_count": 19,
   "metadata": {},
   "outputs": [],
   "source": [
    "# Define a style I use a lot for boxplots:\n",
    "utils_boxplot_style = dict(\n",
    "    color=\"tab:blue\",\n",
    "    linewidth=0.5,\n",
    "    saturation=1,\n",
    "    width=0.7,\n",
    "    flierprops=dict(\n",
    "        marker=\"o\", markersize=2, markerfacecolor=\"none\", markeredgewidth=0.5\n",
    "    ),\n",
    ")\n",
    "\n",
    "# Define a style I use a lot for lineplots:\n",
    "utils_lineplot_style = dict(\n",
    "    color=\"tab:blue\", linewidth=0.5, marker=\"o\", markersize=3, markeredgewidth=0.5\n",
    ")"
   ]
  },
  {
   "cell_type": "code",
   "execution_count": 32,
   "metadata": {
    "tags": []
   },
   "outputs": [
    {
     "name": "stdout",
     "output_type": "stream",
     "text": [
      "--------------------\u001b[32mSEED and CONSTANTS imported\u001b[0m--------------------\n"
     ]
    }
   ],
   "source": [
    "print(f\"FINAL_EXP_RESULTS_PATH: {FINAL_EXP_RESULTS_PATH}\")\n",
    "print(20*'-' + \"\\x1b[32mSEED and CONSTANTS imported\\x1b[0m\" + 20*'-')"
   ]
  },
  {
   "cell_type": "code",
   "execution_count": null,
   "metadata": {},
   "outputs": [],
   "source": []
  }
 ],
 "metadata": {
  "kernelspec": {
   "display_name": "Python 3 (ipykernel)",
   "language": "python",
   "name": "python3"
  },
  "language_info": {
   "codemirror_mode": {
    "name": "ipython",
    "version": 3
   },
   "file_extension": ".py",
   "mimetype": "text/x-python",
   "name": "python",
   "nbconvert_exporter": "python",
   "pygments_lexer": "ipython3",
   "version": "3.9.10"
  }
 },
 "nbformat": 4,
 "nbformat_minor": 4
}
