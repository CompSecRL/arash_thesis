{
 "cells": [
  {
   "cell_type": "code",
   "execution_count": 5,
   "metadata": {
    "_cell_guid": "3ae86968-b273-4857-a4fd-537b178d854b",
    "_uuid": "bcec77b5-0738-4d15-8aad-f6b59b3ac023",
    "collapsed": false,
    "jupyter": {
     "outputs_hidden": false
    },
    "tags": []
   },
   "outputs": [],
   "source": [
    "# !pip install --upgrade pip\n",
    "\n",
    "import pandas as pd # data processing, CSV file I/O (e.g. pd.read_csv)\n",
    "\n",
    "pd.plotting.register_matplotlib_converters()\n",
    "import matplotlib.pyplot as plt\n",
    "import seaborn as sns\n",
    "import numpy as np # linear algebra\n",
    "import tensorflow as tf\n",
    "import json\n",
    "\n",
    "# from scipy.special import entr\n",
    "from sklearn.preprocessing import StandardScaler, MinMaxScaler, Normalizer, MaxAbsScaler, RobustScaler, PowerTransformer"
   ]
  },
  {
   "cell_type": "code",
   "execution_count": 6,
   "metadata": {},
   "outputs": [
    {
     "name": "stdout",
     "output_type": "stream",
     "text": [
      "\u001b[32mSEED: 567\u001b[0m\n"
     ]
    }
   ],
   "source": [
    "CORES = -1\n",
    "SEED = 567\n",
    "FINAL_EXP_RESULTS_PATH=\"final_experiments_results\"\n",
    "print(f\"\\x1b[32mSEED: {SEED}\\x1b[0m\")\n",
    "\n",
    "# set up macros\n",
    "EXP_NUM_0=0\n",
    "EXP_NUM_1_1=1.1\n",
    "EXP_NUM_1_2=1.2\n",
    "EXP_NUM_2_1=2.1\n",
    "EXP_NUM_2_2=2.2\n",
    "EXP_NUM_3_1=3.1\n",
    "EXP_NUM_3_2=3.2\n",
    "EXP_NUM_4_1=4.1\n",
    "EXP_NUM_4_2=4.2\n",
    "EXP_NUM_5_1=5.1\n",
    "EXP_NUM_5_2=5.2\n",
    "EXP_NUM_6=6\n",
    "\n",
    "# to be added to the seed when reseting the np and tf\n",
    "EXP_NUM_2=2\n",
    "EXP_NUM_5=5\n",
    "\n",
    "CUT_OFF_FREQ_RANGE=list(range(1, 50, 4))\n",
    "EMA_SPAN_RANGE=list(range(1, 50, 4))\n",
    "SMA_WINSIZE_RANGE=list(range(1, 50, 4))\n",
    "OVERLAP_EXP_RANGE=list(range(1, 100, 4))\n",
    "\n",
    "\n",
    "# FOR EXP 2 AND 5 ACROSS NOTEBOOKS\n",
    "CHOICE_NUM_PAIRS=len(list(range(1, 50, 4)))\n",
    "\n",
    "WINDOW_SIZE_LST = [125, 250, 500, 750, 1000, 1250, 1500, 1750, 2000]\n",
    "OVERLAP=0.5\n",
    "\n",
    "FILTER_ORDER=10\n",
    "SAMPLING_FREQ=100\n",
    "FILTFILT=1\n",
    "\n",
    "DASH_MACRO_NUM=-99999\n",
    "\n",
    "SAVE_PATH_NAME=\"SCNN_trained_models\"\n",
    "CLASSIFIER_TYPE_LST=[\"OCSVM\", \"kNN\", \"IF\", \"LOF\"]\n",
    "\n",
    "TRAINING_CONFIG_DICT_FILE_NAME=\"model_archi_performance_lr_dict.json\"\n",
    "TRAINING_CONFIG_DICT_FOLDER_PATH=\"siamese_cnn_results_final\"\n",
    "with open(f\"{TRAINING_CONFIG_DICT_FOLDER_PATH}/{TRAINING_CONFIG_DICT_FILE_NAME}\", 'r') as file:\n",
    "    TRAINING_CONFIG_DICT=json.load(file)\n",
    "    \n",
    "\n",
    "\n",
    "def init_experiment_params(exp_config, exp_num=0):\n",
    "    \n",
    "    np.random.seed(SEED+exp_num)\n",
    "    tf.random.set_seed(SEED+exp_num)\n",
    "\n",
    "    exp_config.SMA_per_win_winsize=None\n",
    "    exp_config.EMA_per_win_span=None\n",
    "    exp_config.Butter_per_win_argdict=None\n",
    "    exp_config.cut_off_freq=None\n",
    "    exp_config.winsize=None\n",
    "    exp_config.span=None\n",
    "\n",
    "    exp_config.filter_order = FILTER_ORDER\n",
    "    exp_config.sampling_freq = SAMPLING_FREQ\n",
    "    exp_config.filtfilt = FILTFILT\n",
    "\n",
    "    print(\"reseting experiment params successful!\")"
   ]
  },
  {
   "cell_type": "code",
   "execution_count": 1,
   "metadata": {},
   "outputs": [
    {
     "data": {
      "text/plain": [
       "[1, 5, 9, 13, 17, 21, 25, 29, 33, 37, 41, 45, 49]"
      ]
     },
     "execution_count": 1,
     "metadata": {},
     "output_type": "execute_result"
    }
   ],
   "source": [
    "list(range(1, 50, 4))"
   ]
  },
  {
   "cell_type": "code",
   "execution_count": 10,
   "metadata": {},
   "outputs": [
    {
     "data": {
      "text/plain": [
       "['SCNN_1_3_conv_1_dense_arg_dict_default',\n",
       " 'SCNN_3_123_conv_1_dense_arg_dict_default',\n",
       " 'SCNN_3_1_conv_1_dense_arg_dict_default',\n",
       " 'SCNN_1_2_conv_1_dense_arg_dict_default',\n",
       " 'SCNN_1_1_conv_1_dense_arg_dict_default',\n",
       " 'SCNN_1_2_conv_2_dense_arg_dict_default',\n",
       " 'SCNN_1_5_conv_1_dense_arg_dict_default',\n",
       " 'SCNN_4_1234_conv_1_dense_arg_dict_default']"
      ]
     },
     "execution_count": 10,
     "metadata": {},
     "output_type": "execute_result"
    }
   ],
   "source": []
  },
  {
   "cell_type": "code",
   "execution_count": 16,
   "metadata": {},
   "outputs": [],
   "source": [
    "MAGENTA = (202/255, 18/255, 125/255)"
   ]
  },
  {
   "cell_type": "code",
   "execution_count": null,
   "metadata": {},
   "outputs": [],
   "source": [
    "METRIC_WINSIZE_TABLE_COLS = [(\"Window Size\", 125), (\"Window Size\", 250), (\"Window Size\", 500), (\"Window Size\", 750), (\"Window Size\", 1000), \n",
    "                 (\"Window Size\", 1250), (\"Window Size\", 1500), (\"Window Size\", 1750), (\"Window Size\", 2000), (\"\", 'mean'), (\"\", 'variance')]\n",
    "STYLER_ERR_FORMAT_DICT={key: \"{:.4f}\" for key in METRIC_WINSIZE_TABLE_COLS}\n",
    "STYLER_IMPROVEMENT_FORMAT_DICT={key: \"{:.2f}\" for key in METRIC_WINSIZE_TABLE_COLS}"
   ]
  },
  {
   "cell_type": "code",
   "execution_count": 17,
   "metadata": {},
   "outputs": [],
   "source": [
    "get_new_scaler_dict = {\"StandardScaler\": StandardScaler, \"MinMaxScaler\": MinMaxScaler, \"Normalizer\": Normalizer, \n",
    "                       \"MaxAbsScaler\": MaxAbsScaler, \"RobustScaler\": RobustScaler, \"PowerTransformer\": PowerTransformer}\n",
    "\n",
    "sns.set(rc={'figure.figsize':(12,8), 'figure.dpi': 180, \"legend.fontsize\": 26, \"axes.labelsize\": 26, #\"xtick.fontsize\": 26, \"ytick.fontsize\": 20, \n",
    "            \"xtick.labelsize\": 20, \"ytick.labelsize\": 20})\n",
    "\n",
    "err_distro_rc={'figure.figsize':(20,10), 'figure.dpi': 180, \"legend.fontsize\": 30, \"axes.labelsize\": 30, #\"xtick.fontsize\": 26, \"ytick.fontsize\": 20, \n",
    "            \"xtick.labelsize\": 25, \"ytick.labelsize\": 25}"
   ]
  },
  {
   "cell_type": "code",
   "execution_count": 18,
   "metadata": {},
   "outputs": [],
   "source": [
    "sns.set(rc={'figure.figsize':(12,8), 'figure.dpi': 180, \"legend.fontsize\": 9, \"axes.labelsize\": 11, #\"xtick.fontsize\": 26, \"ytick.fontsize\": 20, \n",
    "            \"xtick.labelsize\": 11, \"ytick.labelsize\": 11})\n",
    "# sns.set(rc={'figure.figsize':(12,8), 'figure.dpi': 180, \"legend.fontsize\":11, \"axes.labelsize\": 11, #\"xtick.fontsize\": 26, \"ytick.fontsize\": 20, \n",
    "#             \"xtick.labelsize\": 11, \"ytick.labelsize\": 11})\n",
    "\n",
    "sns.set_style(\"darkgrid\")\n",
    "sns.set_context(\"paper\")\n",
    "sns.set(font=\"sans\")\n",
    "sns.set_palette(\"tab10\")\n",
    "\n",
    "# for plain matplotlib:\n",
    "plt.style.use([\"seaborn-darkgrid\", \"seaborn-paper\"])\n",
    "plt.rc(\"font\", family=\"sans\", size=8)\n",
    "plt.rc(\"axes\", titlesize=6)\n",
    "plt.rc(\"axes\", labelsize=6)\n",
    "plt.rc(\"xtick\", labelsize=6)\n",
    "plt.rc(\"ytick\", labelsize=6)\n",
    "plt.rc(\"xtick.major\", pad=1)\n",
    "plt.rc(\"ytick.major\", pad=3)\n",
    "plt.rc(\"legend\", fontsize=6)\n",
    "plt.rc(\"figure\", titlesize=6)"
   ]
  },
  {
   "cell_type": "code",
   "execution_count": 19,
   "metadata": {},
   "outputs": [],
   "source": [
    "# Define a style I use a lot for boxplots:\n",
    "utils_boxplot_style = dict(\n",
    "    color=\"tab:blue\",\n",
    "    linewidth=0.5,\n",
    "    saturation=1,\n",
    "    width=0.7,\n",
    "    flierprops=dict(\n",
    "        marker=\"o\", markersize=2, markerfacecolor=\"none\", markeredgewidth=0.5\n",
    "    ),\n",
    ")\n",
    "\n",
    "# Define a style I use a lot for lineplots:\n",
    "utils_lineplot_style = dict(\n",
    "    color=\"tab:blue\", linewidth=0.5, marker=\"o\", markersize=3, markeredgewidth=0.5\n",
    ")"
   ]
  },
  {
   "cell_type": "code",
   "execution_count": 32,
   "metadata": {
    "tags": []
   },
   "outputs": [
    {
     "name": "stdout",
     "output_type": "stream",
     "text": [
      "--------------------\u001b[32mSEED and CONSTANTS imported\u001b[0m--------------------\n"
     ]
    }
   ],
   "source": [
    "print(20*'-' + \"\\x1b[32mSEED and CONSTANTS imported\\x1b[0m\" + 20*'-')"
   ]
  },
  {
   "cell_type": "code",
   "execution_count": null,
   "metadata": {},
   "outputs": [],
   "source": []
  }
 ],
 "metadata": {
  "kernelspec": {
   "display_name": "Python 3 (ipykernel)",
   "language": "python",
   "name": "python3"
  },
  "language_info": {
   "codemirror_mode": {
    "name": "ipython",
    "version": 3
   },
   "file_extension": ".py",
   "mimetype": "text/x-python",
   "name": "python",
   "nbconvert_exporter": "python",
   "pygments_lexer": "ipython3",
   "version": "3.9.10"
  }
 },
 "nbformat": 4,
 "nbformat_minor": 4
}
