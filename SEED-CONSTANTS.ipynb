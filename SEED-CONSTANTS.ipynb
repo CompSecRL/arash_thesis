{
 "cells": [
  {
   "cell_type": "code",
   "execution_count": 14,
   "metadata": {
    "_cell_guid": "3ae86968-b273-4857-a4fd-537b178d854b",
    "_uuid": "bcec77b5-0738-4d15-8aad-f6b59b3ac023",
    "collapsed": false,
    "jupyter": {
     "outputs_hidden": false
    },
    "tags": []
   },
   "outputs": [
    {
     "name": "stdout",
     "output_type": "stream",
     "text": [
      "Requirement already satisfied: pip in /opt/conda/lib/python3.9/site-packages (23.0.1)\n"
     ]
    }
   ],
   "source": [
    "!pip install --upgrade pip\n",
    "\n",
    "import pandas as pd # data processing, CSV file I/O (e.g. pd.read_csv)\n",
    "\n",
    "pd.plotting.register_matplotlib_converters()\n",
    "import matplotlib.pyplot as plt\n",
    "import seaborn as sns\n",
    "\n",
    "# from scipy.special import entr\n",
    "from sklearn.preprocessing import StandardScaler, MinMaxScaler, Normalizer, MaxAbsScaler, RobustScaler, PowerTransformer"
   ]
  },
  {
   "cell_type": "code",
   "execution_count": 15,
   "metadata": {},
   "outputs": [],
   "source": [
    "CORES = -1\n",
    "SEED = 567"
   ]
  },
  {
   "cell_type": "code",
   "execution_count": 16,
   "metadata": {},
   "outputs": [],
   "source": [
    "MAGENTA = (202/255, 18/255, 125/255)"
   ]
  },
  {
   "cell_type": "code",
   "execution_count": 17,
   "metadata": {},
   "outputs": [],
   "source": [
    "get_new_scaler_dict = {\"StandardScaler\": StandardScaler, \"MinMaxScaler\": MinMaxScaler, \"Normalizer\": Normalizer, \n",
    "                       \"MaxAbsScaler\": MaxAbsScaler, \"RobustScaler\": RobustScaler, \"PowerTransformer\": PowerTransformer}\n",
    "\n",
    "sns.set(rc={'figure.figsize':(12,8), 'figure.dpi': 180, \"legend.fontsize\": 26, \"axes.labelsize\": 26, #\"xtick.fontsize\": 26, \"ytick.fontsize\": 20, \n",
    "            \"xtick.labelsize\": 20, \"ytick.labelsize\": 20})\n",
    "\n",
    "err_distro_rc={'figure.figsize':(20,10), 'figure.dpi': 180, \"legend.fontsize\": 30, \"axes.labelsize\": 30, #\"xtick.fontsize\": 26, \"ytick.fontsize\": 20, \n",
    "            \"xtick.labelsize\": 25, \"ytick.labelsize\": 25}"
   ]
  },
  {
   "cell_type": "code",
   "execution_count": 18,
   "metadata": {},
   "outputs": [],
   "source": [
    "sns.set(rc={'figure.figsize':(12,8), 'figure.dpi': 180, \"legend.fontsize\": 9, \"axes.labelsize\": 11, #\"xtick.fontsize\": 26, \"ytick.fontsize\": 20, \n",
    "            \"xtick.labelsize\": 11, \"ytick.labelsize\": 11})\n",
    "# sns.set(rc={'figure.figsize':(12,8), 'figure.dpi': 180, \"legend.fontsize\":11, \"axes.labelsize\": 11, #\"xtick.fontsize\": 26, \"ytick.fontsize\": 20, \n",
    "#             \"xtick.labelsize\": 11, \"ytick.labelsize\": 11})\n",
    "\n",
    "sns.set_style(\"darkgrid\")\n",
    "sns.set_context(\"paper\")\n",
    "sns.set(font=\"sans\")\n",
    "sns.set_palette(\"tab10\")\n",
    "\n",
    "# for plain matplotlib:\n",
    "plt.style.use([\"seaborn-darkgrid\", \"seaborn-paper\"])\n",
    "plt.rc(\"font\", family=\"sans\", size=8)\n",
    "plt.rc(\"axes\", titlesize=6)\n",
    "plt.rc(\"axes\", labelsize=6)\n",
    "plt.rc(\"xtick\", labelsize=6)\n",
    "plt.rc(\"ytick\", labelsize=6)\n",
    "plt.rc(\"xtick.major\", pad=1)\n",
    "plt.rc(\"ytick.major\", pad=3)\n",
    "plt.rc(\"legend\", fontsize=6)\n",
    "plt.rc(\"figure\", titlesize=6)"
   ]
  },
  {
   "cell_type": "code",
   "execution_count": 19,
   "metadata": {},
   "outputs": [],
   "source": [
    "# Define a style I use a lot for boxplots:\n",
    "utils_boxplot_style = dict(\n",
    "    color=\"tab:blue\",\n",
    "    linewidth=0.5,\n",
    "    saturation=1,\n",
    "    width=0.7,\n",
    "    flierprops=dict(\n",
    "        marker=\"o\", markersize=2, markerfacecolor=\"none\", markeredgewidth=0.5\n",
    "    ),\n",
    ")\n",
    "\n",
    "# Define a style I use a lot for lineplots:\n",
    "utils_lineplot_style = dict(\n",
    "    color=\"tab:blue\", linewidth=0.5, marker=\"o\", markersize=3, markeredgewidth=0.5\n",
    ")"
   ]
  },
  {
   "cell_type": "code",
   "execution_count": 20,
   "metadata": {
    "tags": []
   },
   "outputs": [
    {
     "name": "stdout",
     "output_type": "stream",
     "text": [
      "\u001b[32m\"SEED and CONSTANTS imported\"\u001b[0m\n"
     ]
    }
   ],
   "source": [
    "print(\"\\x1b[32m\\\"SEED and CONSTANTS imported\\\"\\x1b[0m\")"
   ]
  }
 ],
 "metadata": {
  "kernelspec": {
   "display_name": "Python 3 (ipykernel)",
   "language": "python",
   "name": "python3"
  },
  "language_info": {
   "codemirror_mode": {
    "name": "ipython",
    "version": 3
   },
   "file_extension": ".py",
   "mimetype": "text/x-python",
   "name": "python",
   "nbconvert_exporter": "python",
   "pygments_lexer": "ipython3",
   "version": "3.9.10"
  }
 },
 "nbformat": 4,
 "nbformat_minor": 4
}
